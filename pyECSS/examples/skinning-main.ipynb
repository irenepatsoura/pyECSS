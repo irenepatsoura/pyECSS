{
 "cells": [
  {
   "cell_type": "code",
   "execution_count": 2,
   "metadata": {},
   "outputs": [],
   "source": [
    "# import sys\n",
    "# path to module files\n",
    "# sys.path.insert(1, '../python_files/') # insert at 1, 0 is the script path (or '' in REPL)\n",
    "\n",
    "from gate_module import *\n",
    "import time"
   ]
  },
  {
   "cell_type": "code",
   "execution_count": 2,
   "metadata": {},
   "outputs": [],
   "source": [
    "# =================================================\n",
    "# LOADING INITIAL SCENE AND GENERATING TREE DATA\n",
    "# =================================================\n",
    "\n",
    "scene = load(filename='astroBoy_walk.dae',file_type='dae')\n",
    "mesh_id = 3\n",
    "\n",
    "# scene = load(models/ManosModelc.dae')\n",
    "# mesh_id = 0\n",
    "\n",
    "# scene = load('../models/manosModeld.dae')\n",
    "# mesh_id = 0\n",
    "\n"
   ]
  },
  {
   "cell_type": "markdown",
   "metadata": {},
   "source": []
  },
  {
   "cell_type": "code",
   "execution_count": 3,
   "metadata": {},
   "outputs": [],
   "source": [
    "\n",
    "mesh = scene.meshes[mesh_id]\n",
    "v = mesh.vertices\n",
    "f = mesh.faces\n",
    "b = mesh.bones\n",
    "vw = vertex_weight(len(v))\n",
    "vw.populate(b)\n"
   ]
  },
  {
   "cell_type": "code",
   "execution_count": 4,
   "metadata": {
    "tags": []
   },
   "outputs": [
    {
     "name": "stdout",
     "output_type": "stream",
     "text": [
      "1261\n",
      "1118\n",
      "[[ 0.          0.288277    0.95754701 -2.41152   ]\n",
      " [ 0.          0.95754701 -0.288277   -8.01922035]\n",
      " [-1.          0.          0.          0.        ]\n",
      " [ 0.          0.          0.          1.        ]]\n",
      "[[0.01 0.   0.   0.  ]\n",
      " [0.   0.01 0.   0.  ]\n",
      " [0.   0.   0.01 0.  ]\n",
      " [0.   0.   0.   1.  ]]\n",
      "astroBoy_newSkeleton_spine01\n",
      "[]\n"
     ]
    }
   ],
   "source": [
    "print(len(np.unique(v)))\n",
    "print(len(f))\n",
    "\n",
    "print(b[0].offsetmatrix)\n",
    "print(scene.rootnode.transformation)\n",
    "print(b[0])\n",
    "# print(scene.rootnode.children)\n",
    "print(scene.rootnode.children[0].children)"
   ]
  },
  {
   "cell_type": "markdown",
   "metadata": {},
   "source": [
    "## EUCLIDEAN WAY"
   ]
  },
  {
   "cell_type": "code",
   "execution_count": 5,
   "metadata": {
    "tags": []
   },
   "outputs": [
    {
     "name": "stdout",
     "output_type": "stream",
     "text": [
      "TIME :  0.07947182655334473\n",
      "TRANSFORMATION =  False\n"
     ]
    },
    {
     "data": {
      "application/vnd.jupyter.widget-view+json": {
       "model_id": "ce8f2a2eebf0416588217bc8996320a3",
       "version_major": 2,
       "version_minor": 0
      },
      "text/plain": [
       "Renderer(camera=PerspectiveCamera(children=(DirectionalLight(color='white', intensity=0.6, position=(0.3864668…"
      ]
     },
     "metadata": {},
     "output_type": "display_data"
    }
   ],
   "source": [
    "# =================================================\n",
    "# APPLYING EXTRA TRANSFORMATIONS IN JOINTS\n",
    "# =================================================\n",
    "\n",
    "transform = False  \n",
    "# transform = True\n",
    "\n",
    "M = initialize_M(b)\n",
    "\n",
    "# M[1][0:3,0:3] = eulerAnglesToRotationMatrix([0.3,0.3,0.4])\n",
    "# M[1][0:3,3] = [5,5,5]\n",
    "# M[1] = np.dot(np.diag([2,2,2,1]),M[1]) \n",
    "\n",
    "\n",
    "# =================================================\n",
    "# EVALUATING NEW VERTICES AFTER SKINNING\n",
    "# =================================================\n",
    "\n",
    "\n",
    "MM = read_tree(scene,mesh_id,M,transform)\n",
    "BB = [b[i].offsetmatrix for i in range(len(b))]\n",
    "newv = np.zeros([(len(v)),3])\n",
    "\n",
    "\n",
    "start = time.time()\n",
    "for i in range(len(v)):\n",
    "    for j in range(4):\n",
    "        if vw.id[i][j] >=0:\n",
    "            mat = np.dot(MM[vw.id[i][j]],BB[vw.id[i][j]])  \n",
    "            # mat = BB[vw.id[i][j]]           \n",
    "            newv[i] = newv[i] + vw.weight[i][j]*(vertex_apply_M(v[i],mat))\n",
    "end = time.time()\n",
    "\n",
    "# =================================================\n",
    "# PLOTTING\n",
    "# =================================================\n",
    "\n",
    "\n",
    "# USING MESH PLOT OUTSIDE JUPYTER\n",
    "# mp.offline()\n",
    "\n",
    "print(\"TIME : \", end-start)\n",
    "print(\"TRANSFORMATION = \", transform)\n",
    "p = mp.plot(newv, f,newv[:, 1],shading={\"scale\": 2.5,\"wireframe\":True},return_plot=True)  \n",
    "# p.save(\"skinning.html\")\n"
   ]
  },
  {
   "cell_type": "code",
   "execution_count": 6,
   "metadata": {},
   "outputs": [
    {
     "name": "stdout",
     "output_type": "stream",
     "text": [
      "astroBoy_newSkeleton_spine01\n"
     ]
    }
   ],
   "source": [
    "print(b[0])"
   ]
  },
  {
   "cell_type": "code",
   "execution_count": 2,
   "metadata": {},
   "outputs": [
    {
     "name": "stdout",
     "output_type": "stream",
     "text": [
      "[[ 0.639357 12.1689   -0.893018]\n",
      " [ 0.708351 12.0602   -0.499071]\n",
      " [ 0.69148  11.8125   -0.601681]\n",
      " ...\n",
      " [ 0.76853   4.19049   0.16335 ]\n",
      " [ 0.758502  4.46014   0.199789]\n",
      " [ 0.621837  4.45258   0.124552]]\n",
      "pipi\n",
      "TIME :  0.06429409980773926\n",
      "TRANSFORMATION =  False\n",
      "col: (2266, 3)\n"
     ]
    },
    {
     "data": {
      "application/vnd.jupyter.widget-view+json": {
       "model_id": "c02c500c608043cc9e40ebc4afbdae7d",
       "version_major": 2,
       "version_minor": 0
      },
      "text/plain": [
       "Renderer(camera=PerspectiveCamera(children=(DirectionalLight(color='white', intensity=0.6, position=(0.3864668…"
      ]
     },
     "metadata": {},
     "output_type": "display_data"
    }
   ],
   "source": [
    "from System_skinning import System_skinning\n",
    "from skinned_mesh import Skinned_mesh\n",
    "\n",
    "\n",
    "   \n",
    "a = Skinned_mesh(filename='/Users/mlbeb/Desktop/boo/internship/py_code/pyECSSTree/pyECSS/examples/astroBoy_walk.dae',file_type='dae')\n",
    "b = System_skinning()\n",
    "# a.mesh_id = 3\n",
    "b.generate_mesh(a.v, a.f, a.b, a.model, a.mesh_id)\n",
    "    \n",
    "    "
   ]
  },
  {
   "cell_type": "markdown",
   "metadata": {},
   "source": [
    "## GA WAY"
   ]
  },
  {
   "cell_type": "code",
   "execution_count": 16,
   "metadata": {
    "scrolled": false,
    "tags": []
   },
   "outputs": [
    {
     "ename": "TypeError",
     "evalue": "object of type 'System_skinning' has no len()",
     "output_type": "error",
     "traceback": [
      "\u001b[0;31m---------------------------------------------------------------------------\u001b[0m",
      "\u001b[0;31mTypeError\u001b[0m                                 Traceback (most recent call last)",
      "\u001b[0;32m/var/folders/c2/svlq7yrn3q5_cg8hwkf29q280000gn/T/ipykernel_19386/2163460901.py\u001b[0m in \u001b[0;36m<module>\u001b[0;34m\u001b[0m\n\u001b[1;32m      5\u001b[0m \u001b[0mtransform\u001b[0m \u001b[0;34m=\u001b[0m \u001b[0;32mFalse\u001b[0m\u001b[0;34m\u001b[0m\u001b[0;34m\u001b[0m\u001b[0m\n\u001b[1;32m      6\u001b[0m \u001b[0;34m\u001b[0m\u001b[0m\n\u001b[0;32m----> 7\u001b[0;31m \u001b[0mdd\u001b[0m \u001b[0;34m=\u001b[0m \u001b[0;34m[\u001b[0m\u001b[0;36m1\u001b[0m \u001b[0;32mfor\u001b[0m \u001b[0mi\u001b[0m \u001b[0;32min\u001b[0m \u001b[0mrange\u001b[0m\u001b[0;34m(\u001b[0m\u001b[0mlen\u001b[0m\u001b[0;34m(\u001b[0m\u001b[0mb\u001b[0m\u001b[0;34m)\u001b[0m\u001b[0;34m)\u001b[0m\u001b[0;34m]\u001b[0m\u001b[0;34m\u001b[0m\u001b[0;34m\u001b[0m\u001b[0m\n\u001b[0m\u001b[1;32m      8\u001b[0m \u001b[0mtt\u001b[0m \u001b[0;34m=\u001b[0m \u001b[0;34m[\u001b[0m\u001b[0;36m1\u001b[0m \u001b[0;32mfor\u001b[0m \u001b[0mi\u001b[0m \u001b[0;32min\u001b[0m \u001b[0mrange\u001b[0m\u001b[0;34m(\u001b[0m\u001b[0mlen\u001b[0m\u001b[0;34m(\u001b[0m\u001b[0mb\u001b[0m\u001b[0;34m)\u001b[0m\u001b[0;34m)\u001b[0m\u001b[0;34m]\u001b[0m\u001b[0;34m\u001b[0m\u001b[0;34m\u001b[0m\u001b[0m\n\u001b[1;32m      9\u001b[0m \u001b[0mrr\u001b[0m \u001b[0;34m=\u001b[0m \u001b[0;34m[\u001b[0m\u001b[0;36m1\u001b[0m \u001b[0;32mfor\u001b[0m \u001b[0mi\u001b[0m \u001b[0;32min\u001b[0m \u001b[0mrange\u001b[0m\u001b[0;34m(\u001b[0m\u001b[0mlen\u001b[0m\u001b[0;34m(\u001b[0m\u001b[0mb\u001b[0m\u001b[0;34m)\u001b[0m\u001b[0;34m)\u001b[0m\u001b[0;34m]\u001b[0m\u001b[0;34m\u001b[0m\u001b[0;34m\u001b[0m\u001b[0m\n",
      "\u001b[0;31mTypeError\u001b[0m: object of type 'System_skinning' has no len()"
     ]
    }
   ],
   "source": [
    "# =================================================\n",
    "# MULTIVECTORS FOR TRANSFORMATION\n",
    "# =================================================\n",
    "transform = True\n",
    "transform = False\n",
    "\n",
    "dd = [1 for i in range(len(b))]\n",
    "tt = [1 for i in range(len(b))]\n",
    "rr = [1 for i in range(len(b))]\n",
    "\n",
    "\n",
    "rr[2] = axis_angle_to_rotor([1,2,0],-0.3)\n",
    "tt[0] = vector_to_translator([0,2,0])\n",
    "dd[1] = scale_to_dilator(0.5)\n",
    "\n",
    "\n",
    "# =================================================\n",
    "# EVALUATING NEW VERTICES AFTER SKINNING\n",
    "# =================================================\n",
    "\n",
    "def euc_to_cga_point(v):\n",
    "    return v[0]*e1+v[1]*e2+v[2]*e3\n",
    "\n",
    "def cga_to_euc_point(down):\n",
    "    return np.array([down[e1], down[e2], down[e3]])\n",
    "\n",
    "\n",
    "\n",
    "\n",
    "rotors = read_tree_ga(scene,mesh_id,tt,rr,dd,transform)\n",
    "BB = [matrix_to_motor(b[i].offsetmatrix) for i in range(len(b))]\n",
    "cgav = [up_vertex(vertex) for vertex in v]\n",
    "newv2 = np.zeros([(len(v)),3])\n",
    "\n",
    "start = time.time()\n",
    "for i in range(len(v)):\n",
    "    for j in range(4):\n",
    "        if vw.id[i][j] >=0:\n",
    "            rotor =  (rotors[vw.id[i][j]])*BB[vw.id[i][j]] \n",
    "            temp = down_vertex(rotor*cgav[i]*~rotor)\n",
    "            newv2[i] = newv2[i] + vw.weight[i][j]*temp\n",
    "end = time.time()\n",
    "\n",
    "# =================================================\n",
    "# PLOTTING\n",
    "# =================================================\n",
    "\n",
    "\n",
    "print(\"TIME : \", end-start)\n",
    "p2 = mp.plot(newv2, f,newv2[:, 1],shading={\"scale\": 2.5,\"wireframe\":True},return_plot=True)\n",
    "# p.save(\"2r.html\")"
   ]
  },
  {
   "cell_type": "code",
   "execution_count": null,
   "metadata": {
    "tags": []
   },
   "outputs": [
    {
     "name": "stdout",
     "output_type": "stream",
     "text": [
      "to kanoniko mesh einai to EUCLIDEAN WAY\n",
      "ta magenta lines einai to GA WAY\n"
     ]
    },
    {
     "data": {
      "application/vnd.jupyter.widget-view+json": {
       "model_id": "c16e2da1d21a407693121d89b316dfd1",
       "version_major": 2,
       "version_minor": 0
      },
      "text/plain": [
       "Renderer(camera=PerspectiveCamera(children=(DirectionalLight(color='white', intensity=0.6, position=(0.3864668…"
      ]
     },
     "metadata": {},
     "output_type": "display_data"
    }
   ],
   "source": [
    "# =================================================\n",
    "# COMPARISON\n",
    "# =================================================\n",
    "print(\"to kanoniko mesh einai to EUCLIDEAN WAY\")\n",
    "print(\"ta magenta lines einai to GA WAY\")\n",
    "\n",
    "p3 = mp.plot(newv2, f,newv2[:, 1],shading={\"scale\": 3,\"wireframe\":True},return_plot=True)\n",
    "\n",
    "# plotting lines\n",
    "p3.add_lines(newv[f[:,0]], newv[f[:,1]], shading={\"line_color\": \"magenta\"});\n",
    "p3.add_lines(newv[f[:,2]], newv[f[:,1]], shading={\"line_color\": \"magenta\"});\n",
    "p3.add_lines(newv[f[:,2]], newv[f[:,0]], shading={\"line_color\": \"magenta\"});\n",
    "\n",
    "# or simply plotting the whole mesh\n",
    "# p3.add_mesh(newv, f,shading={\"scale\": 2.6,\"wireframe\":True,\"color\": \"magenta\"})\n",
    "\n"
   ]
  },
  {
   "cell_type": "code",
   "execution_count": null,
   "metadata": {},
   "outputs": [
    {
     "data": {
      "application/vnd.jupyter.widget-view+json": {
       "model_id": "75538965cbc94138b4dc400d35ae6b5d",
       "version_major": 2,
       "version_minor": 0
      },
      "text/plain": [
       "HBox(children=(Output(), Output()))"
      ]
     },
     "metadata": {},
     "output_type": "display_data"
    }
   ],
   "source": [
    "# =================================================\n",
    "# SIDE BY SIDE\n",
    "# =================================================\n",
    "# print(\"to kanoniko mesh einai to EUCLIDEAN WAY\")\n",
    "# print(\"ta magenta lines einai to GA WAY\")\n",
    "\n",
    "p4 = mp.subplot(newv, f,newv[:, 1],shading={\"scale\": 2,\"wireframe\":True},s=[1,2,0])\n",
    "mp.subplot(newv2, f,newv2[:, 1],shading={\"scale\": 2,\"wireframe\":True,\"wire_color\": \"magenta\"},s=[1,2,1], data=p4)\n",
    "# plotting lines\n",
    "# p4.add_lines(newv[f[:,0]], newv[f[:,1]], shading={\"line_color\": \"magenta\"});\n",
    "# p4.add_lines(newv[f[:,2]], newv[f[:,1]], shading={\"line_color\": \"magenta\"});\n",
    "# p4.add_lines(newv[f[:,2]], newv[f[:,0]], shading={\"line_color\": \"magenta\"});\n",
    "\n",
    "# or simply plotting the whole mesh\n",
    "# p3.add_mesh(newv, f,shading={\"scale\": 2.6,\"wireframe\":True,\"color\": \"magenta\"})\n",
    "\n",
    "# print(\"Original Way (Left), CGA Way (Right)\")"
   ]
  },
  {
   "cell_type": "markdown",
   "metadata": {},
   "source": [
    "# Comparison Tests for Euclidean and GA Skinning"
   ]
  },
  {
   "cell_type": "markdown",
   "metadata": {},
   "source": [
    "## TEST CASE 1\n",
    "\n",
    "We can see the differences in scaling depending on the alpha.\n",
    "\n",
    "Check the dilator in GA Way: it is chosen to be LERP(d1,d2,alpha)"
   ]
  },
  {
   "cell_type": "code",
   "execution_count": null,
   "metadata": {
    "tags": []
   },
   "outputs": [
    {
     "name": "stdout",
     "output_type": "stream",
     "text": [
      "TIME EUC:  0.06642913818359375\n",
      "TIME GA :  0.21682500839233398\n",
      "to kanoniko mesh einai to EUCLIDEAN WAY\n",
      "ta magenta lines einai to GA WAY\n"
     ]
    },
    {
     "data": {
      "application/vnd.jupyter.widget-view+json": {
       "model_id": "7f7208f91ad94108b5804bd657234179",
       "version_major": 2,
       "version_minor": 0
      },
      "text/plain": [
       "Renderer(camera=PerspectiveCamera(children=(DirectionalLight(color='white', intensity=0.6, position=(0.7361738…"
      ]
     },
     "metadata": {},
     "output_type": "display_data"
    },
    {
     "data": {
      "text/plain": [
       "2.8257745786320073e-06"
      ]
     },
     "execution_count": 9,
     "metadata": {},
     "output_type": "execute_result"
    }
   ],
   "source": [
    "################################\n",
    "#### EUCLIDEAN WAY - START  ####\n",
    "################################\n",
    "\n",
    "def test1(alpha,print_plot=False,print_time=False):\n",
    "    # transform = False  \n",
    "    transform = True\n",
    "\n",
    "    M = initialize_M(b)\n",
    "\n",
    "    # M[1][0:3,0:3] = eulerAnglesToRotationMatrix([0.3,0.3,0.4])\n",
    "    # M[1][0:3,3] = [5,5,5]\n",
    "#     M[1] = np.dot(np.diag([2,2,2,1]),M[1])\n",
    "    scale = LERP(1,2,alpha)\n",
    "    M[1] = np.dot(np.diag([scale,scale,scale,1]),M[1])\n",
    "\n",
    "\n",
    "    # =================================================\n",
    "    # EVALUATING NEW VERTICES AFTER SKINNING\n",
    "    # =================================================\n",
    "\n",
    "\n",
    "    MM = read_tree(scene,mesh_id,M,transform)\n",
    "    BB = [b[i].offsetmatrix for i in range(len(b))]\n",
    "    newv = np.zeros([(len(v)),3])\n",
    "\n",
    "    start = time.time()\n",
    "    for i in range(len(v)):\n",
    "        for j in range(4):\n",
    "            if vw.id[i][j] >=0:\n",
    "                mat = np.dot(MM[vw.id[i][j]],BB[vw.id[i][j]])            \n",
    "                newv[i] = newv[i] + vw.weight[i][j]*(vertex_apply_M(v[i],mat))\n",
    "    end = time.time()\n",
    "    if print_time:\n",
    "        print(\"TIME EUC: \", end-start)\n",
    "    \n",
    "\n",
    "    ################################\n",
    "    ####     GA WAY - START     ####\n",
    "    ################################\n",
    "    # =================================================\n",
    "    # MULTIVECTORS FOR TRANSFORMATION\n",
    "    # =================================================\n",
    "\n",
    "    dd = [1 for i in range(len(b))]\n",
    "    tt = [1 for i in range(len(b))]\n",
    "    rr = [1 for i in range(len(b))]\n",
    "\n",
    "\n",
    "    # rr[2] = axis_angle_to_rotor([1,2,0],-0.3)\n",
    "    # tt[0] = vector_to_translator([0,2,0])\n",
    "    s1 = 1\n",
    "    s2 = scale_to_dilator(2)\n",
    "    dd[1] = LERP(s1,s2,alpha)\n",
    "\n",
    "\n",
    "\n",
    "    rotors = read_tree_ga(scene,mesh_id,tt,rr,dd,transform)\n",
    "    BB = [matrix_to_motor(b[i].offsetmatrix) for i in range(len(b))]\n",
    "    cgav = [up_vertex(vertex) for vertex in v]\n",
    "    newv2 = np.zeros([(len(v)),3])\n",
    "\n",
    "    start = time.time()\n",
    "    for i in range(len(v)):\n",
    "        for j in range(4):\n",
    "            if vw.id[i][j] >=0:\n",
    "                rotor =  (rotors[vw.id[i][j]])*BB[vw.id[i][j]] \n",
    "                temp = down_vertex(rotor*cgav[i]*~rotor)\n",
    "                newv2[i] = newv2[i] + vw.weight[i][j]*temp\n",
    "    end = time.time()\n",
    "    if print_time:\n",
    "        print(\"TIME GA : \", end-start)\n",
    "\n",
    "    \n",
    "\n",
    "    # =================================================\n",
    "    # COMPARISON\n",
    "    # =================================================\n",
    "\n",
    "    if print_plot:\n",
    "        print(\"to kanoniko mesh einai to EUCLIDEAN WAY\")\n",
    "        print(\"ta magenta lines einai to GA WAY\")\n",
    "\n",
    "        p3 = mp.plot(newv2, f,newv2[:, 1],shading={\"scale\": 2.5,\"wireframe\":True},return_plot=True)\n",
    "\n",
    "        # plotting lines\n",
    "        p3.add_lines(newv[f[:,0]], newv[f[:,1]], shading={\"line_color\": \"magenta\"});\n",
    "        p3.add_lines(newv[f[:,2]], newv[f[:,1]], shading={\"line_color\": \"magenta\"});\n",
    "        p3.add_lines(newv[f[:,2]], newv[f[:,0]], shading={\"line_color\": \"magenta\"});\n",
    "\n",
    "    return numpy.linalg.norm(newv-newv2,numpy.inf)/numpy.linalg.norm(newv,numpy.inf)\n",
    "\n",
    "test1(1,True,True)\n"
   ]
  },
  {
   "cell_type": "markdown",
   "metadata": {},
   "source": [
    "## TEST CASE 2\n",
    "\n",
    "The differences in scaling can be eradicated if the scaling factor is interpolated instead of the dilator itself.\n",
    "\n",
    "Check the dilator in GA Way: it is chosen to be d = scale_to_dilator(LERP(1,2,alpha))\n"
   ]
  },
  {
   "cell_type": "code",
   "execution_count": null,
   "metadata": {
    "tags": []
   },
   "outputs": [
    {
     "name": "stdout",
     "output_type": "stream",
     "text": [
      "TIME EUC:  0.10024809837341309\n",
      "TIME GA :  0.1956009864807129\n",
      "to kanoniko mesh einai to EUCLIDEAN WAY\n",
      "ta magenta lines einai to GA WAY\n"
     ]
    },
    {
     "data": {
      "application/vnd.jupyter.widget-view+json": {
       "model_id": "3c370a02ab014f1fa2870565950bdd92",
       "version_major": 2,
       "version_minor": 0
      },
      "text/plain": [
       "Renderer(camera=PerspectiveCamera(children=(DirectionalLight(color='white', intensity=0.6, position=(0.4913789…"
      ]
     },
     "metadata": {},
     "output_type": "display_data"
    },
    {
     "data": {
      "text/plain": [
       "3.6769814586809205e-06"
      ]
     },
     "execution_count": 10,
     "metadata": {},
     "output_type": "execute_result"
    }
   ],
   "source": [
    "################################\n",
    "#### EUCLIDEAN WAY - START  ####\n",
    "################################\n",
    "\n",
    "def test2(alpha,print_plot=False,print_time=False):\n",
    "    # transform = False  \n",
    "    transform = True\n",
    "\n",
    "    M = initialize_M(b)\n",
    "\n",
    "    # M[1][0:3,0:3] = eulerAnglesToRotationMatrix([0.3,0.3,0.4])\n",
    "    # M[1][0:3,3] = [5,5,5]\n",
    "#     M[1] = np.dot(np.diag([2,2,2,1]),M[1])\n",
    "    scale = LERP(1,2,alpha)\n",
    "    M[1] = np.dot(np.diag([scale,scale,scale,1]),M[1])\n",
    "\n",
    "\n",
    "    # =================================================\n",
    "    # EVALUATING NEW VERTICES AFTER SKINNING\n",
    "    # =================================================\n",
    "\n",
    "\n",
    "    MM = read_tree(scene,mesh_id,M,transform)\n",
    "    BB = [b[i].offsetmatrix for i in range(len(b))]\n",
    "    newv = np.zeros([(len(v)),3])\n",
    "\n",
    "    start = time.time()\n",
    "    for i in range(len(v)):\n",
    "        for j in range(4):\n",
    "            if vw.id[i][j] >=0:\n",
    "                mat = np.dot(MM[vw.id[i][j]],BB[vw.id[i][j]])            \n",
    "                newv[i] = newv[i] + vw.weight[i][j]*(vertex_apply_M(v[i],mat))\n",
    "    end = time.time()\n",
    "    if print_time:\n",
    "        print(\"TIME EUC: \", end-start)\n",
    "\n",
    "    ################################\n",
    "    ####     GA WAY - START     ####\n",
    "    ################################\n",
    "    # =================================================\n",
    "    # MULTIVECTORS FOR TRANSFORMATION\n",
    "    # =================================================\n",
    "\n",
    "    dd = [1 for i in range(len(b))]\n",
    "    tt = [1 for i in range(len(b))]\n",
    "    rr = [1 for i in range(len(b))]\n",
    "\n",
    "\n",
    "    # rr[2] = axis_angle_to_rotor([1,2,0],-0.3)\n",
    "    # tt[0] = vector_to_translator([0,2,0])\n",
    "    dd[1] = scale_to_dilator(LERP(1,2,alpha))\n",
    "\n",
    "\n",
    "\n",
    "    rotors = read_tree_ga(scene,mesh_id,tt,rr,dd,transform)\n",
    "    BB = [matrix_to_motor(b[i].offsetmatrix) for i in range(len(b))]\n",
    "    cgav = [up_vertex(vertex) for vertex in v]\n",
    "    newv2 = np.zeros([(len(v)),3])\n",
    "\n",
    "    start = time.time()\n",
    "    for i in range(len(v)):\n",
    "        for j in range(4):\n",
    "            if vw.id[i][j] >=0:\n",
    "                rotor =  (rotors[vw.id[i][j]])*BB[vw.id[i][j]] \n",
    "                temp = down_vertex(rotor*cgav[i]*~rotor)\n",
    "                newv2[i] = newv2[i] + vw.weight[i][j]*temp\n",
    "    end = time.time()\n",
    "    if print_time:\n",
    "        print(\"TIME GA : \", end-start)\n",
    "\n",
    "\n",
    "    # =================================================\n",
    "    # COMPARISON\n",
    "    # =================================================\n",
    "\n",
    "    if print_plot:\n",
    "        print(\"to kanoniko mesh einai to EUCLIDEAN WAY\")\n",
    "        print(\"ta magenta lines einai to GA WAY\")\n",
    "\n",
    "        p3 = mp.plot(newv2, f,newv2[:, 1],shading={\"scale\": 2.5,\"wireframe\":True},return_plot=True)\n",
    "\n",
    "        # plotting lines\n",
    "        p3.add_lines(newv[f[:,0]], newv[f[:,1]], shading={\"line_color\": \"magenta\"});\n",
    "        p3.add_lines(newv[f[:,2]], newv[f[:,1]], shading={\"line_color\": \"magenta\"});\n",
    "        p3.add_lines(newv[f[:,2]], newv[f[:,0]], shading={\"line_color\": \"magenta\"});\n",
    "\n",
    "\n",
    "\n",
    "    return numpy.linalg.norm(newv-newv2,numpy.inf)/numpy.linalg.norm(newv,numpy.inf)\n",
    "\n",
    "test2(0.3,True,True)\n",
    "\n"
   ]
  },
  {
   "cell_type": "markdown",
   "metadata": {},
   "source": [
    "## TEST CASE 3\n",
    "\n",
    "Checking translation differences. \n",
    "\n",
    "Big differences here due to errors cumulating, especially in complicated models, or if translation is disproportional to model dimensions. "
   ]
  },
  {
   "cell_type": "code",
   "execution_count": null,
   "metadata": {
    "tags": []
   },
   "outputs": [
    {
     "name": "stdout",
     "output_type": "stream",
     "text": [
      "TIME EUC:  0.09818911552429199\n",
      "TIME GA :  0.16423606872558594\n",
      "to kanoniko mesh einai to EUCLIDEAN WAY\n",
      "ta magenta lines einai to GA WAY\n"
     ]
    },
    {
     "data": {
      "application/vnd.jupyter.widget-view+json": {
       "model_id": "f45ea23cbc04464d95bd07ed13d40f9c",
       "version_major": 2,
       "version_minor": 0
      },
      "text/plain": [
       "Renderer(camera=PerspectiveCamera(children=(DirectionalLight(color='white', intensity=0.6, position=(0.4163869…"
      ]
     },
     "metadata": {},
     "output_type": "display_data"
    },
    {
     "data": {
      "text/plain": [
       "0.010628892173879719"
      ]
     },
     "execution_count": 11,
     "metadata": {},
     "output_type": "execute_result"
    }
   ],
   "source": [
    "################################\n",
    "#### EUCLIDEAN WAY - START  ####\n",
    "################################\n",
    "\n",
    "def test3(alpha,print_plot=False,print_time=False):\n",
    "    # transform = False  \n",
    "    transform = True\n",
    "\n",
    "    M = initialize_M(b)\n",
    "\n",
    "    # M[1][0:3,0:3] = eulerAnglesToRotationMatrix([0.3,0.3,0.4])\n",
    "\n",
    "    M[1][0:3,3] = LERP(np.array([0,0,0]),np.array([0,1,0]),alpha)\n",
    "    \n",
    "    #M[1] = np.dot(np.diag([2,2,2,1]),M[1])\n",
    "\n",
    "\n",
    "    # =================================================\n",
    "    # EVALUATING NEW VERTICES AFTER SKINNING\n",
    "    # =================================================\n",
    "\n",
    "\n",
    "    MM = read_tree(scene,mesh_id,M,transform)\n",
    "    BB = [b[i].offsetmatrix for i in range(len(b))]\n",
    "    newv = np.zeros([(len(v)),3])\n",
    "\n",
    "    start = time.time()\n",
    "    for i in range(len(v)):\n",
    "        for j in range(4):\n",
    "            if vw.id[i][j] >=0:\n",
    "                mat = np.dot(MM[vw.id[i][j]],BB[vw.id[i][j]])            \n",
    "                newv[i] = newv[i] + vw.weight[i][j]*(vertex_apply_M(v[i],mat))\n",
    "    end = time.time()\n",
    "    if print_time:\n",
    "        print(\"TIME EUC: \", end-start)\n",
    "\n",
    "    ################################\n",
    "    ####     GA WAY - START     ####\n",
    "    ################################\n",
    "    # =================================================\n",
    "    # MULTIVECTORS FOR TRANSFORMATION\n",
    "    # =================================================\n",
    "\n",
    "    dd = [1 for i in range(len(b))]\n",
    "    tt = [1 for i in range(len(b))]\n",
    "    rr = [1 for i in range(len(b))]\n",
    "\n",
    "\n",
    "    # rr[2] = axis_angle_to_rotor([1,2,0],-0.3)\n",
    "    \n",
    "    tt[1] = LERP(1,vector_to_translator([0,1,0]),alpha)\n",
    "    #dd[1] = scale_to_dilator(LERP(1,2,alpha))\n",
    "\n",
    "\n",
    "\n",
    "    rotors = read_tree_ga(scene,mesh_id,tt,rr,dd,transform)\n",
    "    BB = [matrix_to_motor(b[i].offsetmatrix) for i in range(len(b))]\n",
    "    cgav = [up_vertex(vertex) for vertex in v]\n",
    "    newv2 = np.zeros([(len(v)),3])\n",
    "\n",
    "    start = time.time()\n",
    "    for i in range(len(v)):\n",
    "        for j in range(4):\n",
    "            if vw.id[i][j] >=0:\n",
    "                rotor =  (rotors[vw.id[i][j]])*BB[vw.id[i][j]] \n",
    "                temp = down_vertex(rotor*cgav[i]*~rotor)\n",
    "                newv2[i] = newv2[i] + vw.weight[i][j]*temp\n",
    "    end = time.time()\n",
    "    if print_time:\n",
    "        print(\"TIME GA : \", end-start)\n",
    "    # =================================================\n",
    "    # COMPARISON\n",
    "    # =================================================\n",
    "\n",
    "    if print_plot:\n",
    "        print(\"to kanoniko mesh einai to EUCLIDEAN WAY\")\n",
    "        print(\"ta magenta lines einai to GA WAY\")\n",
    "\n",
    "        p3 = mp.plot(newv2, f,newv2[:, 1],shading={\"scale\": 2.5,\"wireframe\":True},return_plot=True)\n",
    "\n",
    "        # plotting lines\n",
    "        p3.add_lines(newv[f[:,0]], newv[f[:,1]], shading={\"line_color\": \"magenta\"});\n",
    "        p3.add_lines(newv[f[:,2]], newv[f[:,1]], shading={\"line_color\": \"magenta\"});\n",
    "        p3.add_lines(newv[f[:,2]], newv[f[:,0]], shading={\"line_color\": \"magenta\"});\n",
    "\n",
    "    return numpy.linalg.norm(newv-newv2,numpy.inf)/numpy.linalg.norm(newv,numpy.inf)\n",
    "\n",
    "test3(1,True,True)\n",
    "\n",
    "\n"
   ]
  },
  {
   "cell_type": "markdown",
   "metadata": {},
   "source": [
    "## TEST CASE 4\n",
    "\n",
    "Checking rotation differences. \n"
   ]
  },
  {
   "cell_type": "code",
   "execution_count": null,
   "metadata": {
    "tags": []
   },
   "outputs": [
    {
     "name": "stdout",
     "output_type": "stream",
     "text": [
      "TIME EUC:  0.1515209674835205\n",
      "TIME GA :  0.3624870777130127\n",
      "to kanoniko mesh einai to EUCLIDEAN WAY\n",
      "ta magenta lines einai to GA WAY\n"
     ]
    },
    {
     "data": {
      "application/vnd.jupyter.widget-view+json": {
       "model_id": "62794e78797c40cf8ad5c362f5d097a6",
       "version_major": 2,
       "version_minor": 0
      },
      "text/plain": [
       "Renderer(camera=PerspectiveCamera(children=(DirectionalLight(color='white', intensity=0.6, position=(0.2137213…"
      ]
     },
     "metadata": {},
     "output_type": "display_data"
    },
    {
     "data": {
      "text/plain": [
       "0.002927079169941471"
      ]
     },
     "execution_count": 12,
     "metadata": {},
     "output_type": "execute_result"
    }
   ],
   "source": [
    "################################\n",
    "#### EUCLIDEAN WAY - START  ####\n",
    "################################\n",
    "from quaternion import *\n",
    "\n",
    "def test4(alpha,print_plot=False,print_time=False):\n",
    "    # transform = False  \n",
    "    transform = True\n",
    "\n",
    "    M = initialize_M(b)\n",
    "\n",
    "    q1 = q2 = Quaternion(0,0,0,1)\n",
    "    q2 = Quaternion.from_angle_axis(-0.7, [1,2,0])\n",
    "    q = LERP(q1,q2,alpha)\n",
    "    \n",
    "    M[1] = q.to_transformation_matrix()\n",
    "#     M[1][0:3,0:3] = eulerAnglesToRotationMatrix([0.3,0.3,0.4])\n",
    "#     M[1][0:3,3] = [0,5,0]\n",
    "    #M[1] = np.dot(np.diag([2,2,2,1]),M[1])\n",
    "\n",
    "    \n",
    "    # =================================================\n",
    "    # EVALUATING NEW VERTICES AFTER SKINNING\n",
    "    # =================================================\n",
    "\n",
    "\n",
    "    MM = read_tree(scene,mesh_id,M,transform)\n",
    "    BB = [b[i].offsetmatrix for i in range(len(b))]\n",
    "    newv = np.zeros([(len(v)),3])\n",
    "\n",
    "    start = time.time()\n",
    "    for i in range(len(v)):\n",
    "        for j in range(4):\n",
    "            if vw.id[i][j] >=0:\n",
    "                mat = np.dot(MM[vw.id[i][j]],BB[vw.id[i][j]])            \n",
    "                newv[i] = newv[i] + vw.weight[i][j]*(vertex_apply_M(v[i],mat))\n",
    "    end = time.time()\n",
    "    if print_time:\n",
    "        print(\"TIME EUC: \", end-start)\n",
    "\n",
    "    ################################\n",
    "    ####     GA WAY - START     ####\n",
    "    ################################\n",
    "    # =================================================\n",
    "    # MULTIVECTORS FOR TRANSFORMATION\n",
    "    # =================================================\n",
    "\n",
    "    dd = [1 for i in range(len(b))]\n",
    "    tt = [1 for i in range(len(b))]\n",
    "    rr = [1 for i in range(len(b))]\n",
    "\n",
    "    r1 = 1\n",
    "    r2 = axis_angle_to_rotor([1,2,0],-0.7)\n",
    "    rr[1] = LERP(r1,r2,alpha)\n",
    "    \n",
    "#     tt[1] = vector_to_translator([0,5,0])\n",
    "    #dd[1] = scale_to_dilator(LERP(1,2,alpha))\n",
    "\n",
    "\n",
    "\n",
    "    rotors = read_tree_ga(scene,mesh_id,tt,rr,dd,transform)\n",
    "    BB = [matrix_to_motor(b[i].offsetmatrix) for i in range(len(b))]\n",
    "    cgav = [up_vertex(vertex) for vertex in v]\n",
    "    newv2 = np.zeros([(len(v)),3])\n",
    "\n",
    "    start = time.time()\n",
    "    for i in range(len(v)):\n",
    "        for j in range(4):\n",
    "            if vw.id[i][j] >=0:\n",
    "                rotor =  (rotors[vw.id[i][j]])*BB[vw.id[i][j]] \n",
    "                temp = down_vertex(rotor*cgav[i]*~rotor)\n",
    "                newv2[i] = newv2[i] + vw.weight[i][j]*temp\n",
    "    end = time.time()\n",
    "    if print_time:\n",
    "        print(\"TIME GA : \", end-start)\n",
    "    # =================================================\n",
    "    # COMPARISON\n",
    "    # =================================================\n",
    "\n",
    "\n",
    "    if print_plot:\n",
    "        print(\"to kanoniko mesh einai to EUCLIDEAN WAY\")\n",
    "        print(\"ta magenta lines einai to GA WAY\")\n",
    "\n",
    "        p3 = mp.plot(newv2, f,newv2[:, 1],shading={\"scale\": 2.5,\"wireframe\":True},return_plot=True)\n",
    "\n",
    "        # plotting lines\n",
    "        p3.add_lines(newv[f[:,0]], newv[f[:,1]], shading={\"line_color\": \"magenta\"});\n",
    "        p3.add_lines(newv[f[:,2]], newv[f[:,1]], shading={\"line_color\": \"magenta\"});\n",
    "        p3.add_lines(newv[f[:,2]], newv[f[:,0]], shading={\"line_color\": \"magenta\"});\n",
    "\n",
    "\n",
    "    \n",
    "    return numpy.linalg.norm(newv-newv2,numpy.inf)/numpy.linalg.norm(newv,numpy.inf)\n",
    "\n",
    "test4(0.5,True,True)\n",
    "\n"
   ]
  },
  {
   "cell_type": "markdown",
   "metadata": {},
   "source": [
    "## Test Case 5\n",
    "\n",
    "This is a failed attempt to remedy test case 3 results, by downprojecting only once per vertex in GA way, see lines 64-70. It is obvious that the runtime for GA gets larger since we are forced to add multivectors (of dimension 32) instead of points (of dimension 3) during the double nested for. The rel. error is the same as in case 3. "
   ]
  },
  {
   "cell_type": "code",
   "execution_count": null,
   "metadata": {},
   "outputs": [
    {
     "data": {
      "text/plain": [
       "0.04161929308289945"
      ]
     },
     "execution_count": 13,
     "metadata": {},
     "output_type": "execute_result"
    }
   ],
   "source": [
    "################################\n",
    "#### EUCLIDEAN WAY - START  ####\n",
    "################################\n",
    "\n",
    "def test5(alpha,print_plot=False,print_time=False):\n",
    "    # transform = False  \n",
    "    transform = True\n",
    "\n",
    "    M = initialize_M(b)\n",
    "\n",
    "    # M[1][0:3,0:3] = eulerAnglesToRotationMatrix([0.3,0.3,0.4])\n",
    "\n",
    "    M[1][0:3,3] = LERP(np.array([0,0,0]),np.array([0,5,0]),alpha)\n",
    "    \n",
    "    #M[1] = np.dot(np.diag([2,2,2,1]),M[1])\n",
    "\n",
    "\n",
    "    # =================================================\n",
    "    # EVALUATING NEW VERTICES AFTER SKINNING\n",
    "    # =================================================\n",
    "\n",
    "\n",
    "    MM = read_tree(scene,mesh_id,M,transform)\n",
    "    BB = [b[i].offsetmatrix for i in range(len(b))]\n",
    "    newv = np.zeros([(len(v)),3])\n",
    "\n",
    "    start = time.time()\n",
    "    for i in range(len(v)):\n",
    "        for j in range(4):\n",
    "            if vw.id[i][j] >=0:\n",
    "                mat = np.dot(MM[vw.id[i][j]],BB[vw.id[i][j]])            \n",
    "                newv[i] = newv[i] + vw.weight[i][j]*(vertex_apply_M(v[i],mat))\n",
    "    end = time.time()\n",
    "    if print_time:\n",
    "        print(\"TIME EUC: \", end-start)\n",
    "\n",
    "    ################################\n",
    "    ####     GA WAY - START     ####\n",
    "    ################################\n",
    "    # =================================================\n",
    "    # MULTIVECTORS FOR TRANSFORMATION\n",
    "    # =================================================\n",
    "\n",
    "    dd = [1 for i in range(len(b))]\n",
    "    tt = [1 for i in range(len(b))]\n",
    "    rr = [1 for i in range(len(b))]\n",
    "\n",
    "\n",
    "    # rr[2] = axis_angle_to_rotor([1,2,0],-0.3)\n",
    "    \n",
    "    tt[1] = LERP(1,vector_to_translator([0,5,0]),alpha)\n",
    "    #dd[1] = scale_to_dilator(LERP(1,2,alpha))\n",
    "\n",
    "\n",
    "\n",
    "    rotors = read_tree_ga(scene,mesh_id,tt,rr,dd,transform)\n",
    "    BB = [matrix_to_motor(b[i].offsetmatrix) for i in range(len(b))]\n",
    "    cgav = [up_vertex(vertex) for vertex in v]\n",
    "    newv2 = np.zeros([(len(v)),3])\n",
    "    newv2_up = [0 for vertex in v]\n",
    "\n",
    "    start = time.time()\n",
    "    for i in range(len(v)):\n",
    "        for j in range(4):\n",
    "            if vw.id[i][j] >=0:\n",
    "                rotor =  (rotors[vw.id[i][j]])*BB[vw.id[i][j]] \n",
    "#                 temp = down_vertex(rotor*cgav[i]*~rotor)\n",
    "                temp = rotor*cgav[i]*~rotor\n",
    "                newv2_up[i] = newv2_up[i] + vw.weight[i][j]*temp\n",
    "        newv2[i] = down_vertex(newv2_up[i])\n",
    "    end = time.time()\n",
    "    if print_time:\n",
    "        print(\"TIME GA : \", end-start)\n",
    "    # =================================================\n",
    "    # COMPARISON\n",
    "    # =================================================\n",
    "\n",
    "    if print_plot:\n",
    "        print(\"to kanoniko mesh einai to EUCLIDEAN WAY\")\n",
    "        print(\"ta magenta lines einai to GA WAY\")\n",
    "\n",
    "        p3 = mp.plot(newv2, f,newv2[:, 1],shading={\"scale\": 2.5,\"wireframe\":True},return_plot=True)\n",
    "\n",
    "        # plotting lines\n",
    "        p3.add_lines(newv[f[:,0]], newv[f[:,1]], shading={\"line_color\": \"magenta\"});\n",
    "        p3.add_lines(newv[f[:,2]], newv[f[:,1]], shading={\"line_color\": \"magenta\"});\n",
    "        p3.add_lines(newv[f[:,2]], newv[f[:,0]], shading={\"line_color\": \"magenta\"});\n",
    "\n",
    "    return numpy.linalg.norm(newv-newv2,numpy.inf)/numpy.linalg.norm(newv,numpy.inf)\n",
    "\n",
    "test5(1)\n",
    "\n",
    "\n",
    "\n"
   ]
  },
  {
   "cell_type": "markdown",
   "metadata": {},
   "source": [
    "## Tables with relative errors for each method"
   ]
  },
  {
   "cell_type": "markdown",
   "metadata": {},
   "source": [
    "Results for test case 1,2,3,4: \n",
    "* 1st column is alpha, \n",
    "* 2nd column is relative error (showing percentage) between EUC and GA produced vertices, counting EUC way as the correct ones, using norm 1 as the measure function"
   ]
  },
  {
   "cell_type": "code",
   "execution_count": null,
   "metadata": {
    "tags": []
   },
   "outputs": [
    {
     "name": "stdout",
     "output_type": "stream",
     "text": [
      "0.0 \t 4.22204002891107e-06\n",
      "0.1 \t 0.014612657038193208\n",
      "0.2 \t 0.025695942226601275\n",
      "0.3 \t 0.03346995769659467\n",
      "0.4 \t 0.03808373687687193\n",
      "0.5 \t 0.03962265475450756\n",
      "0.6 \t 0.038112535443822385\n",
      "0.7 \t 0.033520838734778284\n",
      "0.8 \t 0.025755030917939577\n",
      "0.9 \t 0.014657988698468306\n",
      "1.0 \t 2.8257745786320073e-06\n"
     ]
    }
   ],
   "source": [
    "test1_results = [test1(i/10) for i in range(11)]\n",
    "for i in range(11):\n",
    "    alpha = i/10\n",
    "    print(alpha, '\\t', test1_results[i])\n",
    "#     print(alpha, '\\t', test1(alpha))"
   ]
  },
  {
   "cell_type": "code",
   "execution_count": null,
   "metadata": {
    "tags": []
   },
   "outputs": [
    {
     "name": "stdout",
     "output_type": "stream",
     "text": [
      "0.0 \t 4.22204002891107e-06\n",
      "0.1 \t 4.023244372733938e-06\n",
      "0.2 \t 3.842327559259874e-06\n",
      "0.3 \t 3.6769814586809205e-06\n",
      "0.4 \t 3.5252788507099793e-06\n",
      "0.5 \t 3.3855979613580454e-06\n",
      "0.6 \t 3.256564256277673e-06\n",
      "0.7 \t 3.137005055854935e-06\n",
      "0.8 \t 3.0259137936394655e-06\n",
      "0.9 \t 2.9224216093651065e-06\n",
      "1.0 \t 2.8257745786320073e-06\n"
     ]
    }
   ],
   "source": [
    "test2_results = [test2(i/10) for i in range(11)]\n",
    "for i in range(11):\n",
    "    alpha = i/10\n",
    "    print(alpha, '\\t', test2_results[i])\n",
    "#     print(alpha, '\\t', test2(alpha))"
   ]
  },
  {
   "cell_type": "code",
   "execution_count": null,
   "metadata": {
    "tags": []
   },
   "outputs": [
    {
     "name": "stdout",
     "output_type": "stream",
     "text": [
      "0.0 \t 4.22204002891107e-06\n",
      "0.1 \t 0.001120804726632861\n",
      "0.2 \t 0.0022306483192702123\n",
      "0.3 \t 0.003329934585195308\n",
      "0.4 \t 0.00441881345028811\n",
      "0.5 \t 0.0054974320150216706\n",
      "0.6 \t 0.0065590584133283355\n",
      "0.7 \t 0.007598096018888732\n",
      "0.8 \t 0.008622545533124961\n",
      "0.9 \t 0.009632712039643651\n",
      "1.0 \t 0.010628892173879719\n"
     ]
    }
   ],
   "source": [
    "test3_results = [test3(i/10) for i in range(11)]\n",
    "for i in range(11):\n",
    "    alpha = i/10\n",
    "    print(alpha, '\\t', test3_results[i])\n",
    "#     print(alpha, '\\t', test3(alpha))"
   ]
  },
  {
   "cell_type": "code",
   "execution_count": null,
   "metadata": {
    "tags": []
   },
   "outputs": [
    {
     "name": "stdout",
     "output_type": "stream",
     "text": [
      "0.0 \t 4.22204002891107e-06\n",
      "0.1 \t 0.00022671206481437493\n",
      "0.2 \t 0.0007957367003126482\n",
      "0.3 \t 0.001540920920544986\n",
      "0.4 \t 0.0023027113588615653\n",
      "0.5 \t 0.002927079169941471\n",
      "0.6 \t 0.003276643709387887\n",
      "0.7 \t 0.0033190275311313694\n",
      "0.8 \t 0.0028676290141709847\n",
      "0.9 \t 0.0017976357828561208\n",
      "1.0 \t 4.1049762850074885e-06\n"
     ]
    }
   ],
   "source": [
    "test4_results = [test4(i/10) for i in range(11)]\n",
    "for i in range(11):\n",
    "    alpha = i/10\n",
    "    print(alpha, '\\t', test4_results[i])\n",
    "#     print(alpha, '\\t', test4(alpha))"
   ]
  },
  {
   "cell_type": "code",
   "execution_count": null,
   "metadata": {
    "tags": []
   },
   "outputs": [
    {
     "name": "stdout",
     "output_type": "stream",
     "text": [
      "0.0 \t 0.00012202313197082494\n",
      "0.1 \t 0.005497910828305997\n",
      "0.2 \t 0.01062937813568995\n",
      "0.3 \t 0.015410315752034342\n",
      "0.4 \t 0.019881707611642863\n",
      "0.5 \t 0.024072673709150557\n",
      "0.6 \t 0.028008792540258485\n",
      "0.7 \t 0.03171262360050045\n",
      "0.8 \t 0.035204140030422826\n",
      "0.9 \t 0.03850108893227044\n",
      "1.0 \t 0.04161929308289945\n"
     ]
    }
   ],
   "source": [
    "test5_results = [test5(i/10) for i in range(11)]\n",
    "for i in range(11):\n",
    "    alpha = i/10\n",
    "    print(alpha, '\\t', test5_results[i])\n",
    "#     print(alpha, '\\t', test5(alpha))"
   ]
  },
  {
   "cell_type": "code",
   "execution_count": null,
   "metadata": {},
   "outputs": [
    {
     "data": {
      "text/plain": [
       "Text(0, 0.5, 'errors for test4')"
      ]
     },
     "execution_count": 19,
     "metadata": {},
     "output_type": "execute_result"
    },
    {
     "data": {
      "image/png": "[encoded data removed]",
      "text/plain": [
       "<Figure size 1500x600 with 4 Axes>"
      ]
     },
     "metadata": {},
     "output_type": "display_data"
    }
   ],
   "source": [
    "import matplotlib.pyplot as plt\n",
    "\n",
    "fig = plt.figure(figsize=(15,6))\n",
    "\n",
    "ax = fig.add_subplot(221)\n",
    "ax.plot(range(11),test1_results)\n",
    "ax.set_ylabel('errors for test1')\n",
    "\n",
    "ax2 = fig.add_subplot(223)\n",
    "ax2.plot(range(11),test2_results)\n",
    "ax2.set_ylabel('errors for test2')\n",
    "\n",
    "ax3 = fig.add_subplot(222)\n",
    "ax3.plot(range(11),test3_results)\n",
    "ax3.set_ylabel('errors for test3')\n",
    "\n",
    "\n",
    "ax4 = fig.add_subplot(224)\n",
    "ax4.plot(range(11),test4_results)\n",
    "ax4.set_ylabel('errors for test4')\n",
    "\n",
    "# plt.show()\n",
    "\n"
   ]
  },
  {
   "cell_type": "markdown",
   "metadata": {},
   "source": [
    "## Dilations differences between multivector and original"
   ]
  },
  {
   "cell_type": "code",
   "execution_count": null,
   "metadata": {
    "tags": []
   },
   "outputs": [
    {
     "data": {
      "image/png": "[encoded data removed]",
      "text/plain": [
       "<Figure size 640x480 with 1 Axes>"
      ]
     },
     "metadata": {},
     "output_type": "display_data"
    },
    {
     "name": "stdout",
     "output_type": "stream",
     "text": [
      "megisto sfalma: 0.1010204081632653\n"
     ]
    }
   ],
   "source": [
    "def dilator_to_scale(m):\n",
    "    n = m[e45] # e45 = einf^eo\n",
    "    return (1-n)/(1+n)\n",
    "\n",
    "steps = 100\n",
    "\n",
    "d1 = scale_to_dilator(1)\n",
    "d2 = scale_to_dilator(2)\n",
    "test_d_interpolation_results = [dilator_to_scale( (1-i/steps)*d1+(i/steps)*d2) for i in range(steps+1)]\n",
    "# for i in range(11):\n",
    "#     alpha = i/10\n",
    "#     print(alpha, '\\t', test3_results[i])\n",
    "#     print(alpha, '\\t', test3(alpha))\n",
    "\n",
    "import matplotlib.pyplot as plt\n",
    "plt.figure()\n",
    "\n",
    "plt.plot(range(steps+1),test_d_interpolation_results)\n",
    "correct = [1 + i/steps for i in range(steps+1)] \n",
    "plt.plot(range(steps+1),correct)\n",
    "\n",
    "plt.ylabel('scale factor')\n",
    "plt.xlabel('Interpolation steps: 0=original keyframe, 100=final keyframe')\n",
    "# txt=\"Interpolation steps: 0=original keyframe, 100=final keyframe\"\n",
    "# plt.figtext(0.5, 0.01, txt, wrap=True, horizontalalignment='center', fontsize=12)\n",
    "plt.legend(('Via Multivectors ', 'Original Way'))\n",
    "\n",
    "plt.show()\n",
    "\n",
    "diff = [correct[i]-test_d_interpolation_results[i] for i in range(len(correct))]\n",
    "print('megisto sfalma:',numpy.linalg.norm(diff,numpy.inf))\n"
   ]
  }
 ],
 "metadata": {
  "kernelspec": {
   "display_name": "Python 3.7.13 ('py37')",
   "language": "python",
   "name": "python3"
  },
  "language_info": {
   "codemirror_mode": {
    "name": "ipython",
    "version": 3
   },
   "file_extension": ".py",
   "mimetype": "text/x-python",
   "name": "python",
   "nbconvert_exporter": "python",
   "pygments_lexer": "ipython3",
   "version": "3.7.13"
  },
  "vscode": {
   "interpreter": {
    "hash": "be3795a449b7d3ee040a08a68c6e604889ad0ef22ea54062c84e7b7ad6d735c9"
   }
  }
 },
 "nbformat": 4,
 "nbformat_minor": 2
}
