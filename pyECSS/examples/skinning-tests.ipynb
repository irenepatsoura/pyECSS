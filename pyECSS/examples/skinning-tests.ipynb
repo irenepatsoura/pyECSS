{
 "cells": [
  {
   "cell_type": "markdown",
   "metadata": {
    "slideshow": {
     "slide_type": "slide"
    }
   },
   "source": [
    "# Project GATE"
   ]
  },
  {
   "cell_type": "code",
   "execution_count": 51,
   "metadata": {
    "slideshow": {
     "slide_type": "fragment"
    }
   },
   "outputs": [],
   "source": [
    "import sys\n",
    "# !{sys.executable} -m pip install pyassimp\n",
    "# !{sys.executable} -m conda install -c flyem-forge assimp\n",
    "# !conda install --yes --prefix {sys.prefix} -c schrodinger pycollada\n",
    "\n",
    "# path to module files\n",
    "sys.path.insert(1, '../python_files/') # insert at 1, 0 is the script path (or '' in REPL)\n",
    "\n",
    "import warnings\n",
    "warnings.filterwarnings('ignore')\n",
    "\n",
    "import numpy as np\n",
    "from numpy import e\n",
    "from clifford.g3c import *\n",
    "from clifford.tools.g3c import *\n",
    "# from pyganja_package import *\n",
    "from pyassimp import *\n",
    "# import igl\n",
    "import meshplot as mp"
   ]
  },
  {
   "cell_type": "markdown",
   "metadata": {},
   "source": [
    "## PyAssimp examples"
   ]
  },
  {
   "cell_type": "code",
   "execution_count": 52,
   "metadata": {},
   "outputs": [],
   "source": [
    "\n",
    "scene = load('astroBoy_walk.dae')\n",
    "# mesh = Collada('./models/cylinders_tris_only.dae', ignore=[DaeUnsupportedError, DaeBrokenRefError])\n",
    "mesh = scene.meshes[0]\n",
    "# print(len(mesh.vertices))\n",
    "# print(len(mesh.normals))\n",
    "# print(len(mesh.texturecoords))\n",
    "# print(len(mesh.faces))\n",
    "# print(len(mesh.bones))\n",
    "\n",
    "# for b in mesh.bones:\n",
    "#     print('-----------------------')\n",
    "#     for w in b.weights:\n",
    "#         print(w.weight)\n",
    "        \n",
    "# release(scene)"
   ]
  },
  {
   "cell_type": "code",
   "execution_count": 53,
   "metadata": {
    "tags": []
   },
   "outputs": [
    {
     "name": "stdout",
     "output_type": "stream",
     "text": [
      "2006\n",
      "2006\n",
      "1\n",
      "990\n",
      "3\n"
     ]
    },
    {
     "data": {
      "application/vnd.jupyter.widget-view+json": {
       "model_id": "58545cf22b894f33a3f38d0054f6e677",
       "version_major": 2,
       "version_minor": 0
      },
      "text/plain": [
       "Renderer(camera=PerspectiveCamera(children=(DirectionalLight(color='white', intensity=0.6, position=(0.0, 13.6…"
      ]
     },
     "metadata": {},
     "output_type": "display_data"
    }
   ],
   "source": [
    "# print(mesh.vertices)\n",
    "\n",
    "\n",
    "# scene = load('../models/astroBoy_walk.dae')\n",
    "# scene = load('../models/cylinders_tris_only.dae')\n",
    "# scene = load('../models/ManolisModelOnlyTris.fbx')\n",
    "scene = load('astroBoy_walk.dae')\n",
    "mesh = scene.meshes[0]\n",
    "v = mesh.vertices\n",
    "f = mesh.faces\n",
    "\n",
    "# mesh = scene.meshes[0]\n",
    "print(len(mesh.vertices))\n",
    "print(len(mesh.normals))\n",
    "print(len(mesh.texturecoords))\n",
    "print(len(mesh.faces))\n",
    "print(len(mesh.bones))\n",
    "\n",
    "# for b in mesh.bones:\n",
    "#     print('-----------------------')\n",
    "#     for w in b.weights:\n",
    "#         print(w.weight)\n",
    "        \n",
    "# release(scene)\n",
    "\n",
    "\n",
    "p = mp.plot(v, f,v[:, 0],shading={\"scale\": 2.5},return_plot=True)\n",
    "\n",
    "L = len(scene.meshes)\n",
    "for i in range(1,L):\n",
    "    mesh = scene.meshes[i]\n",
    "    v = mesh.vertices\n",
    "    f = mesh.faces\n",
    "    p.add_mesh(v, f, v[:, 0],);\n",
    "\n",
    "release(scene)\n",
    "\n",
    "\n",
    "# p.save(\"./PDFs/astro_boy.html\")"
   ]
  },
  {
   "cell_type": "markdown",
   "metadata": {},
   "source": [
    "### Experimenting with body bones"
   ]
  },
  {
   "cell_type": "code",
   "execution_count": 54,
   "metadata": {
    "tags": []
   },
   "outputs": [
    {
     "name": "stdout",
     "output_type": "stream",
     "text": [
      "0 astroBoy_newSkeleton_spine02\n",
      "1 astroBoy_newSkeleton_neck01\n",
      "2 astroBoy_newSkeleton_head\n"
     ]
    }
   ],
   "source": [
    "mesh = scene.meshes[0] \n",
    "v = mesh.vertices\n",
    "f = mesh.faces\n",
    "b = mesh.bones\n",
    "\n",
    "for i in range(len(b)):\n",
    "    print(i,b[i])"
   ]
  },
  {
   "cell_type": "code",
   "execution_count": 55,
   "metadata": {
    "tags": []
   },
   "outputs": [
    {
     "name": "stdout",
     "output_type": "stream",
     "text": [
      "NODES:\n",
      "0- VisualSceneNode\n",
      "1 - astroBoy_newSkeleton_boy\n",
      "1 - astroBoy_newSkeleton_pointLight1\n",
      "1 - astroBoy_newSkeleton_ambientLight1\n",
      "1 - astroBoy_newSkeleton_deformation_rig\n",
      "2  - astroBoy_newSkeleton_root\n",
      "3   - astroBoy_newSkeleton_spine01\n",
      "4    - astroBoy_newSkeleton_spine02\n",
      "5     - astroBoy_newSkeleton_neck01\n",
      "6      - astroBoy_newSkeleton_head\n",
      "7       - astroBoy_newSkeleton_headEnd\n",
      "5     - astroBoy_newSkeleton_L_clavicle\n",
      "6      - astroBoy_newSkeleton_L_shoulder\n",
      "7       - astroBoy_newSkeleton_L_bicep\n",
      "8        - astroBoy_newSkeleton_L_elbow\n",
      "9         - astroBoy_newSkeleton_L_forearm\n",
      "10          - astroBoy_newSkeleton_L_wrist\n",
      "11           - astroBoy_newSkeleton_L_pinkyOrient\n",
      "12            - astroBoy_newSkeleton_L_pinky_01\n",
      "13             - astroBoy_newSkeleton_L_pinky_02\n",
      "14              - astroBoy_newSkeleton_L_pinkyEnd\n",
      "11           - astroBoy_newSkeleton_L_middleOrient\n",
      "12            - astroBoy_newSkeleton_L_middle_01\n",
      "13             - astroBoy_newSkeleton_L_middle_02\n",
      "14              - astroBoy_newSkeleton_L_middleEnd\n",
      "11           - astroBoy_newSkeleton_L_indexOrient\n",
      "12            - astroBoy_newSkeleton_L_index_01\n",
      "13             - astroBoy_newSkeleton_L_index_02\n",
      "14              - astroBoy_newSkeleton_L_indexEnd\n",
      "11           - astroBoy_newSkeleton_L_thumbOrient\n",
      "12            - astroBoy_newSkeleton_L_thumb_01\n",
      "13             - astroBoy_newSkeleton_L_thumb_02\n",
      "14              - astroBoy_newSkeleton_L_thumbEnd\n",
      "5     - astroBoy_newSkeleton_R_clavicle\n",
      "6      - astroBoy_newSkeleton_R_shoulder\n",
      "7       - astroBoy_newSkeleton_R_bicep\n",
      "8        - astroBoy_newSkeleton_R_elbow\n",
      "9         - astroBoy_newSkeleton_R_forearm\n",
      "10          - astroBoy_newSkeleton_R_wrist\n",
      "11           - astroBoy_newSkeleton_R_pinkyOrient\n",
      "12            - astroBoy_newSkeleton_R_pinky_01\n",
      "13             - astroBoy_newSkeleton_R_pinky_02\n",
      "14              - astroBoy_newSkeleton_R_pinkyEnd\n",
      "11           - astroBoy_newSkeleton_R_middleOrient\n",
      "12            - astroBoy_newSkeleton_R_middle_01\n",
      "13             - astroBoy_newSkeleton_R_middle_02\n",
      "14              - astroBoy_newSkeleton_R_middleEnd\n",
      "11           - astroBoy_newSkeleton_R_indexOrient\n",
      "12            - astroBoy_newSkeleton_R_index_01\n",
      "13             - astroBoy_newSkeleton_R_index_02\n",
      "14              - astroBoy_newSkeleton_R_indexEnd\n",
      "11           - astroBoy_newSkeleton_R_thumbOrient\n",
      "12            - astroBoy_newSkeleton_R_thumb_01\n",
      "13             - astroBoy_newSkeleton_R_thumb_02\n",
      "14              - astroBoy_newSkeleton_R_thumbEnd\n",
      "7       - astroBoy_newSkeleton_L_shoulder_parentConstraint2\n",
      "3   - astroBoy_newSkeleton_hips\n",
      "4    - astroBoy_newSkeleton_L_hip\n",
      "5     - astroBoy_newSkeleton_L_knee_01\n",
      "6      - astroBoy_newSkeleton_L_knee_02\n",
      "7       - astroBoy_newSkeleton_L_ankle\n",
      "8        - astroBoy_newSkeleton_L_toeBall\n",
      "9         - astroBoy_newSkeleton_L_toeEnd\n",
      "4    - astroBoy_newSkeleton_R_hip\n",
      "5     - astroBoy_newSkeleton_R_knee_01\n",
      "6      - astroBoy_newSkeleton_R_knee_02\n",
      "7       - astroBoy_newSkeleton_R_ankle\n",
      "8        - astroBoy_newSkeleton_R_toeBall\n",
      "9         - astroBoy_newSkeleton_R_toeEnd\n"
     ]
    }
   ],
   "source": [
    "scene = load('astroBoy_walk.dae')\n",
    "\n",
    "def recur_node(node,level = 0):\n",
    "#     print(\"  \" + \"\\t\" * level + \"- \" + str(node))\n",
    "    print(str(level) + \" \" * level + \"- \" + str(node))\n",
    "    for child in node.children:\n",
    "        recur_node(child, level + 1)\n",
    "\n",
    "\n",
    "        \n",
    "print(\"NODES:\")\n",
    "recur_node(scene.rootnode)\n",
    "\n",
    "\n",
    "# recur_node(scene.rootnode.children[3])\n",
    "# recur_node(scene.rootnode.astroBoy_newSkeleton_root)\n",
    "\n",
    "# print(scene.rootnode.children[3].children[0].children[0])\n"
   ]
  },
  {
   "cell_type": "code",
   "execution_count": 56,
   "metadata": {
    "tags": []
   },
   "outputs": [
    {
     "name": "stdout",
     "output_type": "stream",
     "text": [
      "astroBoy_newSkeleton_spine02\n",
      "16\n",
      "1418\n",
      "1.0\n",
      "2006\n"
     ]
    }
   ],
   "source": [
    "scene = load('astroBoy_walk.dae')\n",
    "# scene = load('../models/ManosCubeScale123.fbx')\n",
    "# scene = load('../models/ManosCube.dae')\n",
    "\n",
    "\n",
    "mesh = scene.meshes[0] # body\n",
    "v = mesh.vertices\n",
    "f = mesh.faces\n",
    "b = mesh.bones\n",
    "\n",
    "boneID = 0\n",
    "print(b[boneID]) # to onoma tou bone\n",
    "print(len(b[boneID].weights)) # to plithos ton korifon pou epireazei to bone b[0]\n",
    "print(b[boneID].weights[15].vertexid) # to 21o vertex pou epireazei to bone b[0]\n",
    "print(b[boneID].weights[15].weight) # to antistoixo varos\n",
    "\n",
    "print(len(v))"
   ]
  },
  {
   "cell_type": "code",
   "execution_count": 57,
   "metadata": {
    "tags": []
   },
   "outputs": [
    {
     "name": "stdout",
     "output_type": "stream",
     "text": [
      "[[ 0.          0.19124199  0.981543   -1.47623003]\n",
      " [ 0.          0.981543   -0.19124199 -9.44237041]\n",
      " [-1.          0.          0.          0.        ]\n",
      " [ 0.          0.          0.          1.        ]]\n"
     ]
    }
   ],
   "source": [
    "M0 = b[0].offsetmatrix\n",
    "print(b[0].offsetmatrix)\n",
    "# print(b[1].offsetmatrix)\n",
    "# print(b[2].offsetmatrix)"
   ]
  },
  {
   "cell_type": "code",
   "execution_count": 58,
   "metadata": {},
   "outputs": [],
   "source": [
    "M1 = b[0].offsetmatrix\n",
    "# print(b[1].offsetmatrix)"
   ]
  },
  {
   "cell_type": "code",
   "execution_count": 59,
   "metadata": {},
   "outputs": [],
   "source": [
    "# M2 = b[1].offsetmatrix\n",
    "# print(b[2].offsetmatrix)"
   ]
  },
  {
   "cell_type": "code",
   "execution_count": 60,
   "metadata": {},
   "outputs": [],
   "source": [
    "# M10 = np.dot(M1,M0)\n",
    "# M210 = np.dot(M2,M10)\n",
    "# print(M210)"
   ]
  },
  {
   "cell_type": "code",
   "execution_count": 66,
   "metadata": {
    "tags": []
   },
   "outputs": [
    {
     "name": "stdout",
     "output_type": "stream",
     "text": [
      "M=\n",
      " [[-3.67320510e-06  1.00000000e+00 -3.67320510e-06]\n",
      " [ 0.00000000e+00 -3.67320510e-06 -1.00000000e+00]\n",
      " [-1.00000000e+00 -3.67320510e-06  1.34924357e-11]]\n",
      "(3,)\n",
      "[[1.         0.         0.        ]\n",
      " [0.         0.5        0.        ]\n",
      " [0.         0.         0.33333333]]\n",
      "[[-3.67320510e-06  1.00000000e+00 -3.67320510e-06]\n",
      " [ 0.00000000e+00 -1.83660255e-06 -5.00000000e-01]\n",
      " [-3.33333333e-01 -1.22440170e-06  4.49747858e-12]]\n",
      "[2.99999265 1.49999816 1.66666544]\n",
      "[[-3.67320510e-06  1.00000000e+00 -3.67320510e-06  2.00000000e+00]\n",
      " [ 0.00000000e+00 -1.83660255e-06 -5.00000000e-01  2.00000000e+00]\n",
      " [-3.33333333e-01 -1.22440170e-06  4.49747858e-12  2.00000000e+00]\n",
      " [ 0.00000000e+00  0.00000000e+00  0.00000000e+00  0.00000000e+00]]\n",
      "[2.99999265 1.49999816 1.66666544 0.        ]\n"
     ]
    }
   ],
   "source": [
    "def eulerAnglesToRotationMatrix(theta) :\n",
    "     \n",
    "    R_x = np.array([[1,         0,                  0                   ],\n",
    "                    [0,         math.cos(theta[0]), -math.sin(theta[0]) ],\n",
    "                    [0,         math.sin(theta[0]), math.cos(theta[0])  ]\n",
    "                    ])\n",
    "         \n",
    "         \n",
    "                     \n",
    "    R_y = np.array([[math.cos(theta[1]),    0,      math.sin(theta[1])  ],\n",
    "                    [0,                     1,      0                   ],\n",
    "                    [-math.sin(theta[1]),   0,      math.cos(theta[1])  ]\n",
    "                    ])\n",
    "                 \n",
    "    R_z = np.array([[math.cos(theta[2]),    -math.sin(theta[2]),    0],\n",
    "                    [math.sin(theta[2]),    math.cos(theta[2]),     0],\n",
    "                    [0,                     0,                      1]\n",
    "                    ])\n",
    "                     \n",
    "                     \n",
    "    R = np.dot(R_z, np.dot( R_y, R_x ))\n",
    " \n",
    "    return R\n",
    "\n",
    "M = eulerAnglesToRotationMatrix([1.5708,1.5708,0])\n",
    "print(\"M=\\n\",M)\n",
    "\n",
    "v = np.array([1,1,1])\n",
    "\n",
    "D = np.diag([1,1/2,1/3])\n",
    "print(D)\n",
    "\n",
    "t = [2,2,2]\n",
    "\n",
    "M2 = np.dot(D,M)\n",
    "print(M2)\n",
    "\n",
    "# 1st way\n",
    "print(np.dot(M2,v)+t)\n",
    "\n",
    "# 2nd way\n",
    "\n",
    "M3 = np.zeros([4,4])\n",
    "M3[0:3,0:3] = M2\n",
    "M3[0:3,3] = np.transpose(t)\n",
    "print(M3)\n",
    "v3 = np.array([1,1,1,1])\n",
    "print(np.dot(M3,v3))"
   ]
  },
  {
   "cell_type": "code",
   "execution_count": 62,
   "metadata": {
    "tags": []
   },
   "outputs": [
    {
     "name": "stdout",
     "output_type": "stream",
     "text": [
      "[[-3.67320510e-06  1.00000000e+00 -3.67320510e-06]\n",
      " [ 0.00000000e+00 -1.83660255e-06 -5.00000000e-01]\n",
      " [-3.33333333e-01 -1.22440170e-06  4.49747858e-12]]\n",
      "[[-3.67320510e-06  5.00000000e-01 -1.22440170e-06]\n",
      " [ 0.00000000e+00 -1.83660255e-06 -3.33333333e-01]\n",
      " [-1.00000000e+00 -1.83660255e-06  4.49747858e-12]]\n"
     ]
    }
   ],
   "source": [
    "R = eulerAnglesToRotationMatrix([1.5708,1.5708,0])\n",
    "D = np.diag([1,1/2,1/3])\n",
    "\n",
    "print(np.dot(D,R))\n",
    "print(np.dot(R,D))"
   ]
  },
  {
   "cell_type": "code",
   "execution_count": 63,
   "metadata": {
    "tags": []
   },
   "outputs": [
    {
     "name": "stdout",
     "output_type": "stream",
     "text": [
      "[[1.00000017 0.         0.        ]\n",
      " [0.         1.00000017 0.        ]\n",
      " [0.         0.         1.        ]]\n"
     ]
    }
   ],
   "source": [
    "# Checks if a matrix is a valid rotation matrix.\n",
    "def isRotationMatrix(R) :\n",
    "    Rt = np.transpose(R)\n",
    "    shouldBeIdentity = np.dot(Rt, R)\n",
    "    I = np.identity(3, dtype = R.dtype)\n",
    "    n = np.linalg.norm(I - shouldBeIdentity)\n",
    "    return n < 1e-6\n",
    " \n",
    " \n",
    "# Calculates rotation matrix to euler angles\n",
    "# The result is the same as MATLAB except the order\n",
    "# of the euler angles ( x and z are swapped ).\n",
    "def rotationMatrixToEulerAngles(R) :\n",
    " \n",
    "#     assert(isRotationMatrix(R))\n",
    "     \n",
    "    sy = math.sqrt(R[0,0] * R[0,0] +  R[1,0] * R[1,0])\n",
    "     \n",
    "    singular = sy < 1e-6\n",
    " \n",
    "    if  not singular :\n",
    "        x = math.atan2(R[2,1] , R[2,2])\n",
    "        y = math.atan2(-R[2,0], sy)\n",
    "        z = math.atan2(R[1,0], R[0,0])\n",
    "    else :\n",
    "        x = math.atan2(-R[1,2], R[1,1])\n",
    "        y = math.atan2(-R[2,0], sy)\n",
    "        z = 0\n",
    " \n",
    "    return np.array([x, y, z])\n",
    "\n",
    "B = b[0].offsetmatrix\n",
    "M = B[0:3,0:3] \n",
    "Mt = np.transpose(M)\n",
    "\n",
    "\n",
    "# rotationMatrixToEulerAngles(M)\n",
    "print(np.dot(M,Mt))"
   ]
  },
  {
   "cell_type": "code",
   "execution_count": 64,
   "metadata": {
    "tags": []
   },
   "outputs": [],
   "source": [
    "# see: http://ogldev.org/www/tutorial38/tutorial38.html\n",
    "\n",
    "# print(scene.rootnode.children[0].children[0])\n",
    "# print(scene.rootnode.children[0].children[0].children[0])\n",
    "# print(scene.rootnode.children[0].children[0].children[0].parent)\n",
    "# print(scene.rootnode.children[0].children[0].children[0].transformation)\n",
    "# print(scene.rootnode.children[0].children[0].children[0].name)"
   ]
  },
  {
   "cell_type": "markdown",
   "metadata": {},
   "source": [
    "# Model2"
   ]
  },
  {
   "cell_type": "code",
   "execution_count": 65,
   "metadata": {},
   "outputs": [
    {
     "ename": "IndexError",
     "evalue": "too many indices for array: array is 1-dimensional, but 2 were indexed",
     "output_type": "error",
     "traceback": [
      "\u001b[0;31m---------------------------------------------------------------------------\u001b[0m",
      "\u001b[0;31mIndexError\u001b[0m                                Traceback (most recent call last)",
      "\u001b[0;32m/var/folders/c2/svlq7yrn3q5_cg8hwkf29q280000gn/T/ipykernel_11256/3368622946.py\u001b[0m in \u001b[0;36m<module>\u001b[0;34m\u001b[0m\n\u001b[1;32m      5\u001b[0m \u001b[0mmesh\u001b[0m \u001b[0;34m=\u001b[0m \u001b[0mscene\u001b[0m\u001b[0;34m.\u001b[0m\u001b[0mmeshes\u001b[0m\u001b[0;34m[\u001b[0m\u001b[0;36m0\u001b[0m\u001b[0;34m]\u001b[0m \u001b[0;31m# body\u001b[0m\u001b[0;34m\u001b[0m\u001b[0;34m\u001b[0m\u001b[0m\n\u001b[1;32m      6\u001b[0m \u001b[0mL\u001b[0m \u001b[0;34m=\u001b[0m \u001b[0mlen\u001b[0m\u001b[0;34m(\u001b[0m\u001b[0mscene\u001b[0m\u001b[0;34m.\u001b[0m\u001b[0mmeshes\u001b[0m\u001b[0;34m)\u001b[0m\u001b[0;34m\u001b[0m\u001b[0;34m\u001b[0m\u001b[0m\n\u001b[0;32m----> 7\u001b[0;31m \u001b[0mp\u001b[0m \u001b[0;34m=\u001b[0m \u001b[0mmp\u001b[0m\u001b[0;34m.\u001b[0m\u001b[0mplot\u001b[0m\u001b[0;34m(\u001b[0m\u001b[0mv\u001b[0m\u001b[0;34m,\u001b[0m \u001b[0mf\u001b[0m\u001b[0;34m,\u001b[0m\u001b[0mv\u001b[0m\u001b[0;34m[\u001b[0m\u001b[0;34m:\u001b[0m\u001b[0;34m,\u001b[0m \u001b[0;36m0\u001b[0m\u001b[0;34m]\u001b[0m\u001b[0;34m,\u001b[0m\u001b[0mshading\u001b[0m\u001b[0;34m=\u001b[0m\u001b[0;34m{\u001b[0m\u001b[0;34m\"scale\"\u001b[0m\u001b[0;34m:\u001b[0m \u001b[0;36m2.5\u001b[0m\u001b[0;34m}\u001b[0m\u001b[0;34m,\u001b[0m\u001b[0mreturn_plot\u001b[0m\u001b[0;34m=\u001b[0m\u001b[0;32mTrue\u001b[0m\u001b[0;34m)\u001b[0m\u001b[0;34m\u001b[0m\u001b[0;34m\u001b[0m\u001b[0m\n\u001b[0m\u001b[1;32m      8\u001b[0m \u001b[0;32mfor\u001b[0m \u001b[0mi\u001b[0m \u001b[0;32min\u001b[0m \u001b[0mrange\u001b[0m\u001b[0;34m(\u001b[0m\u001b[0;36m1\u001b[0m\u001b[0;34m,\u001b[0m\u001b[0mL\u001b[0m\u001b[0;34m)\u001b[0m\u001b[0;34m:\u001b[0m\u001b[0;34m\u001b[0m\u001b[0;34m\u001b[0m\u001b[0m\n\u001b[1;32m      9\u001b[0m     \u001b[0mmesh\u001b[0m \u001b[0;34m=\u001b[0m \u001b[0mscene\u001b[0m\u001b[0;34m.\u001b[0m\u001b[0mmeshes\u001b[0m\u001b[0;34m[\u001b[0m\u001b[0mi\u001b[0m\u001b[0;34m]\u001b[0m\u001b[0;34m\u001b[0m\u001b[0;34m\u001b[0m\u001b[0m\n",
      "\u001b[0;31mIndexError\u001b[0m: too many indices for array: array is 1-dimensional, but 2 were indexed"
     ]
    }
   ],
   "source": [
    "scene = load('astroBoy_walk.dae')\n",
    "# v = np.reshape(v,((v.shape[0],1)))\n",
    "# print(v)\n",
    "# print(v.shape)\n",
    "mesh = scene.meshes[0] # body\n",
    "L = len(scene.meshes)\n",
    "p = mp.plot(v, f,v[:, 0],shading={\"scale\": 2.5},return_plot=True)\n",
    "for i in range(1,L):\n",
    "    mesh = scene.meshes[i]\n",
    "    v = mesh.vertices\n",
    "    f = mesh.faces\n",
    "    p.add_mesh(v, f, v[:, 0]);\n",
    "\n",
    "release(scene)"
   ]
  },
  {
   "cell_type": "code",
   "execution_count": null,
   "metadata": {
    "tags": []
   },
   "outputs": [
    {
     "name": "stdout",
     "output_type": "stream",
     "text": [
      "these are the points affected by  joint3\n",
      "========\n",
      "ID  & Weight\n",
      "0 0.49656298756599426\n",
      "1 0.49656298756599426\n",
      "2 0.49863201379776\n",
      "3 0.49656298756599426\n",
      "4 0.49863201379776\n",
      "5 0.49863201379776\n",
      "6 0.49656298756599426\n",
      "7 0.49656298756599426\n",
      "8 0.49656298756599426\n",
      "9 0.49656298756599426\n",
      "10 0.49656298756599426\n",
      "11 0.49656298756599426\n",
      "12 0.49863201379776\n",
      "13 0.49863201379776\n",
      "14 0.49656298756599426\n",
      "15 0.49863201379776\n",
      "16 0.49656298756599426\n",
      "17 0.49656298756599426\n",
      "18 0.49863201379776\n",
      "19 0.49863201379776\n",
      "20 0.49863201379776\n",
      "21 0.49863201379776\n",
      "22 0.49863201379776\n",
      "23 0.49863201379776\n",
      "24 0.49656298756599426\n",
      "25 0.49863201379776\n",
      "26 0.49656298756599426\n",
      "27 0.49863201379776\n",
      "28 0.49863201379776\n",
      "29 0.49656298756599426\n",
      "30 0.49656298756599426\n",
      "31 0.49863201379776\n",
      "32 0.49863201379776\n",
      "33 0.49863201379776\n",
      "34 0.49656298756599426\n",
      "35 0.49656298756599426\n",
      "36 0.4969330132007599\n",
      "37 0.006134999915957451\n",
      "38 0.4969330132007599\n",
      "39 0.4969330132007599\n",
      "40 0.006134999915957451\n",
      "41 0.006134999915957451\n",
      "42 0.4969330132007599\n",
      "43 0.4969330132007599\n",
      "44 0.4969330132007599\n",
      "45 0.4969330132007599\n",
      "46 0.4969330132007599\n",
      "47 0.4969330132007599\n",
      "48 0.006134999915957451\n",
      "49 0.4969330132007599\n",
      "50 0.006134999915957451\n",
      "51 0.006134999915957451\n",
      "52 0.4969330132007599\n",
      "53 0.4969330132007599\n",
      "54 0.006134999915957451\n",
      "55 0.006134999915957451\n",
      "56 0.006134999915957451\n",
      "57 0.006134999915957451\n",
      "58 0.006134999915957451\n",
      "59 0.006134999915957451\n",
      "60 0.006134999915957451\n",
      "61 0.4969330132007599\n",
      "62 0.006134999915957451\n",
      "63 0.4969330132007599\n",
      "64 0.006134999915957451\n",
      "65 0.4969330132007599\n",
      "66 0.4969330132007599\n",
      "67 0.006134999915957451\n",
      "68 0.006134999915957451\n",
      "69 0.006134999915957451\n",
      "70 0.4969330132007599\n",
      "71 0.4969330132007599\n",
      "72 0.01960800029337406\n",
      "73 0.001462999964132905\n",
      "74 0.001462999964132905\n",
      "75 0.001462999964132905\n",
      "76 0.01960800029337406\n",
      "77 0.01960800029337406\n",
      "78 0.01960800029337406\n",
      "79 0.001462999964132905\n",
      "80 0.001462999964132905\n",
      "81 0.001462999964132905\n",
      "82 0.01960800029337406\n",
      "83 0.01960800029337406\n",
      "84 0.01960800029337406\n",
      "85 0.001462999964132905\n",
      "86 0.001462999964132905\n",
      "87 0.001462999964132905\n",
      "88 0.01960800029337406\n",
      "89 0.01960800029337406\n",
      "90 0.01960800029337406\n",
      "91 0.001462999964132905\n",
      "92 0.01960800029337406\n",
      "93 0.01960800029337406\n",
      "94 0.001462999964132905\n",
      "95 0.001462999964132905\n",
      "96 0.001462999964132905\n",
      "97 0.01960800029337406\n",
      "98 0.001462999964132905\n",
      "99 0.01960800029337406\n",
      "100 0.001462999964132905\n",
      "101 0.01960800029337406\n",
      "102 0.001462999964132905\n",
      "103 0.01960800029337406\n",
      "104 0.001462999964132905\n",
      "105 0.01960800029337406\n",
      "106 0.001462999964132905\n",
      "107 0.01960800029337406\n",
      "108 0.001462999964132905\n",
      "109 0.001462999964132905\n",
      "111 0.001462999964132905\n",
      "112 0.001462999964132905\n",
      "114 0.001462999964132905\n",
      "115 0.001462999964132905\n",
      "117 0.001462999964132905\n",
      "118 0.001462999964132905\n",
      "120 0.001462999964132905\n",
      "121 0.001462999964132905\n",
      "123 0.001462999964132905\n",
      "124 0.001462999964132905\n",
      "126 0.01960800029337406\n",
      "127 0.01960800029337406\n",
      "129 0.01960800029337406\n",
      "130 0.01960800029337406\n",
      "132 0.01960800029337406\n",
      "133 0.01960800029337406\n",
      "135 0.01960800029337406\n",
      "136 0.01960800029337406\n",
      "138 0.01960800029337406\n",
      "139 0.01960800029337406\n",
      "141 0.01960800029337406\n",
      "142 0.01960800029337406\n",
      "========\n"
     ]
    }
   ],
   "source": [
    "b = mesh.bones\n",
    "\n",
    "\n",
    "boneID = 2\n",
    "vertices_ids_affected_by_boneID = [b[boneID].weights[i].vertexid for i in range(len(b[boneID].weights))]\n",
    "\n",
    "\n",
    "print(\"these are the points affected by \", b[boneID])\n",
    "print(\"=\"*8)\n",
    "print(\"ID  & Weight\")\n",
    "for i in range(len(b[boneID].weights)):\n",
    "    print(b[boneID].weights[i].vertexid, b[boneID].weights[i].weight)\n",
    "print(\"=\"*8)\n",
    "# print(vertices_ids_affected_by_boneID)"
   ]
  },
  {
   "cell_type": "code",
   "execution_count": null,
   "metadata": {},
   "outputs": [],
   "source": [
    "M0 = b[0].offsetmatrix\n",
    "M1 = b[1].offsetmatrix\n",
    "M2 = b[2].offsetmatrix"
   ]
  },
  {
   "cell_type": "code",
   "execution_count": null,
   "metadata": {
    "tags": []
   },
   "outputs": [
    {
     "name": "stdout",
     "output_type": "stream",
     "text": [
      "1\n"
     ]
    },
    {
     "ename": "ValueError",
     "evalue": "shapes (4,4) and (2,) not aligned: 4 (dim 1) != 2 (dim 0)",
     "output_type": "error",
     "traceback": [
      "\u001b[0;31m---------------------------------------------------------------------------\u001b[0m",
      "\u001b[0;31mValueError\u001b[0m                                Traceback (most recent call last)",
      "\u001b[0;32m<ipython-input-18-2e3363876c87>\u001b[0m in \u001b[0;36m<module>\u001b[0;34m\u001b[0m\n\u001b[1;32m      3\u001b[0m \u001b[0;34m\u001b[0m\u001b[0m\n\u001b[1;32m      4\u001b[0m \u001b[0mprint\u001b[0m\u001b[0;34m(\u001b[0m\u001b[0mv\u001b[0m\u001b[0;34m[\u001b[0m\u001b[0;36m0\u001b[0m\u001b[0;34m]\u001b[0m\u001b[0;34m)\u001b[0m\u001b[0;34m\u001b[0m\u001b[0;34m\u001b[0m\u001b[0m\n\u001b[0;32m----> 5\u001b[0;31m \u001b[0mprint\u001b[0m\u001b[0;34m(\u001b[0m\u001b[0mvertex_view_from_M\u001b[0m\u001b[0;34m(\u001b[0m\u001b[0mv\u001b[0m\u001b[0;34m[\u001b[0m\u001b[0;36m0\u001b[0m\u001b[0;34m]\u001b[0m\u001b[0;34m,\u001b[0m\u001b[0mM0\u001b[0m\u001b[0;34m)\u001b[0m\u001b[0;34m)\u001b[0m\u001b[0;34m\u001b[0m\u001b[0;34m\u001b[0m\u001b[0m\n\u001b[0m",
      "\u001b[0;32m<ipython-input-18-2e3363876c87>\u001b[0m in \u001b[0;36mvertex_view_from_M\u001b[0;34m(v, M)\u001b[0m\n\u001b[1;32m      1\u001b[0m \u001b[0;32mdef\u001b[0m \u001b[0mvertex_view_from_M\u001b[0m\u001b[0;34m(\u001b[0m\u001b[0mv\u001b[0m\u001b[0;34m,\u001b[0m\u001b[0mM\u001b[0m\u001b[0;34m)\u001b[0m\u001b[0;34m:\u001b[0m\u001b[0;34m\u001b[0m\u001b[0;34m\u001b[0m\u001b[0m\n\u001b[0;32m----> 2\u001b[0;31m     \u001b[0;32mreturn\u001b[0m \u001b[0mnp\u001b[0m\u001b[0;34m.\u001b[0m\u001b[0mdot\u001b[0m\u001b[0;34m(\u001b[0m\u001b[0mM\u001b[0m\u001b[0;34m,\u001b[0m\u001b[0mnp\u001b[0m\u001b[0;34m.\u001b[0m\u001b[0mappend\u001b[0m\u001b[0;34m(\u001b[0m\u001b[0mv\u001b[0m\u001b[0;34m,\u001b[0m\u001b[0;34m[\u001b[0m\u001b[0;36m1.0\u001b[0m\u001b[0;34m]\u001b[0m\u001b[0;34m)\u001b[0m\u001b[0;34m)\u001b[0m\u001b[0;34m[\u001b[0m\u001b[0;36m0\u001b[0m\u001b[0;34m:\u001b[0m\u001b[0;36m3\u001b[0m\u001b[0;34m]\u001b[0m\u001b[0;34m\u001b[0m\u001b[0;34m\u001b[0m\u001b[0m\n\u001b[0m\u001b[1;32m      3\u001b[0m \u001b[0;34m\u001b[0m\u001b[0m\n\u001b[1;32m      4\u001b[0m \u001b[0mprint\u001b[0m\u001b[0;34m(\u001b[0m\u001b[0mv\u001b[0m\u001b[0;34m[\u001b[0m\u001b[0;36m0\u001b[0m\u001b[0;34m]\u001b[0m\u001b[0;34m)\u001b[0m\u001b[0;34m\u001b[0m\u001b[0;34m\u001b[0m\u001b[0m\n\u001b[1;32m      5\u001b[0m \u001b[0mprint\u001b[0m\u001b[0;34m(\u001b[0m\u001b[0mvertex_view_from_M\u001b[0m\u001b[0;34m(\u001b[0m\u001b[0mv\u001b[0m\u001b[0;34m[\u001b[0m\u001b[0;36m0\u001b[0m\u001b[0;34m]\u001b[0m\u001b[0;34m,\u001b[0m\u001b[0mM0\u001b[0m\u001b[0;34m)\u001b[0m\u001b[0;34m)\u001b[0m\u001b[0;34m\u001b[0m\u001b[0;34m\u001b[0m\u001b[0m\n",
      "\u001b[0;32m<__array_function__ internals>\u001b[0m in \u001b[0;36mdot\u001b[0;34m(*args, **kwargs)\u001b[0m\n",
      "\u001b[0;31mValueError\u001b[0m: shapes (4,4) and (2,) not aligned: 4 (dim 1) != 2 (dim 0)"
     ]
    }
   ],
   "source": [
    "def vertex_view_from_M(v,M):\n",
    "    return np.dot(M,np.append(v,[1.0]))[0:3]\n",
    "\n",
    "print(v[0])\n",
    "print(vertex_view_from_M(v[0],M0))"
   ]
  },
  {
   "cell_type": "code",
   "execution_count": null,
   "metadata": {
    "tags": []
   },
   "outputs": [
    {
     "ename": "ValueError",
     "evalue": "shapes (4,4) and (2,) not aligned: 4 (dim 1) != 2 (dim 0)",
     "output_type": "error",
     "traceback": [
      "\u001b[0;31m---------------------------------------------------------------------------\u001b[0m",
      "\u001b[0;31mValueError\u001b[0m                                Traceback (most recent call last)",
      "\u001b[0;32m<ipython-input-19-049628576f77>\u001b[0m in \u001b[0;36m<module>\u001b[0;34m\u001b[0m\n\u001b[1;32m      5\u001b[0m \u001b[0;34m\u001b[0m\u001b[0m\n\u001b[1;32m      6\u001b[0m \u001b[0mv_origin\u001b[0m \u001b[0;34m=\u001b[0m \u001b[0mv\u001b[0m\u001b[0;34m[\u001b[0m\u001b[0;36m0\u001b[0m\u001b[0;34m]\u001b[0m\u001b[0;34m\u001b[0m\u001b[0;34m\u001b[0m\u001b[0m\n\u001b[0;32m----> 7\u001b[0;31m \u001b[0mv_after_M\u001b[0m \u001b[0;34m=\u001b[0m \u001b[0mvertex_view_from_M\u001b[0m\u001b[0;34m(\u001b[0m\u001b[0mv_origin\u001b[0m\u001b[0;34m,\u001b[0m\u001b[0mnp\u001b[0m\u001b[0;34m.\u001b[0m\u001b[0mdot\u001b[0m\u001b[0;34m(\u001b[0m\u001b[0mN\u001b[0m\u001b[0;34m,\u001b[0m\u001b[0mM0\u001b[0m\u001b[0;34m)\u001b[0m\u001b[0;34m)\u001b[0m\u001b[0;34m\u001b[0m\u001b[0;34m\u001b[0m\u001b[0m\n\u001b[0m\u001b[1;32m      8\u001b[0m \u001b[0mprint\u001b[0m\u001b[0;34m(\u001b[0m\u001b[0mv_origin\u001b[0m\u001b[0;34m)\u001b[0m\u001b[0;34m\u001b[0m\u001b[0;34m\u001b[0m\u001b[0m\n\u001b[1;32m      9\u001b[0m \u001b[0mprint\u001b[0m\u001b[0;34m(\u001b[0m\u001b[0mv_after_M\u001b[0m\u001b[0;34m)\u001b[0m\u001b[0;34m\u001b[0m\u001b[0;34m\u001b[0m\u001b[0m\n",
      "\u001b[0;32m<ipython-input-18-2e3363876c87>\u001b[0m in \u001b[0;36mvertex_view_from_M\u001b[0;34m(v, M)\u001b[0m\n\u001b[1;32m      1\u001b[0m \u001b[0;32mdef\u001b[0m \u001b[0mvertex_view_from_M\u001b[0m\u001b[0;34m(\u001b[0m\u001b[0mv\u001b[0m\u001b[0;34m,\u001b[0m\u001b[0mM\u001b[0m\u001b[0;34m)\u001b[0m\u001b[0;34m:\u001b[0m\u001b[0;34m\u001b[0m\u001b[0;34m\u001b[0m\u001b[0m\n\u001b[0;32m----> 2\u001b[0;31m     \u001b[0;32mreturn\u001b[0m \u001b[0mnp\u001b[0m\u001b[0;34m.\u001b[0m\u001b[0mdot\u001b[0m\u001b[0;34m(\u001b[0m\u001b[0mM\u001b[0m\u001b[0;34m,\u001b[0m\u001b[0mnp\u001b[0m\u001b[0;34m.\u001b[0m\u001b[0mappend\u001b[0m\u001b[0;34m(\u001b[0m\u001b[0mv\u001b[0m\u001b[0;34m,\u001b[0m\u001b[0;34m[\u001b[0m\u001b[0;36m1.0\u001b[0m\u001b[0;34m]\u001b[0m\u001b[0;34m)\u001b[0m\u001b[0;34m)\u001b[0m\u001b[0;34m[\u001b[0m\u001b[0;36m0\u001b[0m\u001b[0;34m:\u001b[0m\u001b[0;36m3\u001b[0m\u001b[0;34m]\u001b[0m\u001b[0;34m\u001b[0m\u001b[0;34m\u001b[0m\u001b[0m\n\u001b[0m\u001b[1;32m      3\u001b[0m \u001b[0;34m\u001b[0m\u001b[0m\n\u001b[1;32m      4\u001b[0m \u001b[0mprint\u001b[0m\u001b[0;34m(\u001b[0m\u001b[0mv\u001b[0m\u001b[0;34m[\u001b[0m\u001b[0;36m0\u001b[0m\u001b[0;34m]\u001b[0m\u001b[0;34m)\u001b[0m\u001b[0;34m\u001b[0m\u001b[0;34m\u001b[0m\u001b[0m\n\u001b[1;32m      5\u001b[0m \u001b[0mprint\u001b[0m\u001b[0;34m(\u001b[0m\u001b[0mvertex_view_from_M\u001b[0m\u001b[0;34m(\u001b[0m\u001b[0mv\u001b[0m\u001b[0;34m[\u001b[0m\u001b[0;36m0\u001b[0m\u001b[0;34m]\u001b[0m\u001b[0;34m,\u001b[0m\u001b[0mM0\u001b[0m\u001b[0;34m)\u001b[0m\u001b[0;34m)\u001b[0m\u001b[0;34m\u001b[0m\u001b[0;34m\u001b[0m\u001b[0m\n",
      "\u001b[0;32m<__array_function__ internals>\u001b[0m in \u001b[0;36mdot\u001b[0;34m(*args, **kwargs)\u001b[0m\n",
      "\u001b[0;31mValueError\u001b[0m: shapes (4,4) and (2,) not aligned: 4 (dim 1) != 2 (dim 0)"
     ]
    }
   ],
   "source": [
    "R = eulerAnglesToRotationMatrix([1.5708,1.5708,0])\n",
    "N = np.zeros([4,4])\n",
    "N[0:3,0:3] = R\n",
    "N[3,3] = 1\n",
    "\n",
    "v_origin = v[0]\n",
    "v_after_M = vertex_view_from_M(v_origin,np.dot(N,M0))\n",
    "print(v_origin)\n",
    "print(v_after_M)\n"
   ]
  },
  {
   "cell_type": "code",
   "execution_count": null,
   "metadata": {
    "tags": []
   },
   "outputs": [
    {
     "name": "stdout",
     "output_type": "stream",
     "text": [
      "========\n",
      "joint1\n",
      "N0= [[ 0.38613901  0.         -0.92244101  0.        ]\n",
      " [ 0.          1.          0.          0.        ]\n",
      " [ 0.92244101  0.          0.38613901  0.        ]\n",
      " [ 0.          0.          0.          1.        ]]\n",
      "========\n",
      "========\n",
      "joint1\n",
      "N0= [[ 0.38613901  0.         -0.92244101  0.        ]\n",
      " [ 0.          1.          0.          0.        ]\n",
      " [ 0.92244101  0.          0.38613901  0.        ]\n",
      " [ 0.          0.          0.          1.        ]]\n",
      "========\n",
      "M0= [[ 0.38613901  0.          0.92244101  0.        ]\n",
      " [ 0.          1.         -0.          0.        ]\n",
      " [-0.92244101  0.          0.38613901  0.        ]\n",
      " [ 0.          0.          0.          1.        ]]\n",
      "========\n",
      "========\n",
      "joint2\n",
      "N1= [[ 0.999888  0.        0.014984  0.      ]\n",
      " [ 0.        1.        0.        3.      ]\n",
      " [-0.014984  0.        0.999888  0.      ]\n",
      " [ 0.        0.        0.        1.      ]]\n",
      "========\n",
      "M1= [[ 0.39991799  0.          0.91655099  0.        ]\n",
      " [ 0.          1.         -0.         -3.        ]\n",
      " [-0.91655099  0.          0.39991799  0.        ]\n",
      " [ 0.          0.          0.          1.        ]]\n",
      "========\n",
      "========\n",
      "joint3\n",
      "N2= [[ 0.39991799  0.          0.91655099  0.        ]\n",
      " [ 0.          1.          0.          2.        ]\n",
      " [-0.91655099  0.          0.39991799  0.        ]\n",
      " [ 0.          0.          0.          1.        ]]\n",
      "========\n",
      "M2= [[ 1.  0.  0.  0.]\n",
      " [ 0.  1.  0. -5.]\n",
      " [ 0.  0.  1.  0.]\n",
      " [ 0.  0.  0.  1.]]\n",
      "========\n",
      "N0*N1*N2= [[ 1.00000070e+00  0.00000000e+00 -6.61751971e-07  0.00000000e+00]\n",
      " [ 0.00000000e+00  1.00000000e+00  0.00000000e+00  5.00000000e+00]\n",
      " [ 6.61751971e-07  0.00000000e+00  1.00000070e+00  0.00000000e+00]\n",
      " [ 0.00000000e+00  0.00000000e+00  0.00000000e+00  1.00000000e+00]]\n",
      "N0*N1*N2*M2= [[ 1.00000070e+00  0.00000000e+00 -6.61751971e-07  0.00000000e+00]\n",
      " [ 0.00000000e+00  1.00000000e+00  0.00000000e+00  0.00000000e+00]\n",
      " [ 6.61751971e-07  0.00000000e+00  1.00000070e+00  0.00000000e+00]\n",
      " [ 0.00000000e+00  0.00000000e+00  0.00000000e+00  1.00000000e+00]]\n",
      "========\n",
      "N0*N1= [[ 0.39991761  0.         -0.91655179  0.        ]\n",
      " [ 0.          1.          0.          3.        ]\n",
      " [ 0.91655179  0.          0.39991761  0.        ]\n",
      " [ 0.          0.          0.          1.        ]]\n",
      "N0*N1*M1= [[ 1.00000070e+00  0.00000000e+00 -6.61751971e-07  0.00000000e+00]\n",
      " [ 0.00000000e+00  1.00000000e+00  0.00000000e+00  0.00000000e+00]\n",
      " [ 6.61751971e-07  0.00000000e+00  1.00000070e+00  0.00000000e+00]\n",
      " [ 0.00000000e+00  0.00000000e+00  0.00000000e+00  1.00000000e+00]]\n"
     ]
    }
   ],
   "source": [
    "print(\"=\"*8)\n",
    "print(scene.rootnode.children[0].children[0])\n",
    "N0 = scene.rootnode.children[0].children[0].transformation\n",
    "print(\"N0=\",N0)\n",
    "print(\"=\"*8)\n",
    "print(\"=\"*8)\n",
    "print(scene.rootnode.children[0].children[0])\n",
    "N0 = scene.rootnode.children[0].children[0].transformation\n",
    "print(\"N0=\",N0)\n",
    "print(\"=\"*8)\n",
    "print(\"M0=\",M0)\n",
    "print(\"=\"*8)\n",
    "print(\"=\"*8)\n",
    "print(scene.rootnode.children[0].children[0].children[0])\n",
    "N1 = scene.rootnode.children[0].children[0].children[0].transformation\n",
    "print(\"N1=\",N1)\n",
    "print(\"=\"*8)\n",
    "print(\"M1=\",M1)\n",
    "print(\"=\"*8)\n",
    "print(\"=\"*8)\n",
    "print(scene.rootnode.children[0].children[0].children[0].children[0])\n",
    "N2 = scene.rootnode.children[0].children[0].children[0].children[0].transformation\n",
    "print(\"N2=\",N2)\n",
    "print(\"=\"*8)\n",
    "print(\"M2=\",M2)\n",
    "print(\"=\"*8)\n",
    "\n",
    "N12 = np.dot(N1,N2)\n",
    "N012 = np.dot(N0,N12)\n",
    "print(\"N0*N1*N2=\",N012)\n",
    "print(\"N0*N1*N2*M2=\",np.dot(N012,M2))\n",
    "\n",
    "print(\"=\"*8)\n",
    "N01 = np.dot(N0,N1)\n",
    "print(\"N0*N1=\",N01)\n",
    "print(\"N0*N1*M1=\",np.dot(N01,M1))\n",
    "# print(scene.rootnode.children[0].children[0].children[0].parent)\n",
    "# print(scene.rootnode.children[0].children[0].children[0].transformation)\n",
    "# print(scene.rootnode.children[0].children[0].children[0].name)"
   ]
  },
  {
   "cell_type": "code",
   "execution_count": null,
   "metadata": {
    "tags": []
   },
   "outputs": [
    {
     "name": "stdout",
     "output_type": "stream",
     "text": [
      "[[-0.69103977  0.          0.72281631  3.77557424]\n",
      " [ 0.          1.          0.          0.        ]\n",
      " [-0.72281631  0.         -0.69103977 -3.83992417]\n",
      " [ 0.          0.          0.          1.        ]]\n",
      "[[  0.38613872   0.           0.92244032  20.63693891]\n",
      " [  0.           1.           0.          11.        ]\n",
      " [ -0.92244032   0.           0.38613872 -13.04286438]\n",
      " [  0.           0.           0.           1.        ]]\n"
     ]
    }
   ],
   "source": [
    "N0 = scene.rootnode.children[0].children[0].transformation\n",
    "global_inverse_transform=numpy.linalg.inv(N0) # N0^{-1} = M0 = global_inverse_transform\n",
    "# print(\"N0=\",N0) \n",
    "# or \n",
    "#print(\"M0=\",M0)\n",
    "\n",
    "parent = np.array([[1,0,0,0],[0,1,0,0],[0,0,1,0],[0,0,0,1]])\n",
    "Transform_matrix =  np.array([[1,0,0,5],[0,1,0,3],[0,0,1,2],[0,0,0,1]])\n",
    "global_transformation_1 = np.dot(parent,Transform_matrix)\n",
    "Final_transform_1 = np.dot(global_inverse_transform,global_transformation_1)\n",
    "Final_transform_1 = np.dot(Final_transform_1,M1)\n",
    "print(Final_transform_1)\n",
    "\n",
    "Transform_matrix =  np.array([[1,0,0,15],[0,1,0,13],[0,0,1,12],[0,0,0,1]])\n",
    "global_transformation_2 = np.dot(global_transformation_1,Transform_matrix)\n",
    "Final_transform_2 = np.dot(global_inverse_transform,global_transformation_2)\n",
    "Final_transform_2 = np.dot(Final_transform_2,M2)\n",
    "print(Final_transform_2)\n",
    "\n",
    "\n"
   ]
  },
  {
   "cell_type": "markdown",
   "metadata": {},
   "source": [
    "# Model 4"
   ]
  },
  {
   "cell_type": "code",
   "execution_count": null,
   "metadata": {},
   "outputs": [
    {
     "data": {
      "application/vnd.jupyter.widget-view+json": {
       "model_id": "60a40a8e361c472cbf1209a7c9ccdcff",
       "version_major": 2,
       "version_minor": 0
      },
      "text/plain": [
       "Renderer(camera=PerspectiveCamera(children=(DirectionalLight(color='white', intensity=0.6, position=(0.0, 2.90…"
      ]
     },
     "metadata": {},
     "output_type": "display_data"
    }
   ],
   "source": [
    "scene = load('astroBoy_walk.dae')\n",
    "mesh = scene.meshes[0] \n",
    "v = mesh.vertices\n",
    "f = mesh.faces\n",
    "L = len(scene.meshes)\n",
    "p = mp.plot(v, f,v[:, 0],shading={\"scale\": 2.5},return_plot=True)\n",
    "for i in range(1,L):\n",
    "    mesh = scene.meshes[i]\n",
    "    v = mesh.vertices\n",
    "    f = mesh.faces\n",
    "    p.add_mesh(v, f, v[:, 0]);\n",
    "\n",
    "release(scene)"
   ]
  },
  {
   "cell_type": "code",
   "execution_count": null,
   "metadata": {
    "tags": []
   },
   "outputs": [
    {
     "name": "stdout",
     "output_type": "stream",
     "text": [
      "========\n",
      "joint1\n",
      "N0= [[1. 0. 0. 0.]\n",
      " [0. 1. 0. 0.]\n",
      " [0. 0. 1. 0.]\n",
      " [0. 0. 0. 1.]]\n",
      "========\n",
      "M0= [[ 0.38613901  0.          0.92244101  0.        ]\n",
      " [ 0.          1.         -0.          0.        ]\n",
      " [-0.92244101  0.          0.38613901  0.        ]\n",
      " [ 0.          0.          0.          1.        ]]\n",
      "========\n",
      "========\n",
      "joint2\n",
      "N1= [[1. 0. 0. 0.]\n",
      " [0. 1. 0. 3.]\n",
      " [0. 0. 1. 0.]\n",
      " [0. 0. 0. 1.]]\n",
      "========\n",
      "M1= [[ 0.39991799  0.          0.91655099  0.        ]\n",
      " [ 0.          1.         -0.         -3.        ]\n",
      " [-0.91655099  0.          0.39991799  0.        ]\n",
      " [ 0.          0.          0.          1.        ]]\n",
      "========\n",
      "========\n",
      "joint3\n",
      "N2= [[1. 0. 0. 0.]\n",
      " [0. 1. 0. 2.]\n",
      " [0. 0. 1. 0.]\n",
      " [0. 0. 0. 1.]]\n",
      "========\n",
      "M2= [[ 1.  0.  0.  0.]\n",
      " [ 0.  1.  0. -5.]\n",
      " [ 0.  0.  1.  0.]\n",
      " [ 0.  0.  0.  1.]]\n",
      "========\n"
     ]
    }
   ],
   "source": [
    "M0 = b[0].offsetmatrix\n",
    "M1 = b[1].offsetmatrix\n",
    "M2 = b[2].offsetmatrix\n",
    "\n",
    "print(\"=\"*8)\n",
    "print(scene.rootnode.children[0])\n",
    "N0 = scene.rootnode.children[0].transformation\n",
    "print(\"N0=\",N0)\n",
    "print(\"=\"*8)\n",
    "print(\"M0=\",M0)\n",
    "print(\"=\"*8)\n",
    "print(\"=\"*8)\n",
    "print(scene.rootnode.children[0].children[0])\n",
    "N1 = scene.rootnode.children[0].children[0].transformation\n",
    "print(\"N1=\",N1)\n",
    "print(\"=\"*8)\n",
    "print(\"M1=\",M1)\n",
    "print(\"=\"*8)\n",
    "print(\"=\"*8)\n",
    "print(scene.rootnode.children[0].children[0].children[0])\n",
    "N2 = scene.rootnode.children[0].children[0].children[0].transformation\n",
    "print(\"N2=\",N2)\n",
    "print(\"=\"*8)\n",
    "print(\"M2=\",M2)\n",
    "print(\"=\"*8)"
   ]
  },
  {
   "cell_type": "code",
   "execution_count": null,
   "metadata": {},
   "outputs": [
    {
     "data": {
      "text/plain": [
       "array([ 0.523432 ,  5.8      , -0.2145208,  1.       ])"
      ]
     },
     "execution_count": 24,
     "metadata": {},
     "output_type": "execute_result"
    }
   ],
   "source": [
    "from numpy import dot\n",
    "v0 = np.array([0.4, 5.8, 0.4, 1.0])\n",
    "dot(N0,dot(M0,v0))"
   ]
  },
  {
   "cell_type": "code",
   "execution_count": null,
   "metadata": {
    "tags": []
   },
   "outputs": [
    {
     "name": "stdout",
     "output_type": "stream",
     "text": [
      "[[ 0.38613901  0.          0.92244101  0.        ]\n",
      " [ 0.          1.          0.          0.        ]\n",
      " [-0.92244101  0.          0.38613901  0.        ]\n",
      " [ 0.          0.          0.          1.        ]]\n",
      "[[ 0.39991799  0.          0.91655099  1.        ]\n",
      " [ 0.          1.          0.          0.        ]\n",
      " [-0.91655099  0.          0.39991799  2.        ]\n",
      " [ 0.          0.          0.          1.        ]]\n",
      "[[ 0.58498357 -0.17530279  0.79187319  1.87651396]\n",
      " [ 0.49272486  0.8523445  -0.17530279 -1.26172248]\n",
      " [-0.64421769  0.49272486  0.58498357 -0.46362432]\n",
      " [ 0.          0.          0.          1.        ]]\n"
     ]
    }
   ],
   "source": [
    "N0 = scene.rootnode.children[0].transformation\n",
    "global_inverse_transform=numpy.linalg.inv(N0) # N0^{-1} = M0 = global_inverse_transform\n",
    "# print(\"N0=\",N0) \n",
    "# or \n",
    "#print(\"M0=\",M0)\n",
    "\n",
    "\n",
    "\n",
    "parent = np.identity(4)\n",
    "Transform_matrix = np.identity(4)\n",
    "global_transformation_0 = np.dot(parent,Transform_matrix)\n",
    "Final_transform_0 = np.dot(global_inverse_transform,global_transformation_0)\n",
    "Final_transform_0 = np.dot(Final_transform_0,M0)\n",
    "print(Final_transform_0)\n",
    "\n",
    "\n",
    "\n",
    "parent = np.array([[1,0,0,0],[0,1,0,0],[0,0,1,0],[0,0,0,1]])\n",
    "Transform_matrix =  np.array([[1,0,0,1],[0,1,0,3],[0,0,1,2],[0,0,0,1]])\n",
    "global_transformation_1 = np.dot(global_transformation_0,Transform_matrix)\n",
    "Final_transform_1 = np.dot(global_inverse_transform,global_transformation_1)\n",
    "Final_transform_1 = np.dot(Final_transform_1,M1)\n",
    "print(Final_transform_1)\n",
    "\n",
    "\n",
    "R = eulerAnglesToRotationMatrix([0.7,0.7,0.7])\n",
    "myT = np.zeros([4,4])\n",
    "myT[0:3,0:3] = R\n",
    "myT[3,3]=1\n",
    "# print(myT)\n",
    "\n",
    "\n",
    "# Transform_matrix =  np.array([[1,0,0,5],[0,1,0,3],[0,0,1,3],[0,0,0,1]])\n",
    "Transform_matrix =  myT\n",
    "global_transformation_2 = np.dot(global_transformation_1,Transform_matrix)\n",
    "Final_transform_2 = np.dot(global_inverse_transform,global_transformation_2)\n",
    "Final_transform_2 = np.dot(Final_transform_2,M2)\n",
    "print(Final_transform_2)\n",
    "\n"
   ]
  },
  {
   "cell_type": "code",
   "execution_count": null,
   "metadata": {},
   "outputs": [],
   "source": []
  },
  {
   "cell_type": "code",
   "execution_count": null,
   "metadata": {
    "tags": []
   },
   "outputs": [
    {
     "name": "stdout",
     "output_type": "stream",
     "text": [
      "========\n"
     ]
    },
    {
     "data": {
      "application/vnd.jupyter.widget-view+json": {
       "model_id": "b0e9765f318342db89b6ebdbcc110c11",
       "version_major": 2,
       "version_minor": 0
      },
      "text/plain": [
       "Renderer(camera=PerspectiveCamera(children=(DirectionalLight(color='white', intensity=0.6, position=(0.2753713…"
      ]
     },
     "metadata": {},
     "output_type": "display_data"
    }
   ],
   "source": [
    "scene = load('astroBoy_walk.dae')\n",
    "mesh = scene.meshes[0] # body\n",
    "v = mesh.vertices\n",
    "f = mesh.faces\n",
    "b = mesh.bones\n",
    "L = len(scene.meshes)\n",
    "# p = mp.plot(v, f,v[:, 0],shading={\"scale\": 2.5},return_plot=True)\n",
    "# for i in range(1,L):\n",
    "#     mesh = scene.meshes[i]\n",
    "#     v = mesh.vertices\n",
    "#     f = mesh.faces\n",
    "#     p.add_mesh(v, f, v[:, 0]);\n",
    "\n",
    "# release(scene)\n",
    "\n",
    "\n",
    "def vertex_apply_M(v,M):\n",
    "    return np.dot(M,np.append(v,[1.0]))[0:3]\n",
    "\n",
    "b = mesh.bones\n",
    "\n",
    "# print(\"these are the points affected by \", b[boneID])\n",
    "# print(\"=\"*8)\n",
    "# print(\"ID  & Weight\")\n",
    "\n",
    "# boneID = 1\n",
    "# for i in range(len(b[boneID].weights)):\n",
    "#     vID = b[boneID].weights[i].vertexid\n",
    "# #     print(b[boneID].weights[i].vertexid, b[boneID].weights[i].weight)\n",
    "#     v[vID] = v[vID]+vertex_apply_M(v[vID],Final_transform_1)*b[boneID].weights[i].vertexid\n",
    "# print(\"=\"*8)\n",
    "\n",
    "\n",
    "boneID = 2\n",
    "for i in range(len(b[boneID].weights)):\n",
    "    vID = b[boneID].weights[i].vertexid\n",
    "#     print(b[boneID].weights[i].vertexid, b[boneID].weights[i].weight)\n",
    "    v[vID] = vertex_apply_M(v[vID],Final_transform_2)\n",
    "print(\"=\"*8)\n",
    "\n",
    "p = mp.plot(v, f,v[:, 0],shading={\"scale\": 2.5},return_plot=True)\n",
    "# for i in range(1,L):\n",
    "#     mesh = scene.meshes[i]\n",
    "#     v = mesh.vertices\n",
    "#     f = mesh.faces\n",
    "#     p.add_mesh(v, f, v[:, 0]);\n",
    "\n",
    "release(scene)"
   ]
  },
  {
   "cell_type": "code",
   "execution_count": null,
   "metadata": {
    "tags": []
   },
   "outputs": [
    {
     "name": "stdout",
     "output_type": "stream",
     "text": [
      "these are the points affected by  joint2\n",
      "========\n",
      "ID  & Weight\n",
      "36 0.9878050088882446\n",
      "37 0.5\n",
      "38 0.9878050088882446\n",
      "39 0.9878050088882446\n",
      "40 0.5\n",
      "41 0.5\n",
      "42 0.9878050088882446\n",
      "43 0.9878050088882446\n",
      "44 0.9878050088882446\n",
      "45 0.9878050088882446\n",
      "46 0.9878050088882446\n",
      "47 0.9878050088882446\n",
      "48 0.5\n",
      "49 0.9878050088882446\n",
      "50 0.5\n",
      "51 0.5\n",
      "52 0.9878050088882446\n",
      "53 0.9878050088882446\n",
      "54 0.5\n",
      "55 0.5\n",
      "56 0.5\n",
      "57 0.5\n",
      "58 0.5\n",
      "59 0.5\n",
      "60 0.5\n",
      "61 0.9878050088882446\n",
      "62 0.5\n",
      "63 0.9878050088882446\n",
      "64 0.5\n",
      "65 0.9878050088882446\n",
      "66 0.9878050088882446\n",
      "67 0.5\n",
      "68 0.5\n",
      "69 0.5\n",
      "70 0.9878050088882446\n",
      "71 0.9878050088882446\n",
      "72 0.5\n",
      "73 0.009901000186800957\n",
      "74 0.009901000186800957\n",
      "75 0.009901000186800957\n",
      "76 0.5\n",
      "77 0.5\n",
      "78 0.5\n",
      "79 0.009901000186800957\n",
      "80 0.009901000186800957\n",
      "81 0.009901000186800957\n",
      "82 0.5\n",
      "83 0.5\n",
      "84 0.5\n",
      "85 0.009901000186800957\n",
      "86 0.009901000186800957\n",
      "87 0.009901000186800957\n",
      "88 0.5\n",
      "89 0.5\n",
      "90 0.5\n",
      "91 0.009901000186800957\n",
      "92 0.5\n",
      "93 0.5\n",
      "94 0.009901000186800957\n",
      "95 0.009901000186800957\n",
      "96 0.009901000186800957\n",
      "97 0.5\n",
      "98 0.009901000186800957\n",
      "99 0.5\n",
      "100 0.009901000186800957\n",
      "101 0.5\n",
      "102 0.009901000186800957\n",
      "103 0.5\n",
      "104 0.009901000186800957\n",
      "105 0.5\n",
      "106 0.009901000186800957\n",
      "107 0.5\n",
      "108 0.009901000186800957\n",
      "109 0.009901000186800957\n",
      "111 0.009901000186800957\n",
      "112 0.009901000186800957\n",
      "114 0.009901000186800957\n",
      "115 0.009901000186800957\n",
      "117 0.009901000186800957\n",
      "118 0.009901000186800957\n",
      "120 0.009901000186800957\n",
      "121 0.009901000186800957\n",
      "123 0.009901000186800957\n",
      "124 0.009901000186800957\n",
      "126 0.5\n",
      "127 0.5\n",
      "128 0.5\n",
      "129 0.5\n",
      "130 0.5\n",
      "131 0.5\n",
      "132 0.5\n",
      "133 0.5\n",
      "134 0.5\n",
      "135 0.5\n",
      "136 0.5\n",
      "137 0.5\n",
      "138 0.5\n",
      "139 0.5\n",
      "140 0.5\n",
      "141 0.5\n",
      "142 0.5\n",
      "143 0.5\n",
      "========\n"
     ]
    }
   ],
   "source": [
    "b = mesh.bones\n",
    "\n",
    "\n",
    "boneID = 1\n",
    "vertices_ids_affected_by_boneID = [b[boneID].weights[i].vertexid for i in range(len(b[boneID].weights))]\n",
    "\n",
    "\n",
    "print(\"these are the points affected by \", b[boneID])\n",
    "print(\"=\"*8)\n",
    "print(\"ID  & Weight\")\n",
    "for i in range(len(b[boneID].weights)):\n",
    "    print(b[boneID].weights[i].vertexid, b[boneID].weights[i].weight)\n",
    "print(\"=\"*8)\n",
    "# print(vertices_ids_affected_by_boneID)"
   ]
  },
  {
   "cell_type": "markdown",
   "metadata": {},
   "source": [
    "# Model 2"
   ]
  },
  {
   "cell_type": "code",
   "execution_count": null,
   "metadata": {},
   "outputs": [
    {
     "data": {
      "application/vnd.jupyter.widget-view+json": {
       "model_id": "17b3687cea614e5a9363fd1499396c5d",
       "version_major": 2,
       "version_minor": 0
      },
      "text/plain": [
       "Renderer(camera=PerspectiveCamera(children=(DirectionalLight(color='white', intensity=0.6, position=(0.0, 2.90…"
      ]
     },
     "metadata": {},
     "output_type": "display_data"
    }
   ],
   "source": [
    "scene = load('astroBoy_walk.dae')\n",
    "mesh = scene.meshes[0] \n",
    "v = mesh.vertices\n",
    "f = mesh.faces\n",
    "L = len(scene.meshes)\n",
    "p = mp.plot(v, f,v[:, 0],shading={\"scale\": 2.5},return_plot=True)"
   ]
  },
  {
   "cell_type": "code",
   "execution_count": null,
   "metadata": {
    "tags": []
   },
   "outputs": [
    {
     "name": "stdout",
     "output_type": "stream",
     "text": [
      "========\n",
      "joint1\n",
      "T0= [[ 0.38613901  0.         -0.92244101  0.        ]\n",
      " [ 0.          1.          0.          0.        ]\n",
      " [ 0.92244101  0.          0.38613901  0.        ]\n",
      " [ 0.          0.          0.          1.        ]]\n",
      "========\n",
      "joint2\n",
      "T1= [[ 0.999888  0.        0.014984  0.      ]\n",
      " [ 0.        1.        0.        3.      ]\n",
      " [-0.014984  0.        0.999888  0.      ]\n",
      " [ 0.        0.        0.        1.      ]]\n",
      "========\n",
      "joint3\n",
      "T2= [[ 0.39991799  0.          0.91655099  0.        ]\n",
      " [ 0.          1.          0.          2.        ]\n",
      " [-0.91655099  0.          0.39991799  0.        ]\n",
      " [ 0.          0.          0.          1.        ]]\n",
      "========\n"
     ]
    }
   ],
   "source": [
    "b = mesh.bones\n",
    "B0 = b[0].offsetmatrix\n",
    "B1 = b[1].offsetmatrix\n",
    "B2 = b[2].offsetmatrix\n",
    "\n",
    "\n",
    "\n",
    "# print(\"=\"*8)\n",
    "# print(scene.rootnode.children[0])\n",
    "# N0 = scene.rootnode.children[0].transformation\n",
    "# print(\"N0=\",N0)\n",
    "# print(\"=\"*8)\n",
    "print(\"=\"*8)\n",
    "print(scene.rootnode.children[0].children[0])\n",
    "T0 = scene.rootnode.children[0].children[0].transformation\n",
    "print(\"T0=\",T0)\n",
    "print(\"=\"*8)\n",
    "print(scene.rootnode.children[0].children[0].children[0])\n",
    "T1 = scene.rootnode.children[0].children[0].children[0].transformation\n",
    "print(\"T1=\",T1)\n",
    "print(\"=\"*8)\n",
    "print(scene.rootnode.children[0].children[0].children[0].children[0])\n",
    "T2 = scene.rootnode.children[0].children[0].children[0].children[0].transformation\n",
    "print(\"T2=\",T2)\n",
    "print(\"=\"*8)\n"
   ]
  },
  {
   "cell_type": "code",
   "execution_count": null,
   "metadata": {},
   "outputs": [
    {
     "data": {
      "application/vnd.jupyter.widget-view+json": {
       "model_id": "8cd83362935a416f96016e1eff7c247f",
       "version_major": 2,
       "version_minor": 0
      },
      "text/plain": [
       "Renderer(camera=PerspectiveCamera(children=(DirectionalLight(color='white', intensity=0.6, position=(0.0, 2.15…"
      ]
     },
     "metadata": {},
     "output_type": "display_data"
    }
   ],
   "source": [
    "b = mesh.bones\n",
    "\n",
    "\n",
    "class vertex_weight:\n",
    "  def __init__(self):\n",
    "    self.id = np.full([len(v),4],-1)\n",
    "    self.weight = np.zeros([len(v),4])\n",
    "\n",
    "  def add(self,v,b,w):\n",
    "    position = 0\n",
    "    while self.weight[v][position] and position < 3: \n",
    "        position +=1\n",
    "#     print(position)\n",
    "    if position < 4:\n",
    "        self.weight[v][position]=w\n",
    "        self.id[v][position]=b\n",
    "\n",
    "\n",
    "vw = vertex_weight()\n",
    "for boneID in range(len(b)):\n",
    "    for i in range(len(b[boneID].weights)):\n",
    "        vw.add(b[boneID].weights[i].vertexid, boneID ,b[boneID].weights[i].weight)\n",
    "\n",
    "# print(vw.id)\n",
    "\n",
    "def B(x):\n",
    "    if x == 0:\n",
    "        return B0\n",
    "    elif x == 1:\n",
    "        return B1\n",
    "    elif x == 2:\n",
    "        return B2\n",
    "\n",
    "def T(x):\n",
    "    if x == 0:\n",
    "        return T0\n",
    "#         return np.identity(4)\n",
    "    elif x == 1:\n",
    "        return T1\n",
    "    elif x == 2:\n",
    "        return T2\n",
    "\n",
    "# print(np.dot(T))\n",
    "  \n",
    "def vertex_apply_M(v,M):\n",
    "    return np.dot(M,np.append(v,[1.0]))[0:3]\n",
    "    \n",
    "    \n",
    "newv = np.zeros([(len(v)),3])\n",
    "\n",
    "for i in range(len(v)):\n",
    "    for j in range(3):\n",
    "        if vw.id[i][j] >=0:\n",
    "            mat = np.dot(T(j),B(j))\n",
    "#             print(i,j)\n",
    "            newv[i] = newv[i] + vw.weight[i][j]*(vertex_apply_M(v[i],mat))\n",
    "\n",
    "\n",
    "# print(newv)\n",
    "\n",
    "p = mp.plot(newv, f,v[:, 0],shading={\"scale\": 2.5},return_plot=True)"
   ]
  },
  {
   "cell_type": "code",
   "execution_count": null,
   "metadata": {
    "tags": []
   },
   "outputs": [
    {
     "name": "stdout",
     "output_type": "stream",
     "text": [
      "[[ 0.39991799  0.          0.91655099  0.        ]\n",
      " [ 0.          1.          0.          2.        ]\n",
      " [-0.91655099  0.          0.39991799  0.        ]\n",
      " [ 0.          0.          0.          1.        ]]\n"
     ]
    }
   ],
   "source": [
    "print(T2)"
   ]
  },
  {
   "cell_type": "code",
   "execution_count": null,
   "metadata": {
    "tags": []
   },
   "outputs": [
    {
     "name": "stdout",
     "output_type": "stream",
     "text": [
      "[[0. 0. 0. 0.]\n",
      " [2. 3. 4. 7.]\n",
      " [0. 0. 0. 0.]]\n",
      "[[0.  0.  0.  0. ]\n",
      " [1.  1.  1.  0.7]\n",
      " [0.  0.  0.  0. ]]\n"
     ]
    }
   ],
   "source": [
    "\n",
    "class vertex_weight:\n",
    "  def __init__(self):\n",
    "    self.id = np.zeros([len(v),4])\n",
    "    self.weight = np.zeros([len(v),4])\n",
    "\n",
    "  def add(self,v,b,w):\n",
    "    position = 0\n",
    "    while self.weight[v][position] and position < 3: \n",
    "        position +=1\n",
    "#     print(position)\n",
    "    if position < 4:\n",
    "        self.weight[v][position]=w\n",
    "        self.id[v][position]=b\n",
    "\n",
    "test = vertex_weight()\n",
    "test.add(1,2,1)\n",
    "test.add(1,3,1)\n",
    "test.add(1,4,1)\n",
    "test.add(1,5,0.7)\n",
    "test.add(1,6,0.7)\n",
    "test.add(1,7,0.7)\n",
    "print(test.id[0:3,:])\n",
    "print(test.weight[0:3,:])\n",
    "\n"
   ]
  },
  {
   "cell_type": "code",
   "execution_count": null,
   "metadata": {},
   "outputs": [
    {
     "data": {
      "text/plain": [
       "array([0.4, 5.8, 0.4], dtype=float32)"
      ]
     },
     "execution_count": 33,
     "metadata": {},
     "output_type": "execute_result"
    }
   ],
   "source": [
    "v[0]"
   ]
  },
  {
   "cell_type": "code",
   "execution_count": null,
   "metadata": {},
   "outputs": [
    {
     "data": {
      "text/plain": [
       "array([ 0.523432 ,  5.8      , -0.2145208,  1.       ])"
      ]
     },
     "execution_count": 34,
     "metadata": {},
     "output_type": "execute_result"
    }
   ],
   "source": [
    "from numpy import dot\n",
    "v0 = np.array([0.4, 5.8, 0.4, 1.0])\n",
    "dot(N0,dot(M0,v0))"
   ]
  },
  {
   "cell_type": "markdown",
   "metadata": {},
   "source": [
    "# Looking Better"
   ]
  },
  {
   "cell_type": "code",
   "execution_count": null,
   "metadata": {},
   "outputs": [
    {
     "ename": "ModuleNotFoundError",
     "evalue": "No module named 'igl'",
     "output_type": "error",
     "traceback": [
      "\u001b[0;31m---------------------------------------------------------------------------\u001b[0m",
      "\u001b[0;31mModuleNotFoundError\u001b[0m                       Traceback (most recent call last)",
      "\u001b[0;32m<ipython-input-35-2edd7afc074c>\u001b[0m in \u001b[0;36m<module>\u001b[0;34m\u001b[0m\n\u001b[1;32m      8\u001b[0m \u001b[0;31m# from pyganja_package import *\u001b[0m\u001b[0;34m\u001b[0m\u001b[0;34m\u001b[0m\u001b[0;34m\u001b[0m\u001b[0m\n\u001b[1;32m      9\u001b[0m \u001b[0;32mfrom\u001b[0m \u001b[0mpyassimp\u001b[0m \u001b[0;32mimport\u001b[0m \u001b[0;34m*\u001b[0m\u001b[0;34m\u001b[0m\u001b[0;34m\u001b[0m\u001b[0m\n\u001b[0;32m---> 10\u001b[0;31m \u001b[0;32mimport\u001b[0m \u001b[0migl\u001b[0m\u001b[0;34m\u001b[0m\u001b[0;34m\u001b[0m\u001b[0m\n\u001b[0m\u001b[1;32m     11\u001b[0m \u001b[0;32mimport\u001b[0m \u001b[0mmeshplot\u001b[0m \u001b[0;32mas\u001b[0m \u001b[0mmp\u001b[0m\u001b[0;34m\u001b[0m\u001b[0;34m\u001b[0m\u001b[0m\n",
      "\u001b[0;31mModuleNotFoundError\u001b[0m: No module named 'igl'"
     ]
    }
   ],
   "source": [
    "import warnings\n",
    "warnings.filterwarnings('ignore')\n",
    "\n",
    "import numpy as np\n",
    "from numpy import e\n",
    "from clifford.g3c import *\n",
    "from clifford.tools.g3c import *\n",
    "# from pyganja_package import *\n",
    "from pyassimp import *\n",
    "import igl\n",
    "import meshplot as mp"
   ]
  },
  {
   "cell_type": "code",
   "execution_count": null,
   "metadata": {},
   "outputs": [],
   "source": [
    "# =================================================\n",
    "# Creating a class that contains the vertices and \n",
    "# and the respective weights that are affected by the\n",
    "# bones. \n",
    "# =================================================\n",
    "class vertex_weight:\n",
    "  def __init__(self):\n",
    "    self.id = np.full([len(v),4],-1)\n",
    "    self.weight = np.zeros([len(v),4])\n",
    "\n",
    "  def add(self,v,b,w):\n",
    "    position = 0\n",
    "    while self.weight[v][position] and position < 3: \n",
    "        position +=1\n",
    "#     print(position)\n",
    "    if position < 4:\n",
    "        self.weight[v][position]=w\n",
    "        self.id[v][position]=b\n",
    "\n",
    "def B(x):\n",
    "    return b[x].offsetmatrix\n",
    "\n",
    "def read_tree(node):\n",
    "    if node.name in bone_names:\n",
    "        index = bone_names.index(node.name)\n",
    "        t[index] = node.transformation\n",
    "    for child in node.children:\n",
    "        read_tree(child)\n",
    "        \n",
    "\n",
    "def eulerAnglesToRotationMatrix(theta) :  \n",
    "    R_x = np.array([[1,         0,                  0                   ],\n",
    "                    [0,         math.cos(theta[0]), -math.sin(theta[0]) ],\n",
    "                    [0,         math.sin(theta[0]), math.cos(theta[0])  ]\n",
    "                    ])                    \n",
    "    R_y = np.array([[math.cos(theta[1]),    0,      math.sin(theta[1])  ],\n",
    "                    [0,                     1,      0                   ],\n",
    "                    [-math.sin(theta[1]),   0,      math.cos(theta[1])  ]\n",
    "                    ])             \n",
    "    R_z = np.array([[math.cos(theta[2]),    -math.sin(theta[2]),    0],\n",
    "                    [math.sin(theta[2]),    math.cos(theta[2]),     0],\n",
    "                    [0,                     0,                      1]\n",
    "                    ])                  \n",
    "    R = np.dot(R_z, np.dot( R_y, R_x ))\n",
    "    return R\n",
    "\n",
    "def T(x,transform = True):\n",
    "    if x == 0:\n",
    "        return np.dot(t[0],M[0]) if transform else t[0]\n",
    "    else :\n",
    "        return np.dot(np.dot(T(x-1),t[x]),M[x]) if transform else np.dot(T(x-1,False),t[x])\n",
    "\n",
    "def vertex_apply_M(v,M):\n",
    "    return np.dot(M,np.append(v,[1.0]))[0:3]\n",
    "\n",
    "def bone_position(i):\n",
    "    return T(i)[0:3,3]"
   ]
  },
  {
   "cell_type": "code",
   "execution_count": null,
   "metadata": {
    "tags": []
   },
   "outputs": [
    {
     "data": {
      "application/vnd.jupyter.widget-view+json": {
       "model_id": "1cf8cf8dd94b44b5b89dfdac48795342",
       "version_major": 2,
       "version_minor": 0
      },
      "text/plain": [
       "Renderer(camera=PerspectiveCamera(children=(DirectionalLight(color='white', intensity=0.6, position=(0.0080254…"
      ]
     },
     "metadata": {},
     "output_type": "display_data"
    },
    {
     "name": "stdout",
     "output_type": "stream",
     "text": [
      "Plot saved to file 2o.html.\n"
     ]
    }
   ],
   "source": [
    "# scene = load('../models/ManosModel2.dae')\n",
    "scene = load('astroBoy_walk.dae')\n",
    "mesh = scene.meshes[0] \n",
    "v = mesh.vertices\n",
    "f = mesh.faces\n",
    "b = mesh.bones\n",
    "\n",
    "\n",
    "\n",
    "vw = vertex_weight()\n",
    "for boneID in range(len(b)):\n",
    "    for i in range(len(b[boneID].weights)):\n",
    "        vw.add(b[boneID].weights[i].vertexid, boneID ,b[boneID].weights[i].weight)\n",
    "\n",
    "\n",
    "# =================================================\n",
    "# EVALUATING TRANSFORMATION MATRICES IN ELEGANT WAY\n",
    "# =================================================\n",
    "# original way was :\n",
    "# t0 = scene.rootnode.children[0].children[0].transformation\n",
    "# t1 = scene.rootnode.children[0].children[0].children[0].transformation\n",
    "# t2 = scene.rootnode.children[0].children[0].children[0].children[0].transformation\n",
    "\n",
    "bone_names = [str(b[i]) for i in range(len(b))]\n",
    "t = np.zeros([len(b),4,4])\n",
    "read_tree(scene.rootnode)\n",
    "\n",
    "# for i in range(len(b)):\n",
    "#     t[i,0:3,0:3] = np.identity(3)\n",
    "# print(t)\n",
    "\n",
    "\n",
    "# =================================================\n",
    "# APPLYING EXTRA TRANSFORMATIONS IN JOINTS\n",
    "# =================================================\n",
    "M = np.zeros([len(b),4,4])\n",
    "for i in range(len(b)):\n",
    "    M[i] = np.identity(4)\n",
    "\n",
    "    \n",
    "# M[0][0:3,0:3] = eulerAnglesToRotationMatrix([0.2,0,0])\n",
    "    \n",
    "M[1][0:3,0:3] = eulerAnglesToRotationMatrix([0,0,0.4])\n",
    "\n",
    "M[2][0:3,0:3] = eulerAnglesToRotationMatrix([0,0,0.4])\n",
    "\n",
    "# =================================================\n",
    "    \n",
    "newv = np.zeros([(len(v)),3])\n",
    "for i in range(len(v)):\n",
    "    for j in range(3):\n",
    "        if vw.id[i][j] >=0:\n",
    "            mat = np.dot(T(j),B(j))\n",
    "            newv[i] = newv[i] + vw.weight[i][j]*(vertex_apply_M(v[i],mat))\n",
    "\n",
    "\n",
    "p = mp.plot(newv, f,v[:, 0],shading={\"scale\": 2.5,\"side\": \"BackSide\",\"wireframe\":True},return_plot=True)\n",
    "# p = mp.plot(newv,f,shading={\"scale\": 2.5,\"point_size\": 1,\"wireframe\":True},return_plot=True)\n",
    "\n",
    "if len(b)>0:\n",
    "    for i in range(len(b)-1):\n",
    "        p.add_lines(bone_position(i),bone_position(i+1), shading={\"line_color\": \"yellow\"});\n",
    "\n",
    "bone_pos = np.array([bone_position(i) for i in range(len(b))])\n",
    "\n",
    "p.add_points(bone_pos,shading={\"point_color\": \"yellow\",\"point_size\": 2})\n",
    "# print(type(bone_position(0)))\n",
    "\n",
    "p.add_lines(v[f[:,0]], v[f[:,1]], shading={\"line_color\": \"red\"});\n",
    "p.add_lines(v[f[:,2]], v[f[:,1]], shading={\"line_color\": \"red\"});\n",
    "p.add_lines(v[f[:,2]], v[f[:,0]], shading={\"line_color\": \"red\"});\n",
    "\n",
    "# p.save(\"skinning.html\")\n",
    "#     print(bone_position(2))\n",
    "# p = mp.plot(newv, f,v[:, 0],shading={\"flat\":True,\"scale\": 2.5,\"wireframe\":True, \"wire_width\": 0.03, \"wire_color\": \"black\"},return_plot=True)\n",
    "\n",
    "# p = mp.plot(newv,return_plot=True)\n",
    "# p.add_lines(newv[f[:,0]], newv[f[:,1]], shading={\"line_color\": \"red\"});\n",
    "# p.add_lines(newv[f[:,2]], newv[f[:,1]], shading={\"line_color\": \"red\"});\n",
    "# p.add_lines(newv[f[:,2]], newv[f[:,0]], shading={\"line_color\": \"red\"});\n",
    "\n",
    "# p.save('2o.html')"
   ]
  },
  {
   "cell_type": "markdown",
   "metadata": {},
   "source": [
    "# Model: cylinders_tris_only"
   ]
  },
  {
   "cell_type": "code",
   "execution_count": null,
   "metadata": {
    "tags": []
   },
   "outputs": [
    {
     "data": {
      "application/vnd.jupyter.widget-view+json": {
       "model_id": "f3816e03bae742cab8b9b7dcb7bbbe50",
       "version_major": 2,
       "version_minor": 0
      },
      "text/plain": [
       "Renderer(camera=PerspectiveCamera(children=(DirectionalLight(color='white', intensity=0.6, position=(0.0105997…"
      ]
     },
     "metadata": {},
     "output_type": "display_data"
    }
   ],
   "source": [
    "# IMPORTANT NOTE: \n",
    "# 1. There are 2 meshes\n",
    "# 2. To properly represent the 2nd mesh, we have to go to model space.\n",
    "\n",
    "# scene = load('../models/ManosModel2.dae')\n",
    "scene = load('astroBoy_walk.dae')\n",
    "mesh = scene.meshes[0] \n",
    "v = mesh.vertices\n",
    "f = mesh.faces\n",
    "b = mesh.bones\n",
    "\n",
    "\n",
    "\n",
    "vw = vertex_weight()\n",
    "for boneID in range(len(b)):\n",
    "    for i in range(len(b[boneID].weights)):\n",
    "        vw.add(b[boneID].weights[i].vertexid, boneID ,b[boneID].weights[i].weight)\n",
    "\n",
    "\n",
    "# =================================================\n",
    "# EVALUATING TRANSFORMATION MATRICES IN ELEGANT WAY\n",
    "# =================================================\n",
    "# original way was :\n",
    "# t0 = scene.rootnode.children[0].children[0].transformation\n",
    "# t1 = scene.rootnode.children[0].children[0].children[0].transformation\n",
    "# t2 = scene.rootnode.children[0].children[0].children[0].children[0].transformation\n",
    "\n",
    "bone_names = [str(b[i]) for i in range(len(b))]\n",
    "t = np.zeros([len(b),4,4])\n",
    "read_tree(scene.rootnode)\n",
    "\n",
    "# for i in range(len(b)):\n",
    "#     t[i,0:3,0:3] = np.identity(3)\n",
    "# print(t)\n",
    "\n",
    "\n",
    "# =================================================\n",
    "# APPLYING EXTRA TRANSFORMATIONS IN JOINTS\n",
    "# =================================================\n",
    "M = np.zeros([len(b),4,4])\n",
    "for i in range(len(b)):\n",
    "    M[i] = np.identity(4)\n",
    "\n",
    "    \n",
    "# M[0][0:3,0:3] = eulerAnglesToRotationMatrix([0.2,0,0])\n",
    "    \n",
    "M[1][0:3,0:3] = eulerAnglesToRotationMatrix([0,0,0.4])\n",
    "\n",
    "M[2][0:3,0:3] = eulerAnglesToRotationMatrix([0,0,0.4])\n",
    "\n",
    "# =================================================\n",
    "    \n",
    "newv = np.zeros([(len(v)),3])\n",
    "for i in range(len(v)):\n",
    "    for j in range(3):\n",
    "        if vw.id[i][j] >=0:\n",
    "            mat = np.dot(T(j),B(j))\n",
    "            newv[i] = newv[i] + vw.weight[i][j]*(vertex_apply_M(v[i],mat))\n",
    "\n",
    "\n",
    "p = mp.plot(newv, f,v[:, 0],shading={\"scale\": 2.5,\"side\": \"BackSide\",\"wireframe\":True},return_plot=True)\n",
    "# p = mp.plot(newv,f,shading={\"scale\": 2.5,\"point_size\": 1,\"wireframe\":True},return_plot=True)\n",
    "\n",
    "if len(b)>0:\n",
    "    for i in range(len(b)-1):\n",
    "        p.add_lines(bone_position(i),bone_position(i+1), shading={\"line_color\": \"yellow\"});\n",
    "\n",
    "bones = np.array([bone_position(0),bone_position(1),bone_position(2)])\n",
    "\n",
    "p.add_points(bones,shading={\"point_color\": \"yellow\",\"point_size\": 2})\n",
    "# print(type(bone_position(0)))\n",
    "\n",
    "p.add_lines(v[f[:,0]], v[f[:,1]], shading={\"line_color\": \"red\"});\n",
    "p.add_lines(v[f[:,2]], v[f[:,1]], shading={\"line_color\": \"red\"});\n",
    "p.add_lines(v[f[:,2]], v[f[:,0]], shading={\"line_color\": \"red\"});\n",
    "\n",
    "\n",
    "####################################\n",
    "####################################\n",
    "mesh = scene.meshes[1] \n",
    "v = mesh.vertices\n",
    "f = mesh.faces\n",
    "b = mesh.bones\n",
    "\n",
    "\n",
    "\n",
    "vw = vertex_weight()\n",
    "for boneID in range(len(b)):\n",
    "    for i in range(len(b[boneID].weights)):\n",
    "        vw.add(b[boneID].weights[i].vertexid, boneID ,b[boneID].weights[i].weight)\n",
    "\n",
    "\n",
    "# =================================================\n",
    "# EVALUATING TRANSFORMATION MATRICES IN ELEGANT WAY\n",
    "# =================================================\n",
    "# original way was :\n",
    "# t0 = scene.rootnode.children[0].children[0].transformation\n",
    "# t1 = scene.rootnode.children[0].children[0].children[0].transformation\n",
    "# t2 = scene.rootnode.children[0].children[0].children[0].children[0].transformation\n",
    "\n",
    "bone_names = [str(b[i]) for i in range(len(b))]\n",
    "t = np.zeros([len(b),4,4])\n",
    "read_tree(scene.rootnode)\n",
    "\n",
    "# for i in range(len(b)):\n",
    "#     t[i,0:3,0:3] = np.identity(3)\n",
    "# print(t)\n",
    "\n",
    "\n",
    "# =================================================\n",
    "# APPLYING EXTRA TRANSFORMATIONS IN JOINTS\n",
    "# =================================================\n",
    "M = np.zeros([len(b),4,4])\n",
    "for i in range(len(b)):\n",
    "    M[i] = np.identity(4)\n",
    "\n",
    "    \n",
    "# M[0][0:3,0:3] = eulerAnglesToRotationMatrix([0.2,0,0])\n",
    "    \n",
    "M[1][0:3,0:3] = eulerAnglesToRotationMatrix([0,0,0.4])\n",
    "\n",
    "M[2][0:3,0:3] = eulerAnglesToRotationMatrix([0,0,0.4])\n",
    "\n",
    "# =================================================\n",
    "    \n",
    "newv = np.zeros([(len(v)),3])\n",
    "for i in range(len(v)):\n",
    "    for j in range(3):\n",
    "        if vw.id[i][j] >=0:\n",
    "            mat = np.dot(T(j),B(j))\n",
    "            newv[i] = newv[i] + vw.weight[i][j]*(vertex_apply_M(v[i],mat))\n",
    "\n",
    "\n",
    "p.add_mesh(newv, f,v[:, 0],shading={\"scale\": 2.5,\"side\": \"BackSide\",\"wireframe\":True})\n",
    "# p = mp.plot(newv,f,shading={\"scale\": 2.5,\"point_size\": 1,\"wireframe\":True},return_plot=True)\n",
    "\n",
    "if len(b)>0:\n",
    "    for i in range(len(b)-1):\n",
    "        p.add_lines(bone_position(i),bone_position(i+1), shading={\"line_color\": \"yellow\"});\n",
    "\n",
    "bones = np.array([bone_position(0),bone_position(1),bone_position(2)])\n",
    "\n",
    "p.add_points(bones,shading={\"point_color\": \"yellow\",\"point_size\": 2})\n",
    "# print(type(bone_position(0)))\n",
    "\n",
    "\n",
    "\n",
    "newv = np.zeros([(len(v)),3])\n",
    "for i in range(len(v)):\n",
    "    for j in range(3):\n",
    "        if vw.id[i][j] >=0:\n",
    "            mat = np.dot(T(j,False),B(j))\n",
    "            newv[i] = newv[i] + vw.weight[i][j]*(vertex_apply_M(v[i],mat))\n",
    "\n",
    "\n",
    "p.add_lines(newv[f[:,0]], newv[f[:,1]], shading={\"line_color\": \"red\"});\n",
    "p.add_lines(newv[f[:,2]], newv[f[:,1]], shading={\"line_color\": \"red\"});\n",
    "p.add_lines(newv[f[:,2]], newv[f[:,0]], shading={\"line_color\": \"red\"});\n",
    "\n",
    "\n",
    "\n",
    "# p.save(\"cylinders.html\")"
   ]
  },
  {
   "cell_type": "markdown",
   "metadata": {},
   "source": [
    "## Fixing t_i"
   ]
  },
  {
   "cell_type": "code",
   "execution_count": null,
   "metadata": {
    "tags": []
   },
   "outputs": [
    {
     "name": "stdout",
     "output_type": "stream",
     "text": [
      "['joint1', 'joint2', 'joint3']\n",
      "[[[ 0.38613901  0.         -0.92244101  0.        ]\n",
      "  [ 0.          1.          0.          0.        ]\n",
      "  [ 0.92244101  0.          0.38613901  0.        ]\n",
      "  [ 0.          0.          0.          1.        ]]\n",
      "\n",
      " [[ 0.999888    0.          0.014984    0.        ]\n",
      "  [ 0.          1.          0.          3.        ]\n",
      "  [-0.014984    0.          0.999888    0.        ]\n",
      "  [ 0.          0.          0.          1.        ]]\n",
      "\n",
      " [[ 0.39991799  0.          0.91655099  0.        ]\n",
      "  [ 0.          1.          0.          2.        ]\n",
      "  [-0.91655099  0.          0.39991799  0.        ]\n",
      "  [ 0.          0.          0.          1.        ]]]\n"
     ]
    }
   ],
   "source": [
    "scene = load('astroBoy_walk.dae')\n",
    "mesh = scene.meshes[0] \n",
    "b = mesh.bones\n",
    "v = mesh.vertices\n",
    "\n",
    "bone_names = [str(b[i]) for i in range(len(b))]\n",
    "print(bone_names)\n",
    "\n",
    "t = np.zeros([len(b),4,4])\n",
    "\n",
    "def read_tree(node):\n",
    "    if node.name in bone_names:\n",
    "        index = bone_names.index(node.name)\n",
    "        t[index] = node.transformation\n",
    "    for child in node.children:\n",
    "        read_tree(child)\n",
    "\n",
    "read_tree(scene.rootnode)\n",
    "print(t)"
   ]
  },
  {
   "cell_type": "markdown",
   "metadata": {},
   "source": [
    "# TEST AREA BELOW from skinning notebook"
   ]
  },
  {
   "cell_type": "code",
   "execution_count": null,
   "metadata": {},
   "outputs": [],
   "source": [
    "# =================================================\n",
    "# Creating a class that contains the vertices and \n",
    "# and the respective weights that are affected by the\n",
    "# bones. \n",
    "# =================================================\n",
    "\n",
    "\n",
    "\n",
    "class vertex_weight:\n",
    "  def __init__(self):\n",
    "    self.id = np.full([len(v),4],-1)\n",
    "    self.weight = np.zeros([len(v),4])\n",
    "\n",
    "  def add(self,v,b,w):\n",
    "    position = 0\n",
    "    for i in range(4):\n",
    "        if self.weight[v][position]>0 :\n",
    "            position +=1\n",
    "    if position <= 4:\n",
    "        self.weight[v][position]=w\n",
    "        self.id[v][position]=b\n",
    "\n",
    "def B(x):\n",
    "    return b[x].offsetmatrix\n",
    "#     if x == 0:\n",
    "#         return b[x].offsetmatrix\n",
    "#     else :\n",
    "#         return np.dot(B(x-1),b[x].offsetmatrix)\n",
    "  \n",
    "\n",
    "\n",
    "def read_tree(node):\n",
    "    if node.name in bone_names:\n",
    "        index = bone_names.index(node.name)\n",
    "        t[index] = node.transformation\n",
    "    for child in node.children:\n",
    "        read_tree(child)\n",
    "        \n",
    "\n",
    "def eulerAnglesToRotationMatrix(theta) :  \n",
    "    R_x = np.array([[1,         0,                  0                   ],\n",
    "                    [0,         math.cos(theta[0]), -math.sin(theta[0]) ],\n",
    "                    [0,         math.sin(theta[0]), math.cos(theta[0])  ]\n",
    "                    ])                    \n",
    "    R_y = np.array([[math.cos(theta[1]),    0,      math.sin(theta[1])  ],\n",
    "                    [0,                     1,      0                   ],\n",
    "                    [-math.sin(theta[1]),   0,      math.cos(theta[1])  ]\n",
    "                    ])             \n",
    "    R_z = np.array([[math.cos(theta[2]),    -math.sin(theta[2]),    0],\n",
    "                    [math.sin(theta[2]),    math.cos(theta[2]),     0],\n",
    "                    [0,                     0,                      1]\n",
    "                    ])                  \n",
    "    R = np.dot(R_z, np.dot( R_y, R_x ))\n",
    "    return R\n",
    "\n",
    "def T(x,transform = True):\n",
    "    if x == 0:\n",
    "        return np.dot(t[0],M[0]) if transform else t[0]\n",
    "    else :\n",
    "        return np.dot(np.dot(T(x-1),t[x]),M[x]) if transform else np.dot(T(x-1,False),t[x])\n",
    "\n",
    "def vertex_apply_M(v,M):\n",
    "    return np.dot(M,np.append(v,[1.0]))[0:3]\n",
    "\n",
    "def bone_position(i,transform = True):\n",
    "    return T(i,transform)[0:3,3]\n",
    "\n",
    "def draw_original_wireframe():\n",
    "    p.add_lines(v[f[:,0]], v[f[:,1]], shading={\"line_color\": \"magenta\"});\n",
    "    p.add_lines(v[f[:,2]], v[f[:,1]], shading={\"line_color\": \"magenta\"});\n",
    "    p.add_lines(v[f[:,2]], v[f[:,0]], shading={\"line_color\": \"magenta\"});\n",
    "\n",
    "    \n",
    "def draw_bones():  \n",
    "#     transform = True\n",
    "    transform = False\n",
    "    bone_pos = np.array([bone_position(i,transform) for i in range(len(b))])\n",
    "    p.add_points(bone_pos,shading={\"point_color\": \"yellow\",\"point_size\": 0.6})\n",
    "    if len(b)>0:\n",
    "        for i in range(len(b)-1):\n",
    "            p.add_lines(bone_position(i,transform),bone_position(i+1,transform), shading={\"line_color\": \"yellow\"});\n",
    "\n",
    "def draw_vertices_affected_by_boneID(boneID):\n",
    "    vertices_ids_affected_by_boneID = [b[boneID].weights[i].vertexid for i in range(len(b[boneID].weights))]\n",
    "    IDs = vertices_ids_affected_by_boneID\n",
    "    print(\"red points are the ones affected by :\", b[boneID])\n",
    "    p.add_points(v[IDs], shading={\"point_size\": 0.7,\"point_color\": \"red\"}); "
   ]
  },
  {
   "cell_type": "markdown",
   "metadata": {},
   "source": [
    "# Euclidean Method -> Models Working: ManosModeld, ManosModel2\n",
    "\n",
    "TODO\n",
    "* Check if B(i) has to be implemented recursively, in order to correctly load AstroBoy\n"
   ]
  },
  {
   "cell_type": "code",
   "execution_count": null,
   "metadata": {
    "tags": []
   },
   "outputs": [
    {
     "name": "stdout",
     "output_type": "stream",
     "text": [
      "TIME :  0.06154012680053711\n"
     ]
    },
    {
     "data": {
      "application/vnd.jupyter.widget-view+json": {
       "model_id": "a2ec3ba7d32d47e8acb26f3f79081d8b",
       "version_major": 2,
       "version_minor": 0
      },
      "text/plain": [
       "Renderer(camera=PerspectiveCamera(children=(DirectionalLight(color='white', intensity=0.6, position=(222.81199…"
      ]
     },
     "metadata": {},
     "output_type": "display_data"
    },
    {
     "name": "stdout",
     "output_type": "stream",
     "text": [
      "red points are the ones affected by : astroBoy_newSkeleton_spine02\n"
     ]
    }
   ],
   "source": [
    "# Problematic Models\n",
    "# scene = load('../models/ManosModelc.dae','dae')\n",
    "\n",
    "# proc = (pyassimp.postprocess.aiProcess_Triangulate  | \n",
    "#         pyassimp.postprocess.aiProcess_GenSmoothNormals | \n",
    "#         pyassimp.postprocess.aiProcess_FlipUVs | \n",
    "#         pyassimp.postprocess.aiProcess_SortByPType | \n",
    "#         pyassimp.postprocess.aiProcess_LimitBoneWeights | \n",
    "#         pyassimp.postprocess.aiProcess_SplitByBoneCount | \n",
    "#         pyassimp.postprocess.aiProcess_JoinIdenticalVertices | \n",
    "#         pyassimp.postprocess.aiProcess_FindInvalidData | \n",
    "#         pyassimp.postprocess.aiProcess_FindDegenerates | \n",
    "#         pyassimp.postprocess.aiProcess_RemoveRedundantMaterials | \n",
    "#         pyassimp.postprocess.aiProcess_ImproveCacheLocality | \n",
    "#         pyassimp.postprocess.aiProcess_SplitLargeMeshes |  \n",
    "#         pyassimp.postprocess.aiProcess_ValidateDataStructure)\n",
    "# scene = load('../models/ManosModelc.dae','dae',processing=proc)\n",
    "\n",
    "\n",
    "# scene = load('../models/ManosModel2.dae')\n",
    "# scene = load('../models/ManosModeld.dae','dae')\n",
    "scene = load('astroBoy_walk.dae')\n",
    "\n",
    "mesh = scene.meshes[0] \n",
    "v = mesh.vertices\n",
    "f = mesh.faces\n",
    "b = mesh.bones\n",
    "\n",
    "vw = vertex_weight()\n",
    "for boneID in range(len(b)):\n",
    "    for i in range(len(b[boneID].weights)):\n",
    "        vw.add(b[boneID].weights[i].vertexid, boneID ,b[boneID].weights[i].weight)\n",
    "        \n",
    "# =================================================\n",
    "# EVALUATING TRANSFORMATION MATRICES IN ELEGANT WAY\n",
    "# =================================================\n",
    "# original way was :\n",
    "# t0 = scene.rootnode.children[0].children[0].transformation\n",
    "# t1 = scene.rootnode.children[0].children[0].children[0].transformation\n",
    "# t2 = scene.rootnode.children[0].children[0].children[0].children[0].transformation\n",
    "\n",
    "bone_names = [str(b[i]) for i in range(len(b))]\n",
    "t = np.zeros([len(b),4,4])\n",
    "read_tree(scene.rootnode)\n",
    "\n",
    "\n",
    "# =================================================\n",
    "# APPLYING EXTRA TRANSFORMATIONS IN JOINTS\n",
    "# =================================================\n",
    "M = np.zeros([len(b),4,4])\n",
    "for i in range(len(b)):\n",
    "    M[i] = np.identity(4)\n",
    "\n",
    "# M[0][0:3,0:3] = eulerAnglesToRotationMatrix([0.5,0,0]) \n",
    "# M[0][0:3,3] = [1,1,0]\n",
    "# M[0] = np.dot(M[0],np.diag([1,1,1,1]))\n",
    "\n",
    "M[1][0:3,0:3] = eulerAnglesToRotationMatrix([0.7,0.3,0.4])\n",
    "M[1][0:3,3] = [0,0,0]\n",
    "M[1] = np.dot(np.diag([1,1.3,1,1]),M[1])\n",
    "\n",
    "# M[2][0:3,0:3] = eulerAnglesToRotationMatrix([0,0,0.7])\n",
    "# M[2][0:3,3] = [0,0,0]\n",
    "# M[2] = np.dot(M[2],np.diag([1,1/2,1,1]))\n",
    "\n",
    "\n",
    "# =================================================\n",
    "        \n",
    "newv = np.zeros([(len(v)),3])\n",
    "\n",
    "TTrue = [T(i,True) for i in range(len(b))]\n",
    "TFalse = [T(i,False) for i in range(len(b))]\n",
    "BB = [B(i) for i in range(len(b))]\n",
    "\n",
    "import time\n",
    "\n",
    "start = time.time()\n",
    "for i in range(len(v)):\n",
    "    for j in range(4):\n",
    "        if vw.id[i][j] >=0:\n",
    "#             transform = True\n",
    "            transform = False\n",
    "            if transform :\n",
    "                mat = np.dot(TTrue[vw.id[i][j]],BB[vw.id[i][j]])\n",
    "            else:\n",
    "                mat = np.dot(TFalse[vw.id[i][j]],BB[vw.id[i][j]])\n",
    "            G = np.linalg.inv(scene.rootnode.transformation)\n",
    "            mat = np.dot(G,mat)\n",
    "            newv[i] = newv[i] + vw.weight[i][j]*(vertex_apply_M(v[i],mat))\n",
    "end = time.time()\n",
    "\n",
    "print(\"TIME : \", end-start)\n",
    "\n",
    "p = mp.plot(newv, f,v[:, 0],shading={\"scale\": 2.5,\"side\": \"BackSide\",\"wireframe\":True},return_plot=True)  \n",
    "# p = mp.plot(newv, f,v[:, 0],shading={\"scale\": 2.5,\"wireframe\":True},return_plot=True)  \n",
    "\n",
    "# draw_original_wireframe()\n",
    "# draw_bones()\n",
    "draw_vertices_affected_by_boneID(0)\n",
    "\n",
    "\n",
    "# p.save(\"skinning.html\")\n"
   ]
  },
  {
   "cell_type": "code",
   "execution_count": null,
   "metadata": {
    "tags": []
   },
   "outputs": [
    {
     "name": "stdout",
     "output_type": "stream",
     "text": [
      "[[ 0.          0.19124199  0.981543   -1.47623003]\n",
      " [ 0.          0.981543   -0.19124199 -9.44237041]\n",
      " [-1.          0.          0.          0.        ]\n",
      " [ 0.          0.          0.          1.        ]]\n",
      "[[  0.          -0.139543     0.99021602   2.42648005]\n",
      " [  0.           0.99021602   0.139543   -11.55200005]\n",
      " [ -1.           0.           0.           0.        ]\n",
      " [  0.           0.           0.           1.        ]]\n",
      "[[  0.          -0.139543     0.99021602   2.42648005]\n",
      " [  0.           0.99021602   0.139543   -12.3039999 ]\n",
      " [ -1.           0.           0.           0.        ]\n",
      " [  0.           0.           0.           1.        ]]\n",
      "[[ -0.981543     0.18937089   0.02668648  -3.68545755]\n",
      " [  0.19124199   0.9719396    0.13696745 -20.78115525]\n",
      " [  0.           0.139543    -0.99021602  -2.42648005]\n",
      " [  0.           0.           0.           1.        ]]\n",
      "[[-2.66864810e-02  3.24485537e-01 -9.45514223e-01 -8.39717144e+00]\n",
      " [-1.36967452e-01  9.35743682e-01  3.24998251e-01 -3.22758552e+01]\n",
      " [ 9.90216017e-01  1.38177711e-01  1.94722480e-02 -4.14341707e+00]\n",
      " [ 0.00000000e+00  0.00000000e+00  0.00000000e+00  1.00000000e+00]]\n",
      "[[-0.         -0.         -1.         -0.        ]\n",
      " [ 0.19124196  0.98154284  0.          9.55040818]\n",
      " [ 0.98154284 -0.19124196  0.         -0.35679444]\n",
      " [ 0.          0.          0.          1.        ]]\n"
     ]
    }
   ],
   "source": [
    "b0 = B(0)\n",
    "b1 = B(1)\n",
    "b2 = B(2)\n",
    "print(b0)\n",
    "print(b1)\n",
    "print(b2)\n",
    "b01 = np.dot(b0,b1)\n",
    "b012 = np.dot(b01,b2)\n",
    "print(b01)\n",
    "print(b012)\n",
    "ib0 = np.linalg.inv(B(0))\n",
    "print(ib0)"
   ]
  },
  {
   "cell_type": "markdown",
   "metadata": {},
   "source": [
    "# CGA Method -> Models Working: ManosModeld, ManosModel2\n",
    "\n"
   ]
  },
  {
   "cell_type": "code",
   "execution_count": null,
   "metadata": {},
   "outputs": [],
   "source": [
    "from clifford.g3c import *\n",
    "from clifford.tools.g3c import *\n",
    "from clifford import Cl, conformalize\n",
    "from dual_quaternion import *\n",
    "from quaternion import *\n",
    "\n",
    "G3, blades_g3 = Cl(3)\n",
    "G3c, blades_g3c, stuff = conformalize(G3)\n",
    "\n",
    "\n",
    "\n",
    "\n",
    "def to_angle_axis_translation(dq):\n",
    "    \"\"\" \n",
    "    Deconstructs a (unit) dual quaternion that corresponds to first to a rotation \n",
    "    around an axis by a given angle and then a translation towards the trans vector. \n",
    "    The function returns the angle, the (unit) axis, and the translation vector.\n",
    "    \"\"\"\n",
    "    mydq = dq.copy()\n",
    "#     mydq.normalize()\n",
    "    if ( not mydq.is_normalized):\n",
    "        print('The dual quaternion is not unit and therefore it does not correspond to a rigid movement')\n",
    "    else:\n",
    "        t = mydq.to_pose()[0:3]\n",
    "        r = mydq.to_pose()[3:7]\n",
    "        qr = Quaternion(r[0],r[1],r[2],r[3])\n",
    "        axis = qr.angle_axis()[0:3]\n",
    "        angle= qr.angle_axis()[3]\n",
    "        return angle, axis, t\n",
    "\n",
    "def matrix_to_motor(M):\n",
    "    \"The matrix has to represent rotation only, no scaling of x,y or z.\"\n",
    "    phi,axis,trans = to_angle_axis_translation(DualQuaternion.from_transformation_matrix(M))\n",
    "    # axis from euc to cga and normalization\n",
    "    axis = axis[0]*e1+axis[1]*e2+axis[2]*e3\n",
    "    axis = axis/norm(axis)\n",
    "    # update trans from euclidean vector to  cga\n",
    "    t = trans[0]*e1+trans[1]*e2+trans[2]*e3 \n",
    "\n",
    "    I3 = e1*e2*e3 \n",
    "        \n",
    "    R = e**(-(axis*I3)*(phi/2))   # rotor\n",
    "    T = e**(-1/2*t*einf)          # translator\n",
    "    return T*R\n",
    "\n",
    "def up_cga_point_to_euc_point(mv):\n",
    "    down = fast_down(mv)\n",
    "    return np.array([down[e1], down[e2], down[e3]])\n",
    "\n"
   ]
  },
  {
   "cell_type": "code",
   "execution_count": null,
   "metadata": {
    "tags": []
   },
   "outputs": [
    {
     "name": "stdout",
     "output_type": "stream",
     "text": [
      "TIME :  0.9064309597015381\n"
     ]
    },
    {
     "data": {
      "application/vnd.jupyter.widget-view+json": {
       "model_id": "9c7a86d815bd4525a549ca56a63cd865",
       "version_major": 2,
       "version_minor": 0
      },
      "text/plain": [
       "Renderer(camera=PerspectiveCamera(children=(DirectionalLight(color='white', intensity=0.6, position=(0.3120335…"
      ]
     },
     "metadata": {},
     "output_type": "display_data"
    }
   ],
   "source": [
    "# scene = load('../models/ManosModel2.dae')\n",
    "scene = load('astroBoy_walk.dae.dae','dae')\n",
    "# scene = load('../models/astroBoy_walk2.dae')\n",
    "\n",
    "mesh = scene.meshes[0] \n",
    "v = mesh.vertices\n",
    "f = mesh.faces\n",
    "b = mesh.bones\n",
    "\n",
    "vw = vertex_weight()\n",
    "for boneID in range(len(b)):\n",
    "    for i in range(len(b[boneID].weights)):\n",
    "        vw.add(b[boneID].weights[i].vertexid, boneID ,b[boneID].weights[i].weight)\n",
    "        \n",
    "# =================================================\n",
    "# EVALUATING TRANSFORMATION MATRICES IN ELEGANT WAY\n",
    "# =================================================\n",
    "# original way was :\n",
    "# t0 = scene.rootnode.children[0].children[0].transformation\n",
    "# t1 = scene.rootnode.children[0].children[0].children[0].transformation\n",
    "# t2 = scene.rootnode.children[0].children[0].children[0].children[0].transformation\n",
    "\n",
    "bone_names = [str(b[i]) for i in range(len(b))]\n",
    "t = np.zeros([len(b),4,4])\n",
    "read_tree(scene.rootnode)\n",
    "\n",
    "\n",
    "# =================================================\n",
    "# APPLYING EXTRA TRANSFORMATIONS IN JOINTS\n",
    "# =================================================\n",
    "M = np.zeros([len(b),4,4])\n",
    "for i in range(len(b)):\n",
    "    M[i] = np.identity(4)\n",
    "\n",
    "# M[0][0:3,0:3] = eulerAnglesToRotationMatrix([0.5,0,0]) \n",
    "# M[0][0:3,3] = [1,1,0]\n",
    "# M[0] = np.dot(M[0],np.diag([1,1,1,1]))\n",
    "\n",
    "M[1][0:3,0:3] = eulerAnglesToRotationMatrix([0.7,0.3,0.4])\n",
    "M[1][0:3,3] = [0,0,0]\n",
    "# M[1] = np.dot(np.diag([1,1.3,1,1]),M[1])\n",
    "\n",
    "# M[2][0:3,0:3] = eulerAnglesToRotationMatrix([0,0,0.7])\n",
    "# M[2][0:3,3] = [0,0,0]\n",
    "# M[2] = np.dot(M[2],np.diag([1,1/2,1,1]))\n",
    "\n",
    "\n",
    "# =================================================\n",
    "\n",
    "cgav = [up(vertex[0]*e1+vertex[1]*e2+vertex[2]*e3) for vertex in v]\n",
    "\n",
    "newv = np.zeros([(len(v)),3])\n",
    "\n",
    "TTTRUE = [matrix_to_motor(T(i,True)) for i in range(len(b))]\n",
    "TTFALSE = [matrix_to_motor(T(i,False)) for i in range(len(b))]\n",
    "BBB = [matrix_to_motor(B(i)) for i in range(len(b))]\n",
    "\n",
    "\n",
    "start = time.time()\n",
    "for i in range(len(v)):\n",
    "    for j in range(4):\n",
    "        if vw.id[i][j] >=0:\n",
    "            transform = True\n",
    "#             transform = False\n",
    "            if transform:\n",
    "#                 mat = np.dot(TTrue[vw.id[i][j]],BB[vw.id[i][j]])\n",
    "                rotor = TTTRUE[vw.id[i][j]]*BBB[vw.id[i][j]]\n",
    "            else:\n",
    "#                 mat = np.dot(TFalse[vw.id[i][j]],BB[vw.id[i][j]])\n",
    "                rotor = TTFALSE[vw.id[i][j]]*BBB[vw.id[i][j]]\n",
    "#             newv[i] = newv[i] + vw.weight[i][j]*(vertex_apply_M(v[i],mat))\n",
    "            newv[i] = newv[i] + vw.weight[i][j]*up_cga_point_to_euc_point(rotor*cgav[i]*~rotor) # WORKS\n",
    "end = time.time()\n",
    "print(\"TIME : \", end-start)\n",
    "\n",
    "\n",
    "p = mp.plot(newv, f,v[:, 0],shading={\"scale\": 2.5,\"side\": \"BackSide\",\"wireframe\":True},return_plot=True)  \n",
    "\n",
    "draw_original_wireframe()\n",
    "# draw_bones()\n",
    "# draw_vertices_affected_by_boneID(0)\n",
    "\n",
    "\n",
    "# p.save(\"skinning.html\")\n",
    "\n",
    "# print(newv[0:30])\n"
   ]
  },
  {
   "cell_type": "markdown",
   "metadata": {},
   "source": [
    "The problem in the code above is that we down project a lot of times and therefore the run time is **LOWER** when compared to the code below where we down project only once, at the end of the evaluation. \n",
    "\n",
    "The reason is that adding multivectors demands adding 32 (actually 12) coefficients whereas, the addition of down projecting first reduces the coefficients to 3, and therefore less operations/running time!"
   ]
  },
  {
   "cell_type": "code",
   "execution_count": null,
   "metadata": {
    "tags": []
   },
   "outputs": [
    {
     "name": "stdout",
     "output_type": "stream",
     "text": [
      "TIME :  0.07455611228942871\n"
     ]
    },
    {
     "data": {
      "application/vnd.jupyter.widget-view+json": {
       "model_id": "518995af554e4ef49337f918eacc19a7",
       "version_major": 2,
       "version_minor": 0
      },
      "text/plain": [
       "Renderer(camera=PerspectiveCamera(children=(DirectionalLight(color='white', intensity=0.6, position=(-0.019150…"
      ]
     },
     "metadata": {},
     "output_type": "display_data"
    }
   ],
   "source": [
    "#### INEFFICIENT METHOD ####\n",
    "\n",
    "## scene = load('../models/ManosModel2.dae')\n",
    "scene = load('astroBoy_walk.dae.dae','dae')\n",
    "# scene = load('../models/astroBoy_walk2.dae')\n",
    "\n",
    "mesh = scene.meshes[0] \n",
    "v = mesh.vertices\n",
    "f = mesh.faces\n",
    "b = mesh.bones\n",
    "\n",
    "vw = vertex_weight()\n",
    "for boneID in range(len(b)):\n",
    "    for i in range(len(b[boneID].weights)):\n",
    "        vw.add(b[boneID].weights[i].vertexid, boneID ,b[boneID].weights[i].weight)\n",
    "        \n",
    "# =================================================\n",
    "# EVALUATING TRANSFORMATION MATRICES IN ELEGANT WAY\n",
    "# =================================================\n",
    "# original way was :\n",
    "# t0 = scene.rootnode.children[0].children[0].transformation\n",
    "# t1 = scene.rootnode.children[0].children[0].children[0].transformation\n",
    "# t2 = scene.rootnode.children[0].children[0].children[0].children[0].transformation\n",
    "\n",
    "bone_names = [str(b[i]) for i in range(len(b))]\n",
    "t = np.zeros([len(b),4,4])\n",
    "read_tree(scene.rootnode)\n",
    "\n",
    "\n",
    "# =================================================\n",
    "# APPLYING EXTRA TRANSFORMATIONS IN JOINTS\n",
    "# =================================================\n",
    "M = np.zeros([len(b),4,4])\n",
    "for i in range(len(b)):\n",
    "    M[i] = np.identity(4)\n",
    "\n",
    "# M[0][0:3,0:3] = eulerAnglesToRotationMatrix([0.5,0,0]) \n",
    "# M[0][0:3,3] = [1,1,0]\n",
    "# M[0] = np.dot(M[0],np.diag([1,1,1,1]))\n",
    "\n",
    "M[1][0:3,0:3] = eulerAnglesToRotationMatrix([0,0,0.4])\n",
    "M[1][0:3,3] = [0,0,0]\n",
    "# M[1] = np.dot(np.diag([1,1.3,1,1]),M[1])\n",
    "\n",
    "# M[2][0:3,0:3] = eulerAnglesToRotationMatrix([0,0,0.7])\n",
    "# M[2][0:3,3] = [0,0,0]\n",
    "# M[2] = np.dot(M[2],np.diag([1,1/2,1,1]))\n",
    "\n",
    "\n",
    "# =================================================\n",
    "\n",
    "cgav = [up(vertex[0]*e1+vertex[1]*e2+vertex[2]*e3) for vertex in v]\n",
    "newv = [0 for i in range(len(v))]\n",
    "# newv = np.array([(len(v)),3],0)\n",
    "\n",
    "\n",
    "TTTRUE = [matrix_to_motor(T(i,True)) for i in range(len(b))]\n",
    "TTFALSE = [matrix_to_motor(T(i,False)) for i in range(len(b))]\n",
    "BBB = [matrix_to_motor(B(i)) for i in range(len(b))]\n",
    "\n",
    "\n",
    "start = time.time()\n",
    "for i in range(len(v)):\n",
    "    for j in range(4):\n",
    "        if vw.id[i][j] >=0:\n",
    "            transform = True\n",
    "#             transform = False\n",
    "            if transform:\n",
    "#                 mat = np.dot(TTrue[vw.id[i][j]],BB[vw.id[i][j]])\n",
    "                rotor = TTTRUE[vw.id[i][j]]*BBB[vw.id[i][j]]\n",
    "            else:\n",
    "#                 mat = np.dot(TFalse[vw.id[i][j]],BB[vw.id[i][j]])\n",
    "                rotor = TTFALSE[vw.id[i][j]]*BBB[vw.id[i][j]]\n",
    "#             newv[i] = newv[i] + vw.weight[i][j]*(vertex_apply_M(v[i],mat))\n",
    "            newv[i] = newv[i] + vw.weight[i][j]*(rotor*cgav[i]*~rotor) # WORKS\n",
    "\n",
    "def up_cga_point_to_euc_point_list(mv):\n",
    "    down = fast_down(mv)\n",
    "    return [down[e1], down[e2], down[e3]]\n",
    "    \n",
    "eucnewv = [up_cga_point_to_euc_point_list(vertex) for vertex in newv]\n",
    "end = time.time()\n",
    "print(\"TIME : \", end-start)\n",
    "\n",
    "\n",
    "p = mp.plot(np.array(eucnewv), f,v[:, 0],shading={\"scale\": 2.5,\"side\": \"BackSide\",\"wireframe\":True},return_plot=True)  \n",
    "# p = mp.plot(eucnewv, return_plot=True)\n",
    "draw_original_wireframe()\n",
    "# draw_bones()\n",
    "# draw_vertices_affected_by_boneID(0)\n",
    "\n",
    "\n",
    "# p.save(\"skinning.html\")\n",
    "\n",
    "# print(newv[0:30])\n",
    "\n"
   ]
  },
  {
   "cell_type": "markdown",
   "metadata": {},
   "source": [
    "# TEST AREA BELOW"
   ]
  },
  {
   "cell_type": "code",
   "execution_count": null,
   "metadata": {},
   "outputs": [],
   "source": [
    "def dq_to_bivector(dq):\n",
    "    \"\"\" \n",
    "    Returns the bivector form of a dual quaternion dq\n",
    "    \n",
    "    Remarks: \n",
    "    i = e1^e2 = e12\n",
    "    j = e3^e1 = -e13\n",
    "    k = e2^e3 = e23\n",
    "    i*epsilon = einf^e3 = -e34-e35 \n",
    "    j*epsilon = einf^e2 = -e24-e25 \n",
    "    k*epsilon = einf^e1 = -e14-e15\n",
    "    epsilon = e1^e2^e3^einf = e1234+e1235\n",
    "    \"\"\"\n",
    "    return dq.r_x*e12 - dq.r_y*e13 + dq.r_z*e23 + dq.r_w \\\n",
    "           + dq.t_x*(-e34-e35) + dq.t_y*(-e24-e25) + dq.t_z*(-e14-e15) + dq.t_w*(e1234+e1235)\n",
    "\n",
    "def transformation_matrix_to_cga(matrix):\n",
    "    return dq_to_bivector( DualQuaternion.from_transformation_matrix(matrix) )\n",
    "\n",
    "\n",
    "def bivector_to_dq(bv):\n",
    "    \"\"\" \n",
    "    Returns the dual quaternion dq that corresponds to the bivector bv\n",
    "    \n",
    "    Remarks: \n",
    "    i = e1^e2 = e12\n",
    "    j = e3^e1 = -e13\n",
    "    k = e2^e3 = e23\n",
    "    i*epsilon = einf^e3 = -e34-e35 \n",
    "    j*epsilon = einf^e2 = -e24-e25 \n",
    "    k*epsilon = einf^e1 = -e14-e15\n",
    "    epsilon = e1^e2^e3^einf = e1234+e1235\n",
    "    \n",
    "    Since bv is assumed to be a dq, all other blades coefficients are supposed to equal 0\n",
    "    and the coefficients of e1234 must equal the one of e1235 and \n",
    "    \"\"\"\n",
    "    assert( bv[e1234] == bv[e1235] )  # due to epsilon \n",
    "    assert( bv[e14] == bv[e15] ) # due to k*epsilon \n",
    "    assert( bv[e24] == bv[e25] ) # due to j*epsilon \n",
    "    assert( bv[e34] == bv[e35] ) # due to i*epsilon \n",
    "    assert( bv.odd.clean() == 0) # round odd part --> it should be 0, i.e., no odd vectors in bv\n",
    "\n",
    "\n",
    "    return  DualQuaternion.from_vector([bv[e12],-bv[e13],bv[e23],bv[0],-bv[e34],-bv[e24],-bv[e14],bv[e1234]])\n",
    "\n",
    "def cga_to_transformation_matrix(bivector):\n",
    "    dq = bivector_to_dq(bivector)\n",
    "    return dq.to_matrix()"
   ]
  },
  {
   "cell_type": "code",
   "execution_count": null,
   "metadata": {
    "tags": []
   },
   "outputs": [
    {
     "name": "stdout",
     "output_type": "stream",
     "text": [
      "M=\n",
      " [[ 0.67121217 -0.38955611  0.63065067  1.        ]\n",
      " [ 0.56535421  0.81928486 -0.09563963  1.        ]\n",
      " [-0.47942554  0.42073549  0.77015115  0.        ]\n",
      " [ 0.          0.          0.          1.        ]]\n",
      "CGA_M=\n",
      " 0.90286 + (0.14298^e12) - (0.30738^e13) - (0.0822^e14) - (0.0822^e15) + (0.26441^e23) - (0.31923^e24) - (0.31923^e25) - (0.58364^e34) - (0.58364^e35) - (0.22518^e1234) - (0.22518^e1235)\n",
      "v2: [4.32700932 4.11036483 4.15411116]\n",
      "#############\n",
      "initial point:  [2. 3. 5. 0.]\n",
      "rotated point:  [ 4.32700932e+00  4.11036483e+00  4.15411116e+00 -2.22044605e-16]\n",
      "#############\n",
      "(0.8888257241934697, array([0.3325736 , 0.71494931, 0.61501406]), array([ 1.00000000e+00,  1.00000000e+00, -5.55111512e-17]))\n",
      "(0.33257^e1) + (0.71495^e2) + (0.61501^e3)\n",
      "Rotor =  0.90286 - (0.26441^e12) + (0.30738^e13) - (0.14298^e23)\n",
      "Translator =  1.0 - (0.5^e14) - (0.5^e15) - (0.5^e24) - (0.5^e25)\n",
      "Motor =  0.90286 - (0.26441^e12) + (0.30738^e13) - (0.58364^e14) - (0.58364^e15) - (0.14298^e23) - (0.31923^e24) - (0.31923^e25) - (0.0822^e34) - (0.0822^e35) + (0.22518^e1234) + (0.22518^e1235)\n",
      "T =  1.0 - (0.5^e14) - (0.5^e15) - (0.5^e24) - (0.5^e25)\n",
      "(4.32701^e1) + (4.11036^e2) + (4.15411^e3)\n",
      "#############\n"
     ]
    }
   ],
   "source": [
    "def TransMatrixToCGA(matrix):\n",
    "    m = np.copy(matrix)\n",
    "    translate = [m[0,3],m[1,3],m[2,3]]\n",
    "    mt = m.transpose()\n",
    "    sx = np.sqrt(np.dot(m[:,0],m[:,0]))\n",
    "    sy = np.sqrt(np.dot(m[:,1],m[:,1]))\n",
    "    sz = np.sqrt(np.dot(m[:,2],m[:,2]))\n",
    "    if sx and sy and sz:\n",
    "        m[0:3,0:3] = np.dot(m[0:3,0:3],np.diag([1/sx,1/sy,1/sz]))\n",
    "    return transformation_matrix_to_cga(m) #,sx,sy,sz,m\n",
    "\n",
    "\n",
    "M = np.identity(4)\n",
    "\n",
    "M[0:3,0:3] = eulerAnglesToRotationMatrix([0.5,0.5,0.7]) \n",
    "M[0:3,3] = [1,1,0]\n",
    "# M = np.dot(M,np.diag([5,4,3,1]))\n",
    "\n",
    "\n",
    "\n",
    "CGA_M = transformation_matrix_to_cga(M)\n",
    "CGA_M = TransMatrixToCGA(M)\n",
    "print(\"M=\\n\", M)\n",
    "print(\"CGA_M=\\n\", CGA_M)\n",
    "# M = cga_to_transformation_matrix(CGA_M)\n",
    "\n",
    "T = transformation_matrix_to_cga(M)\n",
    "\n",
    "\n",
    "v = np.array([2,3,5])\n",
    "\n",
    "\n",
    "############# applying Transformation via Matrix\n",
    "v2 = vertex_apply_M(v,M)\n",
    "print(\"v2:\",v2)\n",
    "print(\"#############\")\n",
    "\n",
    "########### apply transformation Via Dual Quaternion\n",
    "qp = Quaternion(v[0], v[1], v[2], 0) \n",
    "qI = Quaternion(0, 0, 0, 1) \n",
    "dqv = DualQuaternion(qI,qp) \n",
    "dq = DualQuaternion.from_transformation_matrix(M)\n",
    "dq_prime = dq.conjugate_translation()\n",
    "dqv2 = dq*dqv*dq_prime # we apply the transformation pattern\n",
    "print('initial point: ',dqv.q_dual)\n",
    "print('rotated point: ',dqv2.q_dual) \n",
    "print(\"#############\")\n",
    "########### apply transformation Via CGA\n",
    "\n",
    "# print(up(v[0]*e1+v[1]*e2+v[2]*e3))\n",
    "\n",
    "# cgav = dq_to_bivector(dqv)\n",
    "# print(cgav)\n",
    "# T = transformation_matrix_to_cga(M)\n",
    "# print(T*cgav*~(T))\n",
    "# print(dq_to_bivector(T_dq))\n",
    "# print(dq_to_bivector(T_dq)*dq_to_bivector(point_dq)*(~dq_to_bivector(T_dq)))\n",
    "# print(dq_to_bivector(T_dq)*dq_to_bivector(point_dq)*dq_to_bivector(T_dq_prime))\n",
    "# print(dq_to_bivector(translated_point_dq))\n",
    "\n",
    "\n",
    "# dq = DualQuaternion.from_transformation_matrix(matrix)\n",
    "\n",
    "phi,axis,trans = to_angle_axis_translation(dq)\n",
    "\n",
    "print(to_angle_axis_translation(dq))\n",
    "# update axis from euclidean vector to normalized cga\n",
    "axis = axis[0]*e1+axis[1]*e2+axis[2]*e3\n",
    "axis = axis/norm(axis)\n",
    "print(axis)\n",
    "I3 = e1*e2*e3 # I3, note that *=geometric product\n",
    "\n",
    "R = e**(-(axis*I3)*(phi/2)) # rotor\n",
    "\n",
    "print(\"Rotor = \",R)\n",
    "# update trans from euclidean vector to  cga\n",
    "t = trans[0]*e1+trans[1]*e2+trans[2]*e3 \n",
    "T = e**(-1/2*t*einf) # translator\n",
    "print('Translator = ',T)\n",
    "\n",
    "Motor = T*R\n",
    "print(\"Motor = \",Motor)\n",
    "print(\"T = \",T)\n",
    "\n",
    "# cgav = up(v[0]*e1+v[1]*e2+v[2]*e3)\n",
    "v = np.array([2,3,5])\n",
    "cgav = up(v[0]*e1+v[1]*e2+v[2]*e3)\n",
    "# print(down(Motor*cgav*~Motor))\n",
    "print(down(apply_rotor(cgav,Motor))) # faster way to apply rotor instead of writing it\n",
    "print(\"#############\")\n",
    "\n",
    "\n",
    "def matrix_to_motor(M):\n",
    "    \"The matrix has to represent rotation only, no scaling of x,y or z.\"\n",
    "    phi,axis,trans = to_angle_axis_translation(DualQuaternion.from_transformation_matrix(M))\n",
    "    # axis from euc to cga and normalization\n",
    "    axis = axis[0]*e1+axis[1]*e2+axis[2]*e3\n",
    "    axis = axis/norm(axis)\n",
    "    # update trans from euclidean vector to  cga\n",
    "    t = trans[0]*e1+trans[1]*e2+trans[2]*e3 \n",
    "\n",
    "    I3 = e1*e2*e3 \n",
    "        \n",
    "    R = e**(-(axis*I3)*(phi/2))   # rotor\n",
    "    T = e**(-1/2*t*einf)          # translator\n",
    "    return T*R\n",
    "\n",
    "# print(matrix_to_motor(M))\n",
    "\n",
    "### We can obtain T,R from M if we want\n",
    "# R = Motor(e123)\n",
    "# T = (Motor*~R).normal()\n",
    "\n"
   ]
  },
  {
   "cell_type": "code",
   "execution_count": null,
   "metadata": {},
   "outputs": [],
   "source": []
  },
  {
   "cell_type": "code",
   "execution_count": null,
   "metadata": {
    "tags": []
   },
   "outputs": [
    {
     "name": "stdout",
     "output_type": "stream",
     "text": [
      "3\n",
      "2.0\n",
      "[ 0  1  2 -1]\n",
      "[0, 0, 0, 0, 0]\n",
      "2.0\n"
     ]
    }
   ],
   "source": [
    "print(v[1])\n",
    "print(cgav[1])\n",
    "print(vw.id[1])\n",
    "# print(TTT[0])\n",
    "# print(TTT[1])\n",
    "# print(TTT[2])\n",
    "# print(TTT[0]*BBB[0])\n",
    "m = TTTRUE[0]*BBB[0]\n",
    "\n",
    "nn = [0 for i in range(5)]\n",
    "print(nn)\n",
    "print(nn[0]+m*cgav[1]*~m)\n",
    "\n",
    "\n"
   ]
  },
  {
   "cell_type": "code",
   "execution_count": null,
   "metadata": {},
   "outputs": [],
   "source": [
    "# rotor = matrix_to_motor(T(vw.id[i][j],transform))*matrix_to_motor(B(vw.id[i][j]))\n",
    "# print(matrix_to_motor(B(2)))\n",
    "# print(matrix_to_motor(T(2)))\n"
   ]
  },
  {
   "cell_type": "code",
   "execution_count": null,
   "metadata": {},
   "outputs": [
    {
     "data": {
      "text/plain": [
       "array([2., 3., 5.])"
      ]
     },
     "execution_count": 50,
     "metadata": {},
     "output_type": "execute_result"
    }
   ],
   "source": [
    "v = np.array([2,3,5])\n",
    "fast_up(v[0]*e1+v[1]*e2+v[2]*e3)\n",
    "fast_down(fast_up(v[0]*e1+v[1]*e2+v[2]*e3))\n",
    "up_cga_point_to_euc_point(fast_up(v[0]*e1+v[1]*e2+v[2]*e3))"
   ]
  },
  {
   "cell_type": "code",
   "execution_count": null,
   "metadata": {
    "tags": []
   },
   "outputs": [
    {
     "name": "stdout",
     "output_type": "stream",
     "text": [
      "2006\n",
      "[[ 0  1  2]\n",
      " [ 0  2  3]\n",
      " [ 4  5  6]\n",
      " [ 4  6  7]\n",
      " [ 8  9 10]\n",
      " [ 8 10 11]\n",
      " [12 13 14]\n",
      " [12 14 15]\n",
      " [16 17 18]\n",
      " [16 18 19]]\n",
      "[array([2006, 2007, 2008]), array([2006, 2008, 2009]), array([2010, 2011, 2012]), array([2010, 2012, 2013]), array([2014, 2015, 2016]), array([2014, 2016, 2017]), array([2018, 2019, 2020]), array([2018, 2020, 2021]), array([2022, 2023, 2024]), array([2022, 2024, 2025])]\n"
     ]
    },
    {
     "data": {
      "application/vnd.jupyter.widget-view+json": {
       "model_id": "399a9d75abab434caaec4fd6a6e3a094",
       "version_major": 2,
       "version_minor": 0
      },
      "text/plain": [
       "Renderer(camera=PerspectiveCamera(children=(DirectionalLight(color='white', intensity=0.6, position=(0.0, 10.0…"
      ]
     },
     "metadata": {},
     "output_type": "display_data"
    }
   ],
   "source": [
    "scene = load('astroBoy_walk2.dae')\n",
    "mesh = scene.meshes[0] \n",
    "v0 = mesh.vertices\n",
    "f0 = mesh.faces\n",
    "# p = mp.plot(v0, f0,v0[:, 0],shading={\"scale\": 2.5,\"wireframe\":True},return_plot=True) \n",
    "\n",
    "mesh = scene.meshes[3] \n",
    "v3 = mesh.vertices\n",
    "f3 = mesh.faces\n",
    "\n",
    "L = len(v0)\n",
    "print(L)\n",
    "print(f3[0:10])\n",
    "\n",
    "\n",
    "f3 = [ face+[L,L,L] for face in f3 ]\n",
    "print(f3[0:10])\n",
    "v0=np.concatenate((v0,v3))\n",
    "f0=np.concatenate((f0,f3))\n",
    "p = mp.plot(v0, f0,v0[:, 0],shading={\"scale\": 2.5,\"wireframe\":True},return_plot=True) "
   ]
  },
  {
   "cell_type": "code",
   "execution_count": null,
   "metadata": {
    "tags": []
   },
   "outputs": [
    {
     "name": "stdout",
     "output_type": "stream",
     "text": [
      "[[100.00000224   0.           0.           0.        ]\n",
      " [  0.         100.00000224   0.           0.        ]\n",
      " [  0.           0.         100.00000224   0.        ]\n",
      " [  0.           0.           0.           1.        ]]\n"
     ]
    },
    {
     "ename": "ValueError",
     "evalue": "setting an array element with a sequence.",
     "output_type": "error",
     "traceback": [
      "\u001b[0;31m---------------------------------------------------------------------------\u001b[0m",
      "\u001b[0;31mTypeError\u001b[0m                                 Traceback (most recent call last)",
      "\u001b[0;31mTypeError\u001b[0m: only size-1 arrays can be converted to Python scalars",
      "\nThe above exception was the direct cause of the following exception:\n",
      "\u001b[0;31mValueError\u001b[0m                                Traceback (most recent call last)",
      "\u001b[0;32m<ipython-input-52-1f2e30fe2b7a>\u001b[0m in \u001b[0;36m<module>\u001b[0;34m\u001b[0m\n\u001b[1;32m     30\u001b[0m         \u001b[0mread_tree_names\u001b[0m\u001b[0;34m(\u001b[0m\u001b[0mchild\u001b[0m\u001b[0;34m,\u001b[0m\u001b[0mp\u001b[0m\u001b[0;34m)\u001b[0m\u001b[0;34m\u001b[0m\u001b[0;34m\u001b[0m\u001b[0m\n\u001b[1;32m     31\u001b[0m \u001b[0;34m\u001b[0m\u001b[0m\n\u001b[0;32m---> 32\u001b[0;31m \u001b[0mread_tree_names\u001b[0m\u001b[0;34m(\u001b[0m\u001b[0mscene\u001b[0m\u001b[0;34m.\u001b[0m\u001b[0mrootnode\u001b[0m\u001b[0;34m,\u001b[0m\u001b[0mnp\u001b[0m\u001b[0;34m.\u001b[0m\u001b[0midentity\u001b[0m\u001b[0;34m(\u001b[0m\u001b[0;36m4\u001b[0m\u001b[0;34m)\u001b[0m\u001b[0;34m)\u001b[0m\u001b[0;34m\u001b[0m\u001b[0;34m\u001b[0m\u001b[0m\n\u001b[0m\u001b[1;32m     33\u001b[0m \u001b[0;34m\u001b[0m\u001b[0m\n\u001b[1;32m     34\u001b[0m \u001b[0mprint\u001b[0m\u001b[0;34m(\u001b[0m\u001b[0mMM\u001b[0m\u001b[0;34m)\u001b[0m\u001b[0;34m\u001b[0m\u001b[0;34m\u001b[0m\u001b[0m\n",
      "\u001b[0;32m<ipython-input-52-1f2e30fe2b7a>\u001b[0m in \u001b[0;36mread_tree_names\u001b[0;34m(node, parentmatrix)\u001b[0m\n\u001b[1;32m     28\u001b[0m         \u001b[0mMM\u001b[0m\u001b[0;34m[\u001b[0m\u001b[0mindex\u001b[0m\u001b[0;34m]\u001b[0m \u001b[0;34m=\u001b[0m \u001b[0mp\u001b[0m\u001b[0;34m\u001b[0m\u001b[0;34m\u001b[0m\u001b[0m\n\u001b[1;32m     29\u001b[0m     \u001b[0;32mfor\u001b[0m \u001b[0mchild\u001b[0m \u001b[0;32min\u001b[0m \u001b[0mnode\u001b[0m\u001b[0;34m.\u001b[0m\u001b[0mchildren\u001b[0m\u001b[0;34m:\u001b[0m\u001b[0;34m\u001b[0m\u001b[0;34m\u001b[0m\u001b[0m\n\u001b[0;32m---> 30\u001b[0;31m         \u001b[0mread_tree_names\u001b[0m\u001b[0;34m(\u001b[0m\u001b[0mchild\u001b[0m\u001b[0;34m,\u001b[0m\u001b[0mp\u001b[0m\u001b[0;34m)\u001b[0m\u001b[0;34m\u001b[0m\u001b[0;34m\u001b[0m\u001b[0m\n\u001b[0m\u001b[1;32m     31\u001b[0m \u001b[0;34m\u001b[0m\u001b[0m\n\u001b[1;32m     32\u001b[0m \u001b[0mread_tree_names\u001b[0m\u001b[0;34m(\u001b[0m\u001b[0mscene\u001b[0m\u001b[0;34m.\u001b[0m\u001b[0mrootnode\u001b[0m\u001b[0;34m,\u001b[0m\u001b[0mnp\u001b[0m\u001b[0;34m.\u001b[0m\u001b[0midentity\u001b[0m\u001b[0;34m(\u001b[0m\u001b[0;36m4\u001b[0m\u001b[0;34m)\u001b[0m\u001b[0;34m)\u001b[0m\u001b[0;34m\u001b[0m\u001b[0;34m\u001b[0m\u001b[0m\n",
      "\u001b[0;32m<ipython-input-52-1f2e30fe2b7a>\u001b[0m in \u001b[0;36mread_tree_names\u001b[0;34m(node, parentmatrix)\u001b[0m\n\u001b[1;32m     25\u001b[0m     \u001b[0;32mif\u001b[0m \u001b[0mnode\u001b[0m\u001b[0;34m.\u001b[0m\u001b[0mname\u001b[0m \u001b[0;32min\u001b[0m \u001b[0mbone_names\u001b[0m\u001b[0;34m:\u001b[0m\u001b[0;34m\u001b[0m\u001b[0;34m\u001b[0m\u001b[0m\n\u001b[1;32m     26\u001b[0m         \u001b[0mindex\u001b[0m \u001b[0;34m=\u001b[0m \u001b[0mbone_names\u001b[0m\u001b[0;34m.\u001b[0m\u001b[0mindex\u001b[0m\u001b[0;34m(\u001b[0m\u001b[0mnode\u001b[0m\u001b[0;34m.\u001b[0m\u001b[0mname\u001b[0m\u001b[0;34m)\u001b[0m\u001b[0;34m\u001b[0m\u001b[0;34m\u001b[0m\u001b[0m\n\u001b[0;32m---> 27\u001b[0;31m         \u001b[0mt\u001b[0m\u001b[0;34m[\u001b[0m\u001b[0mindex\u001b[0m\u001b[0;34m]\u001b[0m \u001b[0;34m=\u001b[0m \u001b[0mnode\u001b[0m\u001b[0;34m.\u001b[0m\u001b[0mtransformation\u001b[0m\u001b[0;34m\u001b[0m\u001b[0;34m\u001b[0m\u001b[0m\n\u001b[0m\u001b[1;32m     28\u001b[0m         \u001b[0mMM\u001b[0m\u001b[0;34m[\u001b[0m\u001b[0mindex\u001b[0m\u001b[0;34m]\u001b[0m \u001b[0;34m=\u001b[0m \u001b[0mp\u001b[0m\u001b[0;34m\u001b[0m\u001b[0;34m\u001b[0m\u001b[0m\n\u001b[1;32m     29\u001b[0m     \u001b[0;32mfor\u001b[0m \u001b[0mchild\u001b[0m \u001b[0;32min\u001b[0m \u001b[0mnode\u001b[0m\u001b[0;34m.\u001b[0m\u001b[0mchildren\u001b[0m\u001b[0;34m:\u001b[0m\u001b[0;34m\u001b[0m\u001b[0;34m\u001b[0m\u001b[0m\n",
      "\u001b[0;32m~/opt/anaconda3/envs/gate/lib/python3.7/site-packages/clifford/_multivector.py\u001b[0m in \u001b[0;36m__setitem__\u001b[0;34m(self, key, value)\u001b[0m\n\u001b[1;32m    414\u001b[0m             \u001b[0mself\u001b[0m\u001b[0;34m.\u001b[0m\u001b[0mvalue\u001b[0m\u001b[0;34m[\u001b[0m\u001b[0midx\u001b[0m\u001b[0;34m]\u001b[0m \u001b[0;34m=\u001b[0m \u001b[0msign\u001b[0m\u001b[0;34m*\u001b[0m\u001b[0mvalue\u001b[0m\u001b[0;34m\u001b[0m\u001b[0;34m\u001b[0m\u001b[0m\n\u001b[1;32m    415\u001b[0m         \u001b[0;32melse\u001b[0m\u001b[0;34m:\u001b[0m\u001b[0;34m\u001b[0m\u001b[0;34m\u001b[0m\u001b[0m\n\u001b[0;32m--> 416\u001b[0;31m             \u001b[0mself\u001b[0m\u001b[0;34m.\u001b[0m\u001b[0mvalue\u001b[0m\u001b[0;34m[\u001b[0m\u001b[0mkey\u001b[0m\u001b[0;34m]\u001b[0m \u001b[0;34m=\u001b[0m \u001b[0mvalue\u001b[0m\u001b[0;34m\u001b[0m\u001b[0;34m\u001b[0m\u001b[0m\n\u001b[0m\u001b[1;32m    417\u001b[0m \u001b[0;34m\u001b[0m\u001b[0m\n\u001b[1;32m    418\u001b[0m     \u001b[0;31m# grade projection\u001b[0m\u001b[0;34m\u001b[0m\u001b[0;34m\u001b[0m\u001b[0;34m\u001b[0m\u001b[0m\n",
      "\u001b[0;31mValueError\u001b[0m: setting an array element with a sequence."
     ]
    }
   ],
   "source": [
    "scene = load('astroBoy_walk.dae','dae')\n",
    "\n",
    "\n",
    "# m_GlobalInverseTransform = m_pScene->mRootNode->mTransformation;\n",
    "# m_GlobalInverseTransform.Inverse();\n",
    "m_GlobalInverseTransform = np.linalg.inv(scene.rootnode.transformation)\n",
    "print(m_GlobalInverseTransform)\n",
    "\n",
    "# print(scene.rootnode.name)\n",
    "# print(scene.rootnode.transformation)\n",
    "# print(scene.rootnode.children[0].name)\n",
    "# print(scene.rootnode.children[0].transformation)\n",
    "# print(scene.rootnode.children[1].name)\n",
    "# print(scene.rootnode.children[1].transformation)\n",
    "\n",
    "# print(scene.rootnode.children[0].children[0].name)\n",
    "# print(scene.rootnode.children[0].children[0].transformation)\n",
    "\n",
    "# MM = np.zeros([len(b),4,4])\n",
    "\n",
    "\n",
    "MM = np.zeros([len(b),4,4])\n",
    "def read_tree_names(node,parentmatrix):\n",
    "    p = np.dot(parentmatrix,node.transformation)\n",
    "    if node.name in bone_names:\n",
    "        index = bone_names.index(node.name)\n",
    "        t[index] = node.transformation\n",
    "        MM[index] = p\n",
    "    for child in node.children:\n",
    "        read_tree_names(child,p)\n",
    "        \n",
    "read_tree_names(scene.rootnode,np.identity(4))\n",
    "\n",
    "print(MM)\n",
    "print(TFalse)\n",
    "# print(MM[1])\n",
    "# print(MM[2])\n",
    "\n"
   ]
  },
  {
   "cell_type": "code",
   "execution_count": null,
   "metadata": {
    "tags": []
   },
   "outputs": [
    {
     "ename": "ValueError",
     "evalue": "grade must be an integer",
     "output_type": "error",
     "traceback": [
      "\u001b[0;31m---------------------------------------------------------------------------\u001b[0m",
      "\u001b[0;31mValueError\u001b[0m                                Traceback (most recent call last)",
      "\u001b[0;32m<ipython-input-53-38bd96676ab9>\u001b[0m in \u001b[0;36m<module>\u001b[0;34m\u001b[0m\n\u001b[1;32m     58\u001b[0m \u001b[0mnewv\u001b[0m \u001b[0;34m=\u001b[0m \u001b[0mnp\u001b[0m\u001b[0;34m.\u001b[0m\u001b[0mzeros\u001b[0m\u001b[0;34m(\u001b[0m\u001b[0;34m[\u001b[0m\u001b[0;34m(\u001b[0m\u001b[0mlen\u001b[0m\u001b[0;34m(\u001b[0m\u001b[0mv\u001b[0m\u001b[0;34m)\u001b[0m\u001b[0;34m)\u001b[0m\u001b[0;34m,\u001b[0m\u001b[0;36m3\u001b[0m\u001b[0;34m]\u001b[0m\u001b[0;34m)\u001b[0m\u001b[0;34m\u001b[0m\u001b[0;34m\u001b[0m\u001b[0m\n\u001b[1;32m     59\u001b[0m \u001b[0;34m\u001b[0m\u001b[0m\n\u001b[0;32m---> 60\u001b[0;31m \u001b[0mTTrue\u001b[0m \u001b[0;34m=\u001b[0m \u001b[0;34m[\u001b[0m\u001b[0mT\u001b[0m\u001b[0;34m(\u001b[0m\u001b[0mi\u001b[0m\u001b[0;34m,\u001b[0m\u001b[0;32mTrue\u001b[0m\u001b[0;34m)\u001b[0m \u001b[0;32mfor\u001b[0m \u001b[0mi\u001b[0m \u001b[0;32min\u001b[0m \u001b[0mrange\u001b[0m\u001b[0;34m(\u001b[0m\u001b[0mlen\u001b[0m\u001b[0;34m(\u001b[0m\u001b[0mb\u001b[0m\u001b[0;34m)\u001b[0m\u001b[0;34m)\u001b[0m\u001b[0;34m]\u001b[0m\u001b[0;34m\u001b[0m\u001b[0;34m\u001b[0m\u001b[0m\n\u001b[0m\u001b[1;32m     61\u001b[0m \u001b[0mTFalse\u001b[0m \u001b[0;34m=\u001b[0m \u001b[0;34m[\u001b[0m\u001b[0mT\u001b[0m\u001b[0;34m(\u001b[0m\u001b[0mi\u001b[0m\u001b[0;34m,\u001b[0m\u001b[0;32mFalse\u001b[0m\u001b[0;34m)\u001b[0m \u001b[0;32mfor\u001b[0m \u001b[0mi\u001b[0m \u001b[0;32min\u001b[0m \u001b[0mrange\u001b[0m\u001b[0;34m(\u001b[0m\u001b[0mlen\u001b[0m\u001b[0;34m(\u001b[0m\u001b[0mb\u001b[0m\u001b[0;34m)\u001b[0m\u001b[0;34m)\u001b[0m\u001b[0;34m]\u001b[0m\u001b[0;34m\u001b[0m\u001b[0;34m\u001b[0m\u001b[0m\n\u001b[1;32m     62\u001b[0m \u001b[0mBB\u001b[0m \u001b[0;34m=\u001b[0m \u001b[0;34m[\u001b[0m\u001b[0mB\u001b[0m\u001b[0;34m(\u001b[0m\u001b[0mi\u001b[0m\u001b[0;34m)\u001b[0m \u001b[0;32mfor\u001b[0m \u001b[0mi\u001b[0m \u001b[0;32min\u001b[0m \u001b[0mrange\u001b[0m\u001b[0;34m(\u001b[0m\u001b[0mlen\u001b[0m\u001b[0;34m(\u001b[0m\u001b[0mb\u001b[0m\u001b[0;34m)\u001b[0m\u001b[0;34m)\u001b[0m\u001b[0;34m]\u001b[0m\u001b[0;34m\u001b[0m\u001b[0;34m\u001b[0m\u001b[0m\n",
      "\u001b[0;32m<ipython-input-53-38bd96676ab9>\u001b[0m in \u001b[0;36m<listcomp>\u001b[0;34m(.0)\u001b[0m\n\u001b[1;32m     58\u001b[0m \u001b[0mnewv\u001b[0m \u001b[0;34m=\u001b[0m \u001b[0mnp\u001b[0m\u001b[0;34m.\u001b[0m\u001b[0mzeros\u001b[0m\u001b[0;34m(\u001b[0m\u001b[0;34m[\u001b[0m\u001b[0;34m(\u001b[0m\u001b[0mlen\u001b[0m\u001b[0;34m(\u001b[0m\u001b[0mv\u001b[0m\u001b[0;34m)\u001b[0m\u001b[0;34m)\u001b[0m\u001b[0;34m,\u001b[0m\u001b[0;36m3\u001b[0m\u001b[0;34m]\u001b[0m\u001b[0;34m)\u001b[0m\u001b[0;34m\u001b[0m\u001b[0;34m\u001b[0m\u001b[0m\n\u001b[1;32m     59\u001b[0m \u001b[0;34m\u001b[0m\u001b[0m\n\u001b[0;32m---> 60\u001b[0;31m \u001b[0mTTrue\u001b[0m \u001b[0;34m=\u001b[0m \u001b[0;34m[\u001b[0m\u001b[0mT\u001b[0m\u001b[0;34m(\u001b[0m\u001b[0mi\u001b[0m\u001b[0;34m,\u001b[0m\u001b[0;32mTrue\u001b[0m\u001b[0;34m)\u001b[0m \u001b[0;32mfor\u001b[0m \u001b[0mi\u001b[0m \u001b[0;32min\u001b[0m \u001b[0mrange\u001b[0m\u001b[0;34m(\u001b[0m\u001b[0mlen\u001b[0m\u001b[0;34m(\u001b[0m\u001b[0mb\u001b[0m\u001b[0;34m)\u001b[0m\u001b[0;34m)\u001b[0m\u001b[0;34m]\u001b[0m\u001b[0;34m\u001b[0m\u001b[0;34m\u001b[0m\u001b[0m\n\u001b[0m\u001b[1;32m     61\u001b[0m \u001b[0mTFalse\u001b[0m \u001b[0;34m=\u001b[0m \u001b[0;34m[\u001b[0m\u001b[0mT\u001b[0m\u001b[0;34m(\u001b[0m\u001b[0mi\u001b[0m\u001b[0;34m,\u001b[0m\u001b[0;32mFalse\u001b[0m\u001b[0;34m)\u001b[0m \u001b[0;32mfor\u001b[0m \u001b[0mi\u001b[0m \u001b[0;32min\u001b[0m \u001b[0mrange\u001b[0m\u001b[0;34m(\u001b[0m\u001b[0mlen\u001b[0m\u001b[0;34m(\u001b[0m\u001b[0mb\u001b[0m\u001b[0;34m)\u001b[0m\u001b[0;34m)\u001b[0m\u001b[0;34m]\u001b[0m\u001b[0;34m\u001b[0m\u001b[0;34m\u001b[0m\u001b[0m\n\u001b[1;32m     62\u001b[0m \u001b[0mBB\u001b[0m \u001b[0;34m=\u001b[0m \u001b[0;34m[\u001b[0m\u001b[0mB\u001b[0m\u001b[0;34m(\u001b[0m\u001b[0mi\u001b[0m\u001b[0;34m)\u001b[0m \u001b[0;32mfor\u001b[0m \u001b[0mi\u001b[0m \u001b[0;32min\u001b[0m \u001b[0mrange\u001b[0m\u001b[0;34m(\u001b[0m\u001b[0mlen\u001b[0m\u001b[0;34m(\u001b[0m\u001b[0mb\u001b[0m\u001b[0;34m)\u001b[0m\u001b[0;34m)\u001b[0m\u001b[0;34m]\u001b[0m\u001b[0;34m\u001b[0m\u001b[0;34m\u001b[0m\u001b[0m\n",
      "\u001b[0;32m~/opt/anaconda3/envs/gate/lib/python3.7/site-packages/clifford/_multivector.py\u001b[0m in \u001b[0;36m__call__\u001b[0;34m(self, other, *others)\u001b[0m\n\u001b[1;32m    440\u001b[0m \u001b[0;34m\u001b[0m\u001b[0m\n\u001b[1;32m    441\u001b[0m         \u001b[0;32mif\u001b[0m \u001b[0mlen\u001b[0m\u001b[0;34m(\u001b[0m\u001b[0mothers\u001b[0m\u001b[0;34m)\u001b[0m \u001b[0;34m!=\u001b[0m \u001b[0;36m0\u001b[0m\u001b[0;34m:\u001b[0m\u001b[0;34m\u001b[0m\u001b[0;34m\u001b[0m\u001b[0m\n\u001b[0;32m--> 442\u001b[0;31m             \u001b[0;32mreturn\u001b[0m \u001b[0msum\u001b[0m\u001b[0;34m(\u001b[0m\u001b[0;34m[\u001b[0m\u001b[0mself\u001b[0m\u001b[0;34m.\u001b[0m\u001b[0m__call__\u001b[0m\u001b[0;34m(\u001b[0m\u001b[0mk\u001b[0m\u001b[0;34m)\u001b[0m \u001b[0;32mfor\u001b[0m \u001b[0mk\u001b[0m \u001b[0;32min\u001b[0m \u001b[0;34m(\u001b[0m\u001b[0mother\u001b[0m\u001b[0;34m,\u001b[0m\u001b[0;34m)\u001b[0m\u001b[0;34m+\u001b[0m\u001b[0mothers\u001b[0m\u001b[0;34m]\u001b[0m\u001b[0;34m)\u001b[0m\u001b[0;34m\u001b[0m\u001b[0;34m\u001b[0m\u001b[0m\n\u001b[0m\u001b[1;32m    443\u001b[0m \u001b[0;34m\u001b[0m\u001b[0m\n\u001b[1;32m    444\u001b[0m         \u001b[0;32mif\u001b[0m \u001b[0mgrade\u001b[0m \u001b[0;32mnot\u001b[0m \u001b[0;32min\u001b[0m \u001b[0mself\u001b[0m\u001b[0;34m.\u001b[0m\u001b[0mlayout\u001b[0m\u001b[0;34m.\u001b[0m\u001b[0mgradeList\u001b[0m\u001b[0;34m:\u001b[0m\u001b[0;34m\u001b[0m\u001b[0;34m\u001b[0m\u001b[0m\n",
      "\u001b[0;32m~/opt/anaconda3/envs/gate/lib/python3.7/site-packages/clifford/_multivector.py\u001b[0m in \u001b[0;36m<listcomp>\u001b[0;34m(.0)\u001b[0m\n\u001b[1;32m    440\u001b[0m \u001b[0;34m\u001b[0m\u001b[0m\n\u001b[1;32m    441\u001b[0m         \u001b[0;32mif\u001b[0m \u001b[0mlen\u001b[0m\u001b[0;34m(\u001b[0m\u001b[0mothers\u001b[0m\u001b[0;34m)\u001b[0m \u001b[0;34m!=\u001b[0m \u001b[0;36m0\u001b[0m\u001b[0;34m:\u001b[0m\u001b[0;34m\u001b[0m\u001b[0;34m\u001b[0m\u001b[0m\n\u001b[0;32m--> 442\u001b[0;31m             \u001b[0;32mreturn\u001b[0m \u001b[0msum\u001b[0m\u001b[0;34m(\u001b[0m\u001b[0;34m[\u001b[0m\u001b[0mself\u001b[0m\u001b[0;34m.\u001b[0m\u001b[0m__call__\u001b[0m\u001b[0;34m(\u001b[0m\u001b[0mk\u001b[0m\u001b[0;34m)\u001b[0m \u001b[0;32mfor\u001b[0m \u001b[0mk\u001b[0m \u001b[0;32min\u001b[0m \u001b[0;34m(\u001b[0m\u001b[0mother\u001b[0m\u001b[0;34m,\u001b[0m\u001b[0;34m)\u001b[0m\u001b[0;34m+\u001b[0m\u001b[0mothers\u001b[0m\u001b[0;34m]\u001b[0m\u001b[0;34m)\u001b[0m\u001b[0;34m\u001b[0m\u001b[0;34m\u001b[0m\u001b[0m\n\u001b[0m\u001b[1;32m    443\u001b[0m \u001b[0;34m\u001b[0m\u001b[0m\n\u001b[1;32m    444\u001b[0m         \u001b[0;32mif\u001b[0m \u001b[0mgrade\u001b[0m \u001b[0;32mnot\u001b[0m \u001b[0;32min\u001b[0m \u001b[0mself\u001b[0m\u001b[0;34m.\u001b[0m\u001b[0mlayout\u001b[0m\u001b[0;34m.\u001b[0m\u001b[0mgradeList\u001b[0m\u001b[0;34m:\u001b[0m\u001b[0;34m\u001b[0m\u001b[0;34m\u001b[0m\u001b[0m\n",
      "\u001b[0;32m~/opt/anaconda3/envs/gate/lib/python3.7/site-packages/clifford/_multivector.py\u001b[0m in \u001b[0;36m__call__\u001b[0;34m(self, other, *others)\u001b[0m\n\u001b[1;32m    446\u001b[0m \u001b[0;34m\u001b[0m\u001b[0m\n\u001b[1;32m    447\u001b[0m         \u001b[0;32mif\u001b[0m \u001b[0;32mnot\u001b[0m \u001b[0mnp\u001b[0m\u001b[0;34m.\u001b[0m\u001b[0missubdtype\u001b[0m\u001b[0;34m(\u001b[0m\u001b[0mtype\u001b[0m\u001b[0;34m(\u001b[0m\u001b[0mgrade\u001b[0m\u001b[0;34m)\u001b[0m\u001b[0;34m,\u001b[0m \u001b[0mnp\u001b[0m\u001b[0;34m.\u001b[0m\u001b[0minteger\u001b[0m\u001b[0;34m)\u001b[0m\u001b[0;34m:\u001b[0m\u001b[0;34m\u001b[0m\u001b[0;34m\u001b[0m\u001b[0m\n\u001b[0;32m--> 448\u001b[0;31m             \u001b[0;32mraise\u001b[0m \u001b[0mValueError\u001b[0m\u001b[0;34m(\u001b[0m\u001b[0;34m\"grade must be an integer\"\u001b[0m\u001b[0;34m)\u001b[0m\u001b[0;34m\u001b[0m\u001b[0;34m\u001b[0m\u001b[0m\n\u001b[0m\u001b[1;32m    449\u001b[0m \u001b[0;34m\u001b[0m\u001b[0m\n\u001b[1;32m    450\u001b[0m         \u001b[0mmask\u001b[0m \u001b[0;34m=\u001b[0m \u001b[0mnp\u001b[0m\u001b[0;34m.\u001b[0m\u001b[0mequal\u001b[0m\u001b[0;34m(\u001b[0m\u001b[0mgrade\u001b[0m\u001b[0;34m,\u001b[0m \u001b[0mself\u001b[0m\u001b[0;34m.\u001b[0m\u001b[0mlayout\u001b[0m\u001b[0;34m.\u001b[0m\u001b[0mgradeList\u001b[0m\u001b[0;34m)\u001b[0m\u001b[0;34m\u001b[0m\u001b[0;34m\u001b[0m\u001b[0m\n",
      "\u001b[0;31mValueError\u001b[0m: grade must be an integer"
     ]
    }
   ],
   "source": [
    "# scene = load('../models/ManosModel2.dae')\n",
    "# scene = load('../models/ManosModeld.dae','dae')\n",
    "scene = load('astroBoy_walk2.dae')\n",
    "\n",
    "mesh = scene.meshes[3] \n",
    "v = mesh.vertices\n",
    "f = mesh.faces\n",
    "b = mesh.bones\n",
    "\n",
    "vw = vertex_weight()\n",
    "for boneID in range(len(b)):\n",
    "    for i in range(len(b[boneID].weights)):\n",
    "        vw.add(b[boneID].weights[i].vertexid, boneID ,b[boneID].weights[i].weight)\n",
    "        \n",
    "\n",
    "bone_names = [str(b[i]) for i in range(len(b))]\n",
    "t = np.zeros([len(b),4,4])\n",
    "read_tree(scene.rootnode)\n",
    "\n",
    "\n",
    "\n",
    "MM = np.zeros([len(b),4,4])\n",
    "def read_tree_names(node,parentmatrix):\n",
    "    p = np.dot(parentmatrix,node.transformation)\n",
    "    if node.name in bone_names:\n",
    "        index = bone_names.index(node.name)\n",
    "        t[index] = node.transformation\n",
    "        MM[index] = p\n",
    "    for child in node.children:\n",
    "        read_tree_names(child,p)\n",
    "        \n",
    "read_tree_names(scene.rootnode,np.identity(4))\n",
    "\n",
    "\n",
    "\n",
    "# =================================================\n",
    "# APPLYING EXTRA TRANSFORMATIONS IN JOINTS\n",
    "# =================================================\n",
    "M = np.zeros([len(b),4,4])\n",
    "for i in range(len(b)):\n",
    "    M[i] = np.identity(4)\n",
    "\n",
    "# M[0][0:3,0:3] = eulerAnglesToRotationMatrix([0.5,0,0]) \n",
    "# M[0][0:3,3] = [1,1,0]\n",
    "# M[0] = np.dot(M[0],np.diag([1,1,1,1]))\n",
    "\n",
    "M[1][0:3,0:3] = eulerAnglesToRotationMatrix([0.7,0.3,0.4])\n",
    "M[1][0:3,3] = [0,0,0]\n",
    "M[1] = np.dot(np.diag([1,1.3,1,1]),M[1])\n",
    "\n",
    "# M[2][0:3,0:3] = eulerAnglesToRotationMatrix([0,0,0.7])\n",
    "# M[2][0:3,3] = [0,0,0]\n",
    "# M[2] = np.dot(M[2],np.diag([1,1/2,1,1]))\n",
    "\n",
    "\n",
    "# =================================================\n",
    "        \n",
    "newv = np.zeros([(len(v)),3])\n",
    "\n",
    "TTrue = [T(i,True) for i in range(len(b))]\n",
    "TFalse = [T(i,False) for i in range(len(b))]\n",
    "BB = [B(i) for i in range(len(b))]\n",
    "\n",
    "import time\n",
    "\n",
    "start = time.time()\n",
    "for i in range(len(v)):\n",
    "    for j in range(4):\n",
    "        if vw.id[i][j] >=0:\n",
    "#             transform = True\n",
    "            transform = False\n",
    "            if transform :\n",
    "                mat = np.dot(TTrue[vw.id[i][j]],BB[vw.id[i][j]])\n",
    "            else:\n",
    "#                 mat = np.dot(TFalse[vw.id[i][j]],BB[vw.id[i][j]])\n",
    "                mat = np.dot(MM[vw.id[i][j]],BB[vw.id[i][j]])\n",
    "            G = np.linalg.inv(scene.rootnode.transformation)\n",
    "            mat = np.dot(G,mat)\n",
    "            newv[i] = newv[i] + vw.weight[i][j]*(vertex_apply_M(v[i],mat))\n",
    "end = time.time()\n",
    "\n",
    "print(\"TIME : \", end-start)\n",
    "\n",
    "# p = mp.plot(newv, f,v[:, 0],shading={\"scale\": 2.5,\"side\": \"BackSide\",\"wireframe\":True},return_plot=True)  \n",
    "# p = mp.plot(newv, f,newv[:, 0],shading={\"wireframe\":True})  \n",
    "\n",
    "\n",
    "p = mp.subplot(newv, f,newv[:, 0], shading={\"wireframe\":True},s=[1,2,0])\n",
    "\n",
    "\n",
    "newv = np.zeros([(len(v)),3])\n",
    "\n",
    "start = time.time()\n",
    "for i in range(len(v)):\n",
    "    for j in range(4):\n",
    "        if vw.id[i][j] >=0:\n",
    "#             transform = True\n",
    "            transform = False\n",
    "            if transform :\n",
    "                mat = np.dot(TTrue[vw.id[i][j]],BB[vw.id[i][j]])\n",
    "            else:\n",
    "                mat = np.dot(TFalse[vw.id[i][j]],BB[vw.id[i][j]])\n",
    "#                 mat = np.dot(MM[vw.id[i][j]],BB[vw.id[i][j]])\n",
    "            G = np.linalg.inv(scene.rootnode.transformation)\n",
    "            mat = np.dot(G,mat)\n",
    "            newv[i] = newv[i] + vw.weight[i][j]*(vertex_apply_M(v[i],mat))\n",
    "end = time.time()\n",
    "\n",
    "print(\"TIME : \", end-start)\n",
    "\n",
    "# p = mp.plot(newv, f,v[:, 0],shading={\"scale\": 2.5,\"side\": \"BackSide\",\"wireframe\":True},return_plot=True)  \n",
    "\n",
    "\n",
    "mp.subplot(newv, f,newv[:, 0],shading={\"wireframe\":True},s=[1,2,1], data=p)\n",
    "\n",
    "\n",
    "# draw_original_wireframe()\n",
    "# draw_bones()\n",
    "# draw_vertices_affected_by_boneID(0)\n",
    "\n",
    "\n",
    "# p.save(\"skinning.html\")"
   ]
  },
  {
   "cell_type": "code",
   "execution_count": null,
   "metadata": {},
   "outputs": [],
   "source": []
  },
  {
   "cell_type": "code",
   "execution_count": null,
   "metadata": {
    "tags": []
   },
   "outputs": [
    {
     "name": "stdout",
     "output_type": "stream",
     "text": [
      "b'astroBoy_newSkeleton_root'\n",
      "0.041666001081466675\n",
      "[ 0.          6.84325981 -0.145007  ]\n",
      "0.041666001081466675\n",
      "[0.73393226 0.03406313 0.67763859 0.03145043]\n",
      "0.041666001081466675\n",
      "[0.99999988 0.99999994 1.        ]\n"
     ]
    }
   ],
   "source": [
    "# see https://salsa.debian.org/debian/assimp/blob/d14d34856c2fd024b15781cf48ffcb7b2ce0146f/port/PyAssimp/pyassimp/structs.py\n",
    "# check : class NodeAnim(Structure)\n",
    "\n",
    "print(scene.animations[0].channels[0].nodename.data)\n",
    "print(scene.animations[0].channels[0].positionkeys[0].time)\n",
    "print(scene.animations[0].channels[0].positionkeys[0].value)\n",
    "print(scene.animations[0].channels[0].rotationkeys[0].time)\n",
    "print(scene.animations[0].channels[0].rotationkeys[0].value) # a quaternion (w,x,y,z)\n",
    "print(scene.animations[0].channels[0].scalingkeys[0].time)\n",
    "print(scene.animations[0].channels[0].scalingkeys[0].value)\n",
    "\n"
   ]
  },
  {
   "cell_type": "code",
   "execution_count": null,
   "metadata": {},
   "outputs": [],
   "source": [
    "# # is it possible to obtain T,R,D from T*R*D ???\n",
    "\n",
    "# Motor = MMM2[3]\n",
    "# R_mod = Motor(e123)\n",
    "# T_mod = (Motor*~R_mod)\n",
    "\n",
    "# scale_factor = 2.5\n",
    "# D = 1 + ((1-scale_factor)/(1+scale_factor))*(einf^eo)\n",
    "\n",
    "# print(\"T = \",T_mod)\n",
    "# print(\"R = \",R_mod.normal())\n",
    "# print(\"D = \",D)\n",
    "# print(\"T*R = \", Motor)\n",
    "# print(\"T*R*D = \",(Motor*D))\n",
    "\n",
    "# print(\"=\"*8)\n",
    "# b = (Motor*D)\n",
    "\n",
    "# # you know R\n",
    "# print(b(e123).normal())\n",
    "# print(b(e45).normal())\n",
    "\n",
    "# print(e45*e45)\n",
    "\n",
    "# print(Motor[0])\n",
    "# print(Motor[e45])\n",
    "# print(b[0])\n",
    "# print(b[e45])\n",
    "\n",
    "# x = Motor[0]\n",
    "# y = Motor[e45]\n",
    "# z = b[0]\n",
    "\n",
    "# # if you know both T*R and T*R*D yes\n",
    "# print((z-x)/y)\n",
    "# print(D[e45])"
   ]
  },
  {
   "cell_type": "code",
   "execution_count": null,
   "metadata": {},
   "outputs": [],
   "source": [
    "# counting operations - test files\n",
    "\n",
    "# R = axis_angle_to_rotor([2,2,2],-0.7)\n",
    "# T = vector_to_translator([1,5,1])\n",
    "# D = scale_to_dilator(2)\n",
    "\n",
    "# C = up_vertex([1,2,3])\n",
    "# print(T)\n",
    "# print(R)\n",
    "# print(D)\n",
    "# print(C)\n",
    "# print(\"=\"*10)\n",
    "# print(e14*e12)\n",
    "# print(e15*e12)\n",
    "# print(e24*e12)\n",
    "# print(e34*e12)\n",
    "# print(e35*e12)\n",
    "# print(e14*e12*e45)\n",
    "# print(e15*e12*e45)\n",
    "# print(e24*e12*e45)\n",
    "# print(e34*e12*e45)\n",
    "# print(e35*e12*e45)\n",
    "# print(e14*e12*e45*e1)\n",
    "# print(e15*e12*e45*e1)\n",
    "# print(e24*e12*e45*e1)\n",
    "# print(e34*e12*e45*e1)\n",
    "# print(e35*e12*e45*e1)\n",
    "# print(e14*e12*e45*e4)\n",
    "# print(e15*e12*e45*e4)\n",
    "# print(e24*e12*e45*e4)\n",
    "# print(e34*e12*e45*e4)\n",
    "# print(e35*e12*e45*e4)\n",
    "# print(e14*e12*e45*e5)\n",
    "# print(e15*e12*e45*e5)\n",
    "# print(e24*e12*e45*e5)\n",
    "# print(e34*e12*e45*e5)\n",
    "# print(e35*e12*e45*e5)\n",
    "\n",
    "# M = T*R*D\n",
    "# print(M)\n",
    "# M2 = ~M\n",
    "# print(M2)\n",
    "# M3 = (~D)*(~R)*(~T)\n",
    "# print(M2-M3)\n",
    "\n",
    "\n",
    "# print(\"=\"*10)\n",
    "# print(C)\n",
    "# print(D)\n",
    "# print(~D)\n",
    "# print(D*C*~D)\n",
    "\n",
    "# print(\"=\"*10)\n",
    "# print(down(C))\n",
    "# print(down(R*C*~R))\n",
    "# print(R*down(C)*~R)\n",
    "# print(\"=\"*10)\n",
    "# print(down(C))\n",
    "# print(down(T*C*~T))\n",
    "# print(T*down(C)*~T)\n",
    "\n",
    "\n",
    "# print(D*C)\n",
    "\n",
    "# print(T)\n",
    "# print(~T)\n",
    "# print(C)\n",
    "# # print(e45*e5)\n",
    "# # print(eo*einf)\n",
    "# # print(eo*einf*eo)\n",
    "# # print((eo*einf*e3)*(eo*einf))\n",
    "# print(T*C)"
   ]
  },
  {
   "cell_type": "code",
   "execution_count": null,
   "metadata": {},
   "outputs": [],
   "source": []
  }
 ],
 "metadata": {
  "kernelspec": {
   "display_name": "Python 3.7.13 ('py37')",
   "language": "python",
   "name": "python3"
  },
  "language_info": {
   "codemirror_mode": {
    "name": "ipython",
    "version": 3
   },
   "file_extension": ".py",
   "mimetype": "text/x-python",
   "name": "python",
   "nbconvert_exporter": "python",
   "pygments_lexer": "ipython3",
   "version": "3.7.13"
  },
  "vscode": {
   "interpreter": {
    "hash": "be3795a449b7d3ee040a08a68c6e604889ad0ef22ea54062c84e7b7ad6d735c9"
   }
  }
 },
 "nbformat": 4,
 "nbformat_minor": 4
}
