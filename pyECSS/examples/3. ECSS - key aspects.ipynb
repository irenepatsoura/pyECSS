{
 "cells": [
  {
   "cell_type": "markdown",
   "metadata": {},
   "source": [
    "# Key aspects of ECSS"
   ]
  },
  {
   "cell_type": "markdown",
   "metadata": {},
   "source": [
    "## 1. Creating an ECS scene"
   ]
  },
  {
   "cell_type": "markdown",
   "metadata": {},
   "source": [
    "Initially, we should load our basic libraries, using the following code."
   ]
  },
  {
   "cell_type": "code",
   "execution_count": 1,
   "metadata": {},
   "outputs": [
    {
     "name": "stderr",
     "output_type": "stream",
     "text": [
      "UserWarning: Using SDL2 binaries from pysdl2-dll 2.0.22.post1\n"
     ]
    }
   ],
   "source": [
    "import numpy as np\n",
    "\n",
    "import pyECSS.utilities as util\n",
    "from pyECSS.Entity import Entity\n",
    "from pyECSS.Component import BasicTransform, Camera, RenderMesh\n",
    "from pyECSS.System import System, TransformSystem, CameraSystem, RenderSystem\n",
    "from pyGLV.GL.Scene import Scene\n",
    "from pyECSS.ECSSManager import ECSSManager\n",
    "\n",
    "from pyGLV.GL.Shader import InitGLShaderSystem, Shader, ShaderGLDecorator, RenderGLShaderSystem\n",
    "from pyGLV.GL.VertexArray import VertexArray"
   ]
  },
  {
   "cell_type": "markdown",
   "metadata": {},
   "source": [
    "After deciding the scenegraph in our mind we can easily create the respective tree in pyglGA. For example, suppose we have the following scene in mind:\n",
    "\n",
    "![scenegraph-example.png](./Files_for_notebooks/scenegraph-example.png)"
   ]
  },
  {
   "cell_type": "markdown",
   "metadata": {},
   "source": [
    "The code implementing it is the following:"
   ]
  },
  {
   "cell_type": "code",
   "execution_count": 2,
   "metadata": {},
   "outputs": [
    {
     "name": "stdout",
     "output_type": "stream",
     "text": [
      "Creating Scene Singleton Object\n",
      "Creating Scene Singleton Object\n"
     ]
    }
   ],
   "source": [
    "scene = Scene()    \n",
    "\n",
    "# Scenegraph with Entities, Components\n",
    "rootEntity = scene.world.createEntity(Entity(name=\"Root\"))\n",
    "entityCam1 = scene.world.createEntity(Entity(name=\"entityCam1\"))\n",
    "scene.world.addEntityChild(rootEntity, entityCam1)\n",
    "trans1 = scene.world.addComponent(entityCam1, BasicTransform(name=\"trans1\", trs=util.identity()))\n",
    "\n",
    "entityCam2 = scene.world.createEntity(Entity(name=\"entityCam2\"))\n",
    "scene.world.addEntityChild(entityCam1, entityCam2)\n",
    "trans2 = scene.world.addComponent(entityCam2, BasicTransform(name=\"trans2\", trs=util.identity()))\n",
    "orthoCam = scene.world.addComponent(entityCam2, Camera(util.ortho(-100.0, 100.0, -100.0, 100.0, 1.0, 100.0), \"orthoCam\",\"Camera\",\"500\"))\n",
    "\n",
    "node4 = scene.world.createEntity(Entity(name=\"node4\"))\n",
    "scene.world.addEntityChild(rootEntity, node4)\n",
    "trans4 = scene.world.addComponent(node4, BasicTransform(name=\"trans4\", trs=util.identity()))\n",
    "mesh4 = scene.world.addComponent(node4, RenderMesh(name=\"mesh4\"))"
   ]
  },
  {
   "cell_type": "markdown",
   "metadata": {},
   "source": [
    "Note that we easile created the entities with the `createEntity` command and attached to their respective parent with the `addEntityChild`. The `addComponent` command adds various components (e.g., `BasicTransform`, `Camera`, `RenderMesh`) to the entities. \n",
    "\n",
    "For more details/variations/functions that regard these components, check `Component.py` in `ECSS` folder. "
   ]
  },
  {
   "cell_type": "markdown",
   "metadata": {},
   "source": [
    "Let us now create the geometry of the `node4` entity. For example, suppose we want a cube. "
   ]
  },
  {
   "cell_type": "code",
   "execution_count": 3,
   "metadata": {},
   "outputs": [],
   "source": [
    "vertexCube = np.array([\n",
    "            [-0.5, -0.5, 0.5, 1.0],\n",
    "            [-0.5, 0.5, 0.5, 1.0],\n",
    "            [0.5, 0.5, 0.5, 1.0],\n",
    "            [0.5, -0.5, 0.5, 1.0], \n",
    "            [-0.5, -0.5, -0.5, 1.0], \n",
    "            [-0.5, 0.5, -0.5, 1.0], \n",
    "            [0.5, 0.5, -0.5, 1.0], \n",
    "            [0.5, -0.5, -0.5, 1.0]\n",
    "        ],dtype=np.float32) \n",
    "colorCube = np.array([\n",
    "            [0.0, 0.0, 0.0, 1.0],\n",
    "            [1.0, 0.0, 0.0, 1.0],\n",
    "            [1.0, 1.0, 0.0, 1.0],\n",
    "            [0.0, 1.0, 0.0, 1.0],\n",
    "            [0.0, 0.0, 1.0, 1.0],\n",
    "            [1.0, 0.0, 1.0, 1.0],\n",
    "            [1.0, 1.0, 1.0, 1.0],\n",
    "            [0.0, 1.0, 1.0, 1.0]\n",
    "        ], dtype=np.float32)\n",
    "        \n",
    "\n",
    "indexCube = np.array((1,0,3, 1,3,2, \n",
    "                          2,3,7, 2,7,6,\n",
    "                          3,0,4, 3,4,7,\n",
    "                          6,5,1, 6,1,2,\n",
    "                          4,5,6, 4,6,7,\n",
    "                          5,4,0, 5,0,1), np.uint32) #rhombus out of two triangles"
   ]
  },
  {
   "cell_type": "markdown",
   "metadata": {},
   "source": [
    "We shall now add the Systems that parse the Scenegraph. "
   ]
  },
  {
   "cell_type": "code",
   "execution_count": 4,
   "metadata": {},
   "outputs": [],
   "source": [
    "transUpdate = scene.world.createSystem(TransformSystem(\"transUpdate\", \"TransformSystem\", \"001\"))\n",
    "camUpdate = scene.world.createSystem(CameraSystem(\"camUpdate\", \"CameraUpdate\", \"200\"))\n",
    "renderUpdate = scene.world.createSystem(RenderGLShaderSystem())\n",
    "initUpdate = scene.world.createSystem(InitGLShaderSystem())"
   ]
  },
  {
   "cell_type": "code",
   "execution_count": 5,
   "metadata": {},
   "outputs": [],
   "source": [
    "model = util.translate(0.0,0.0,0.5)\n",
    "eye = util.vec(0.0, 0.0, 5.0)\n",
    "target = util.vec(0,0,0)\n",
    "up = util.vec(0.0, 1.0, 0.0)\n",
    "view = util.lookat(eye, target, up)\n",
    "#projMat = util.frustum(-10.0, 10.0,-10.0,10.0, -1.0, 10)\n",
    "projMat = util.perspective(120.0, 1.33, 0.1, 100.0)\n",
    "# projMat = util.ortho(-100.0, 100.0, -100.0, 100.0, -0.5, 100.0)\n",
    "#projMat = util.ortho(-5.0, 5.0, -5.0, 5.0, 0.1, 100.0)\n",
    "#mvpMat = projMat @ view @ model\n",
    "mvpMat = model @ view @ projMat\n",
    "\n",
    "# decorated components and systems with sample, default pass-through shader with uniform MVP\n",
    "shaderDec4 = scene.world.addComponent(node4, ShaderGLDecorator(Shader(vertex_source = Shader.COLOR_VERT_MVP, fragment_source=Shader.COLOR_FRAG)))\n",
    "shaderDec4.setUniformVariable(key='modelViewProj', value=mvpMat, mat4=True)\n",
    "\n",
    "# attach a simple cube in a RenderMesh so that VertexArray can pick it up\n",
    "mesh4.vertex_attributes.append(vertexCube)\n",
    "mesh4.vertex_attributes.append(colorCube)\n",
    "mesh4.vertex_index.append(indexCube)\n",
    "vArray4 = scene.world.addComponent(node4, VertexArray())\n",
    "\n",
    "# \n"
   ]
  },
  {
   "cell_type": "markdown",
   "metadata": {},
   "source": [
    "We may check that these entities, compononets and systems are correctly registered by running:"
   ]
  },
  {
   "cell_type": "code",
   "execution_count": 6,
   "metadata": {
    "scrolled": true
   },
   "outputs": [
    {
     "name": "stdout",
     "output_type": "stream",
     "text": [
      "--------------------------------------_entities_components {}---------------------------------------\n",
      "Root\n",
      "\t :: entityCam1\n",
      "\t :: node4\n",
      "entityCam1\n",
      "\t :: trans1\n",
      "\t :: entityCam2\n",
      "entityCam2\n",
      "\t :: trans2\n",
      "\t :: orthoCam\n",
      "node4\n",
      "\t :: trans4\n",
      "\t :: mesh4\n",
      "\t :: ShaderGLDecorator\n",
      "\t :: VertexArray\n",
      "--------------------------------------------_entities []--------------------------------------------\n",
      "\n",
      " Entity name: Root, type: Entity, id: 43129121412622606656695471098656985378, parent: None (root node)\n",
      "\n",
      " Entity name: entityCam1, type: Entity, id: 43129209355882997490110199932441858338, parent: Root\n",
      "\n",
      " Entity name: entityCam2, type: Entity, id: 43129397126628156296590296631604154658, parent: entityCam1\n",
      "\n",
      " Entity name: node4, type: Entity, id: 43129972323088009855681225760683594018, parent: Root\n",
      "-------------------------------------------_components []-------------------------------------------\n",
      "trans1 <-- entityCam1\n",
      "trans2 <-- entityCam2\n",
      "trans4 <-- node4\n",
      "mesh4 <-- node4\n",
      "ShaderGLDecorator <-- node4\n",
      "VertexArray <-- node4\n",
      "--------------------------------------------_systems []---------------------------------------------\n",
      "<pyECSS.System.TransformSystem object at 0x7fd2e9160c10>\n",
      "<pyECSS.System.CameraSystem object at 0x7fd2e9160be0>\n",
      "<pyGLV.GL.Shader.RenderGLShaderSystem object at 0x7fd2e9160610>\n",
      "<pyGLV.GL.Shader.InitGLShaderSystem object at 0x7fd2e9160520>\n",
      "--------------------------------------------_cameras []---------------------------------------------\n",
      "\n",
      " Camera name: orthoCam, type: Camera, id: 500, parent: entityCam2, \n",
      " projMat: \n",
      "[[ 0.01        0.          0.         -0.        ]\n",
      " [ 0.          0.01        0.         -0.        ]\n",
      " [ 0.          0.         -0.02020202 -1.02020202]\n",
      " [ 0.          0.          0.          1.        ]],\n",
      " root2cam: \n",
      "[[1. 0. 0. 0.]\n",
      " [0. 1. 0. 0.]\n",
      " [0. 0. 1. 0.]\n",
      " [0. 0. 0. 1.]]\n"
     ]
    }
   ],
   "source": [
    "scene.world.print()"
   ]
  },
  {
   "cell_type": "markdown",
   "metadata": {},
   "source": [
    "## 2 Running the ECSS\n",
    "__Note:__ You may have to \"force quit\" the python window or/and the kernel may crash/restart!"
   ]
  },
  {
   "cell_type": "code",
   "execution_count": 7,
   "metadata": {},
   "outputs": [
    {
     "name": "stdout",
     "output_type": "stream",
     "text": [
      "mark 1\n",
      "SDL2Window: init()\n",
      "OpenGL 4.1 ATI-4.8.101 GLSL 4.10 Renderer AMD Radeon Pro 5500M OpenGL Engine\n",
      "Yay! ImGUI context created successfully\n",
      "ImGUIDecorator: init()\n",
      "mark 2\n",
      "\n",
      "\n",
      " RenderMesh name: mesh4, type: RenderMesh, id: 43130113349217285246202142268915192098, parent: node4, vertex_attributes: \n",
      "[array([[-0.5, -0.5,  0.5,  1. ],\n",
      "       [-0.5,  0.5,  0.5,  1. ],\n",
      "       [ 0.5,  0.5,  0.5,  1. ],\n",
      "       [ 0.5, -0.5,  0.5,  1. ],\n",
      "       [-0.5, -0.5, -0.5,  1. ],\n",
      "       [-0.5,  0.5, -0.5,  1. ],\n",
      "       [ 0.5,  0.5, -0.5,  1. ],\n",
      "       [ 0.5, -0.5, -0.5,  1. ]], dtype=float32), array([[0., 0., 0., 1.],\n",
      "       [1., 0., 0., 1.],\n",
      "       [1., 1., 0., 1.],\n",
      "       [0., 1., 0., 1.],\n",
      "       [0., 0., 1., 1.],\n",
      "       [1., 0., 1., 1.],\n",
      "       [1., 1., 1., 1.],\n",
      "       [0., 1., 1., 1.]], dtype=float32)] accessed within InitGLShaderSystem::apply2RenderMesh() \n",
      "\n",
      "Compile shader success for GL_VERTEX_SHADER (GL_VERTEX_SHADER)\n",
      "1\n",
      "<generator object Shader._compile_shader.<locals>.<genexpr> at 0x7fd2e915ff90>\n",
      "Compile shader success for GL_FRAGMENT_SHADER (GL_FRAGMENT_SHADER)\n",
      "1\n",
      "<generator object Shader._compile_shader.<locals>.<genexpr> at 0x7fd2e915ff20>\n",
      "\n",
      "\n",
      " ShaderGLDecorator name: ShaderGLDecorator, type: ShaderGLDecorator, id: 53130840280652328646475407004461437218, parent: node4 accessed within InitGLShaderSystem::apply2ShaderGLDecorator() \n",
      "\n",
      "\n",
      "\n",
      " VertexArray name: VertexArray, type: VertexArray, id: 53130998736977357175150594092362109218, parent: node4 accessed within InitGLShaderSystem::apply2RenderMesh() \n",
      "\n",
      "SDL2Window: shutdown()\n",
      "RenderDecorator: shutdown()\n",
      "-----------------------------------TestScene:test_renderCube END------------------------------------\n"
     ]
    },
    {
     "name": "stderr",
     "output_type": "stream",
     "text": [
      "2022-08-25 21:53:20.508 python[32968:1033800] TSM AdjustCapsLockLEDForKeyTransitionHandling - _ISSetPhysicalKeyboardCapsLockLED Inhibit\n"
     ]
    }
   ],
   "source": [
    "running = True\n",
    "# MAIN RENDERING LOOP\n",
    "scene.init(imgui=True, windowWidth = 1024, windowHeight = 768, windowTitle = \"pyglGA Cube Scene\")\n",
    "\n",
    "# pre-pass scenegraph to initialise all GL context dependent geometry, shader classes\n",
    "# needs an active GL context\n",
    "scene.world.traverse_visit(initUpdate, scene.world.root)\n",
    "\n",
    "while running:\n",
    "    running = scene.render(running)\n",
    "    scene.world.traverse_visit(renderUpdate, scene.world.root)\n",
    "    scene.render_post()\n",
    "\n",
    "scene.shutdown()\n",
    "\n",
    "\n",
    "print(\"TestScene:test_renderCube END\".center(100, '-'))"
   ]
  }
 ],
 "metadata": {
  "kernelspec": {
   "display_name": "Python 3.9.13 ('py39')",
   "language": "python",
   "name": "python3"
  },
  "language_info": {
   "codemirror_mode": {
    "name": "ipython",
    "version": 3
   },
   "file_extension": ".py",
   "mimetype": "text/x-python",
   "name": "python",
   "nbconvert_exporter": "python",
   "pygments_lexer": "ipython3",
   "version": "3.9.13"
  },
  "vscode": {
   "interpreter": {
    "hash": "2fff41fc0693b5172025f634459bec6fb3a6d0338e02e60afa2c3fd8f55700c6"
   }
  }
 },
 "nbformat": 4,
 "nbformat_minor": 4
}
