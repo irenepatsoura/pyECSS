{
 "cells": [
  {
   "cell_type": "code",
   "execution_count": null,
   "metadata": {},
   "outputs": [],
   "source": []
  },
  {
   "cell_type": "markdown",
   "metadata": {},
   "source": [
    "# Conversions Between Different Type of Rotations and Translations"
   ]
  },
  {
   "cell_type": "markdown",
   "metadata": {},
   "source": [
    "# Rotations"
   ]
  },
  {
   "cell_type": "markdown",
   "metadata": {},
   "source": [
    "## 1. From a 4x4 matrix to Quaternion\n"
   ]
  },
  {
   "cell_type": "markdown",
   "metadata": {},
   "source": [
    "To rotate a point in 3D space the BasicTransform class originally used a 4x4 matrix.\n",
    "The class decorator can rotate that point by also using a quaternion. In order to do that we coverted the rotation matrix into a quaternion and then we applied the formula of the quaternion rotation."
   ]
  },
  {
   "cell_type": "markdown",
   "metadata": {},
   "source": [
    "## 2. From a 4x4 matrix to Multivector"
   ]
  },
  {
   "cell_type": "markdown",
   "metadata": {},
   "source": [
    "The class decorator can also rotate a point in 3D space by using multivectors. We implemented that feature by taking the point we want to rotate and the rotation angle. We calculated the Rotor and from that we can easily find the final rotation."
   ]
  },
  {
   "cell_type": "markdown",
   "metadata": {},
   "source": [
    "# Translations "
   ]
  },
  {
   "cell_type": "markdown",
   "metadata": {},
   "source": [
    "## 1. From a 4x4 matrix to Vector"
   ]
  },
  {
   "cell_type": "markdown",
   "metadata": {},
   "source": [
    "The class BasicTranform translates 3D points only by using a 4x4 matrix. The decorated class can also perform a translation with vectors. For that we just need to sum the coordinates of the translation vector with the original point."
   ]
  },
  {
   "cell_type": "markdown",
   "metadata": {},
   "source": [
    "## 2. From a 4x4 matrix to Dual Quaternion"
   ]
  },
  {
   "cell_type": "markdown",
   "metadata": {},
   "source": [
    "We can also operate the translation of a point with Dual Quaternions. First we calculate 3 quaternions. One for original point, one for the translation and one identity quaternion. Then we can create dual quaternion entities, from those 3 quaternions, to perform our translation."
   ]
  }
 ],
 "metadata": {
  "kernelspec": {
   "display_name": "Python 3.9.13 ('py39')",
   "language": "python",
   "name": "python3"
  },
  "language_info": {
   "name": "python",
   "version": "3.9.13"
  },
  "orig_nbformat": 4,
  "vscode": {
   "interpreter": {
    "hash": "2fff41fc0693b5172025f634459bec6fb3a6d0338e02e60afa2c3fd8f55700c6"
   }
  }
 },
 "nbformat": 4,
 "nbformat_minor": 2
}
