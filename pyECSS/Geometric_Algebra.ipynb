{
 "cells": [
  {
   "cell_type": "code",
   "execution_count": null,
   "metadata": {},
   "outputs": [],
   "source": []
  },
  {
   "cell_type": "markdown",
   "metadata": {},
   "source": [
    "# Different Representations of Transformations in Geometric Algebra"
   ]
  },
  {
   "cell_type": "markdown",
   "metadata": {},
   "source": [
    "## 1. Rotation Matrices"
   ]
  },
  {
   "cell_type": "markdown",
   "metadata": {},
   "source": [
    "A rotation matrix can be defined as a transformation matrix that operates on a vector and produces a rotated vector such that the coordinate axes always remain fixed. These matrices rotate a vector in the counterclockwise direction by an angle θ. A rotation matrix is always a square matrix with real entities. This implies that it will always have an equal number of rows and columns. Moreover, rotation matrices are orthogonal matrices with a determinant equal to 1.\n",
    "\n",
    "\n",
    "\n",
    "soucrce: https://www.cuemath.com/algebra/rotation-matrix/"
   ]
  },
  {
   "cell_type": "markdown",
   "metadata": {},
   "source": [
    "## 2. Euler Angles"
   ]
  },
  {
   "cell_type": "markdown",
   "metadata": {},
   "source": [
    "The Euler angles are three angles to describe the orientation of a rigid body with respect to a fixed coordinate system. The principal tool in geometric algebra is the rotor R =[cos(θ/2)−Iusin(θ/2)] where θ  = angle of rotations, u is the rotations axis (unitary vector) and I is the pseudoscalar (trivector in R^3)\n",
    "\n",
    "\n",
    "source: https://en.wikipedia.org/wiki/Euler_angles"
   ]
  },
  {
   "cell_type": "markdown",
   "metadata": {},
   "source": [
    "## 3. Quaternions"
   ]
  },
  {
   "cell_type": "markdown",
   "metadata": {},
   "source": [
    "A quaternion can be defined as the quotient of two directed lines in a three-dimensional space, or, equivalently, as the quotient of two vectors. Quaternions are generally represented in the form: a + bi + cj + dk\n",
    "where a, b, c, and d are real numbers; and i, j, and k are the basic quaternions. Quaternions have practical uses in applied mathematics, particularly for calculations involving three-dimensional rotations. They can be used alongside other methods of rotation, such as Euler angles and rotation matrices, or as an alternative to them, depending on the application.\n",
    "\n",
    "source: https://en.wikipedia.org/wiki/Quaternion"
   ]
  },
  {
   "cell_type": "markdown",
   "metadata": {},
   "source": [
    "## 4. Dual Quaternions"
   ]
  },
  {
   "cell_type": "markdown",
   "metadata": {},
   "source": [
    "Dual quaternions are an 8-dimensional real algebra isomorphic to the tensor product of the quaternions and the dual numbers. Thus, they may be constructed in the same way as the quaternions, except using dual numbers instead of real numbers as coefficients. A dual quaternion can be represented in the form A + εB, where A and B are ordinary quaternions and ε is the dual unit, which satisfies ε2 = 0 and commutes with every element of the algebra. Similar to the way that rotations in 3d space can be represented by quaternions of unit length, rigid motions in 3d space can be represented by dual quaternions of unit length. Rigid transformations, can be each represented with eight scalar variables, and combined through concatenation. Smooth constant interpolation between two rigid transformations can also be achieved effortlessly using Dual quaternion algebra.\n",
    "\n",
    "sources: https://faculty.sites.iastate.edu/jia/files/inline-files/dual-quaternion.pdf\n",
    "https://faculty.sites.iastate.edu/jia/files/inline-files/dual-quaternion.pdf"
   ]
  },
  {
   "cell_type": "markdown",
   "metadata": {},
   "source": [
    "## 5. Multivectors"
   ]
  },
  {
   "cell_type": "markdown",
   "metadata": {},
   "source": [
    "In multilinear algebra, a multivector or Clifford number is an element of the exterior algebra on a vector space, Λ*V. This algebra consists of linear combinations of simple k-vectors \"Multivector\" may mean either homogeneous elements, which are referred to as k-vectors or p-vectors, or may allow sums of terms in different degrees. The k-th exterior power, is the vector space of formal sums of k-multivectors. The product of a k-multivector and an ℓ-multivector is a-multivector. So, the direct sum forms an associative algebra, which is closed with respect to the wedge product. This algebra, commonly denoted by Λ, is called the exterior algebra of V. In differential geometry, a p-vector is the tensor obtained by taking linear combinations of the wedge product of p tangent vectors, for some integer p ≥ 0. It is the dual concept to a p-form. For p = 0, 1, 2 and 3, these are often called respectively scalars, vectors, bivectors and trivectors; they are respectively dual to 0-forms, 1-forms, 2-forms and 3-forms.\n",
    "\n",
    "source: https://www.definitions.net/definition/Multivector"
   ]
  },
  {
   "cell_type": "markdown",
   "metadata": {},
   "source": [
    "## 6. Homogeneous Coordinates\n"
   ]
  },
  {
   "cell_type": "markdown",
   "metadata": {},
   "source": [
    "Homogeneous coordinates or projective coordinates are a system of coordinates used in projective geometry, just as Cartesian coordinates are used in Euclidean geometry. They have the advantage that the coordinates of points, including points at infinity, can be represented using finite coordinates. If homogeneous coordinates of a point are multiplied by a non-zero scalar then the resulting coordinates represent the same point. Since homogeneous coordinates are also given to points at infinity, the number of coordinates required to allow this extension is one more than the dimension of the projective space being considered.\n",
    "\n",
    "source: https://en.wikipedia.org/wiki/Homogeneous_coordinates#:~:text=To%20summarize%3A,multiplied%20by%20a%20common%20factor"
   ]
  },
  {
   "cell_type": "markdown",
   "metadata": {},
   "source": [
    "As we can see, all these types of tranformations are somehow related to one another. But depending on how WE want to use them, sometimes it makes more sense to use one instead of the others. So we would want to be able to go from one type to another very easily. That's what the implementations below show us."
   ]
  },
  {
   "cell_type": "markdown",
   "metadata": {},
   "source": [
    "## From Rotation Matrix to Quaternion"
   ]
  },
  {
   "cell_type": "markdown",
   "metadata": {},
   "source": [
    "Below we can see an implementation of how we can convert an 4x4 rotation matrix to a quaternion in order perform our rotation"
   ]
  },
  {
   "cell_type": "code",
   "execution_count": null,
   "metadata": {},
   "outputs": [],
   "source": [
    "from numbers import Number"
   ]
  },
  {
   "cell_type": "code",
   "execution_count": null,
   "metadata": {},
   "outputs": [],
   "source": [
    "import numpy as np"
   ]
  },
  {
   "cell_type": "code",
   "execution_count": null,
   "metadata": {},
   "outputs": [],
   "source": [
    "def quaternion(self, x=0.0, y=0.0, z=0.0, w=1.0, q=None):\n",
    "        if q is None:\n",
    "            for i in [x, y, z, w]:\n",
    "                assert isinstance(i, Number), \"x, y, z, w should be scalars.\"\n",
    "            q = np.array([x, y, z, w]).T\n",
    "        elif isinstance(q, np.ndarray):\n",
    "            q = q.copy()\n",
    "        else:\n",
    "            print(\"This is not supported. Type of q is {}\".format(type(q)))\n",
    "            assert False\n",
    "        return q"
   ]
  },
  {
   "cell_type": "code",
   "execution_count": null,
   "metadata": {},
   "outputs": [],
   "source": [
    "def rotate_quaternion(self):\n",
    "        \n",
    "        rotation_matrix = self.trs.copy()\n",
    "    \n",
    "        w = np.sqrt(\n",
    "            1.0 + rotation_matrix[0, 0] + rotation_matrix[1, 1] + rotation_matrix[2, 2]) / 2\n",
    "        w4 = 4.0 * w\n",
    "        x = (rotation_matrix[2, 1] - rotation_matrix[1, 2]) / w4\n",
    "        y = (rotation_matrix[0, 2] - rotation_matrix[2, 0]) / w4\n",
    "        z = (rotation_matrix[1, 0] - rotation_matrix[0, 1]) / w4\n",
    "        return self.quaternion(x, y, z, w)"
   ]
  },
  {
   "cell_type": "code",
   "execution_count": null,
   "metadata": {},
   "outputs": [],
   "source": [
    "def rotate_vector(self, vector):\n",
    "    \n",
    "        q = self.rotate_quaternion()\n",
    "        vector_rotated = np.zeros(3)\n",
    "        vector_rotated[0] = ((1 - 2 * q[1]**2 - 2 * q[2]**2) * vector[0] +\n",
    "                            2 * (q[0] * q[1] - q[2] * q[3]) * vector[1] +\n",
    "                            2 * (q[0] * q[2] + q[1] * q[3]) * vector[2])\n",
    "        vector_rotated[1] = (2 * (q[0] * q[1] + q[2] * q[3]) * vector[0] +\n",
    "                            (1 - 2 * q[0]**2 - 2 * q[2]**2) * vector[1] +\n",
    "                            2 * (q[1] * q[2] - q[0] * q[3]) * vector[2])\n",
    "        vector_rotated[2] = (2 * (q[0] * q[2] - q[1] * q[3]) * vector[0] + \n",
    "                            2 * (q[1] * q[2] + q[0] * q[3]) * vector[1] +\n",
    "                            (1 - 2 * q[0]**2 - 2 * q[1]**2) * vector[2])\n",
    "        return vector_rotated.copy()"
   ]
  },
  {
   "cell_type": "markdown",
   "metadata": {},
   "source": [
    "## From Rotation Matrix to Multivector"
   ]
  },
  {
   "cell_type": "markdown",
   "metadata": {},
   "source": [
    "Below we can see an implementation of how we can perform our rotation from using an 4x4 matrix to multivectors.\n"
   ]
  },
  {
   "cell_type": "code",
   "execution_count": null,
   "metadata": {},
   "outputs": [],
   "source": [
    "from clifford.g3 import *"
   ]
  },
  {
   "cell_type": "code",
   "execution_count": null,
   "metadata": {},
   "outputs": [],
   "source": [
    "import math"
   ]
  },
  {
   "cell_type": "code",
   "execution_count": null,
   "metadata": {},
   "outputs": [],
   "source": [
    "def rotate_multivector(self, vec, rot_ang):\n",
    "\n",
    "        u = (e1+e2+e3)\n",
    "        u = u/abs(u) # normalized vector\n",
    "\n",
    "        I3 = e1*e2*e3 # I3, note that *=geometric product\n",
    "\n",
    "        \n",
    "        R = math.e**(-(u*I3)*(rot_ang/2)) # rotor\n",
    "        \n",
    "        assert(R == np.cos(rot_ang/2)-u*I3*np.sin(rot_ang/2))\n",
    "        return R*vec*~R"
   ]
  },
  {
   "cell_type": "markdown",
   "metadata": {},
   "source": [
    "## From Translation Matrix to Vector"
   ]
  },
  {
   "cell_type": "markdown",
   "metadata": {},
   "source": [
    "This implementations shows us how we can convert a translation matrix to a vector"
   ]
  },
  {
   "cell_type": "code",
   "execution_count": null,
   "metadata": {},
   "outputs": [],
   "source": [
    "def trs(self):\n",
    "    \"\"\" Get Component's transform: translation, rotation ,scale \"\"\"\n",
    "    return self._trs"
   ]
  },
  {
   "cell_type": "code",
   "execution_count": null,
   "metadata": {},
   "outputs": [],
   "source": [
    "def trs(self, value):\n",
    "    self._trs = value"
   ]
  },
  {
   "cell_type": "code",
   "execution_count": null,
   "metadata": {},
   "outputs": [],
   "source": [
    "def translation_vec(self):\n",
    "    return self.trs[:3,3]"
   ]
  },
  {
   "cell_type": "code",
   "execution_count": null,
   "metadata": {},
   "outputs": [],
   "source": [
    "def translate_vector(self, tr_v):\n",
    "    coor = self.translation_vec\n",
    "    new_x = tr_v[0] + coor[0]\n",
    "    new_y = tr_v[1] + coor[1]\n",
    "    new_z = tr_v[2] + coor[2]\n",
    "        \n",
    "    new_coor = [new_x , new_y, new_z]\n",
    "    return new_coor"
   ]
  },
  {
   "cell_type": "markdown",
   "metadata": {},
   "source": [
    "## From Translation Matrix to Dual Quaternion"
   ]
  },
  {
   "cell_type": "markdown",
   "metadata": {},
   "source": [
    "Here we can see an implementation of how we can perform our translation using dual quaternion."
   ]
  },
  {
   "cell_type": "code",
   "execution_count": 1,
   "metadata": {},
   "outputs": [],
   "source": [
    "from pyECSS.dual_quaternion import DualQuaternion\n",
    "from pyECSS.quaternion import Quaternion"
   ]
  },
  {
   "cell_type": "code",
   "execution_count": 2,
   "metadata": {},
   "outputs": [],
   "source": [
    "def translate_dual_quaternion(self, point_x=0.0, point_y=0.0, point_z=0.0, t_x=0.0, t_y=0.0, t_z=0.0): \n",
    "        qp = Quaternion(point_x,point_y,point_z,0)\n",
    "        qt = Quaternion(t_x,t_y,t_z,0)\n",
    "        qI = Quaternion(0,0,0,1)\n",
    "        T_dq = DualQuaternion(qI,0.5*qt)\n",
    "        point_dq = DualQuaternion(qI,qp)\n",
    "        T_dq_prime = T_dq.conjugate_translation()\n",
    "        \n",
    "        translated_point_dq = T_dq*point_dq*T_dq_prime\n",
    "        return translated_point_dq.q_dual.q[0:3]\n",
    "        "
   ]
  }
 ],
 "metadata": {
  "kernelspec": {
   "display_name": "Python 3.9.13 ('py39')",
   "language": "python",
   "name": "python3"
  },
  "language_info": {
   "codemirror_mode": {
    "name": "ipython",
    "version": 3
   },
   "file_extension": ".py",
   "mimetype": "text/x-python",
   "name": "python",
   "nbconvert_exporter": "python",
   "pygments_lexer": "ipython3",
   "version": "3.9.13"
  },
  "orig_nbformat": 4,
  "vscode": {
   "interpreter": {
    "hash": "2fff41fc0693b5172025f634459bec6fb3a6d0338e02e60afa2c3fd8f55700c6"
   }
  }
 },
 "nbformat": 4,
 "nbformat_minor": 2
}
